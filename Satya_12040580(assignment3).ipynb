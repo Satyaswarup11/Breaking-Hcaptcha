{
  "nbformat": 4,
  "nbformat_minor": 0,
  "metadata": {
    "colab": {
      "provenance": [],
      "collapsed_sections": [
        "4S0V85ymEB7B",
        "vjz_Z6KsKK3w",
        "NPOz_3pNS_IX"
      ],
      "toc_visible": true
    },
    "kernelspec": {
      "name": "python3",
      "display_name": "Python 3"
    },
    "language_info": {
      "name": "python"
    }
  },
  "cells": [
    {
      "cell_type": "markdown",
      "source": [
        "Name:Gottapu Leela satya swarup sai \\\n",
        "Id:1240580 \\\n",
        "References :\\\n",
        "1) https://medium.datadriveninvestor.com/load-in-image-classification-data-e2dfec6dfcb6 \\\n",
        "\n",
        "2) https://www.youtube.com/watch?v=dw96S_iFFbI&ab_channel=DiazonicLabs \\\n",
        "3) https://youtu.be/dekEzUib7tA"
      ],
      "metadata": {
        "id": "6zwocZ3iKbd1"
      }
    },
    {
      "cell_type": "markdown",
      "source": [
        "#NYC_NEURAL"
      ],
      "metadata": {
        "id": "4S0V85ymEB7B"
      }
    },
    {
      "cell_type": "code",
      "source": [],
      "metadata": {
        "id": "HiPtBvddDFgU"
      },
      "execution_count": 124,
      "outputs": []
    },
    {
      "cell_type": "code",
      "execution_count": 125,
      "metadata": {
        "id": "2mKnZ_Qty0gi"
      },
      "outputs": [],
      "source": [
        "!pip install -q kaggle"
      ]
    },
    {
      "cell_type": "code",
      "execution_count": 126,
      "metadata": {
        "colab": {
          "base_uri": "https://localhost:8080/",
          "height": 91
        },
        "id": "kf5iVtIiy6um",
        "outputId": "8681a2c6-c700-446e-f833-3ed86b1b1e88"
      },
      "outputs": [
        {
          "output_type": "display_data",
          "data": {
            "text/plain": [
              "<IPython.core.display.HTML object>"
            ],
            "text/html": [
              "\n",
              "     <input type=\"file\" id=\"files-9b6f4cda-c1af-4ccf-9cd2-d771f28807ff\" name=\"files[]\" multiple disabled\n",
              "        style=\"border:none\" />\n",
              "     <output id=\"result-9b6f4cda-c1af-4ccf-9cd2-d771f28807ff\">\n",
              "      Upload widget is only available when the cell has been executed in the\n",
              "      current browser session. Please rerun this cell to enable.\n",
              "      </output>\n",
              "      <script>// Copyright 2017 Google LLC\n",
              "//\n",
              "// Licensed under the Apache License, Version 2.0 (the \"License\");\n",
              "// you may not use this file except in compliance with the License.\n",
              "// You may obtain a copy of the License at\n",
              "//\n",
              "//      http://www.apache.org/licenses/LICENSE-2.0\n",
              "//\n",
              "// Unless required by applicable law or agreed to in writing, software\n",
              "// distributed under the License is distributed on an \"AS IS\" BASIS,\n",
              "// WITHOUT WARRANTIES OR CONDITIONS OF ANY KIND, either express or implied.\n",
              "// See the License for the specific language governing permissions and\n",
              "// limitations under the License.\n",
              "\n",
              "/**\n",
              " * @fileoverview Helpers for google.colab Python module.\n",
              " */\n",
              "(function(scope) {\n",
              "function span(text, styleAttributes = {}) {\n",
              "  const element = document.createElement('span');\n",
              "  element.textContent = text;\n",
              "  for (const key of Object.keys(styleAttributes)) {\n",
              "    element.style[key] = styleAttributes[key];\n",
              "  }\n",
              "  return element;\n",
              "}\n",
              "\n",
              "// Max number of bytes which will be uploaded at a time.\n",
              "const MAX_PAYLOAD_SIZE = 100 * 1024;\n",
              "\n",
              "function _uploadFiles(inputId, outputId) {\n",
              "  const steps = uploadFilesStep(inputId, outputId);\n",
              "  const outputElement = document.getElementById(outputId);\n",
              "  // Cache steps on the outputElement to make it available for the next call\n",
              "  // to uploadFilesContinue from Python.\n",
              "  outputElement.steps = steps;\n",
              "\n",
              "  return _uploadFilesContinue(outputId);\n",
              "}\n",
              "\n",
              "// This is roughly an async generator (not supported in the browser yet),\n",
              "// where there are multiple asynchronous steps and the Python side is going\n",
              "// to poll for completion of each step.\n",
              "// This uses a Promise to block the python side on completion of each step,\n",
              "// then passes the result of the previous step as the input to the next step.\n",
              "function _uploadFilesContinue(outputId) {\n",
              "  const outputElement = document.getElementById(outputId);\n",
              "  const steps = outputElement.steps;\n",
              "\n",
              "  const next = steps.next(outputElement.lastPromiseValue);\n",
              "  return Promise.resolve(next.value.promise).then((value) => {\n",
              "    // Cache the last promise value to make it available to the next\n",
              "    // step of the generator.\n",
              "    outputElement.lastPromiseValue = value;\n",
              "    return next.value.response;\n",
              "  });\n",
              "}\n",
              "\n",
              "/**\n",
              " * Generator function which is called between each async step of the upload\n",
              " * process.\n",
              " * @param {string} inputId Element ID of the input file picker element.\n",
              " * @param {string} outputId Element ID of the output display.\n",
              " * @return {!Iterable<!Object>} Iterable of next steps.\n",
              " */\n",
              "function* uploadFilesStep(inputId, outputId) {\n",
              "  const inputElement = document.getElementById(inputId);\n",
              "  inputElement.disabled = false;\n",
              "\n",
              "  const outputElement = document.getElementById(outputId);\n",
              "  outputElement.innerHTML = '';\n",
              "\n",
              "  const pickedPromise = new Promise((resolve) => {\n",
              "    inputElement.addEventListener('change', (e) => {\n",
              "      resolve(e.target.files);\n",
              "    });\n",
              "  });\n",
              "\n",
              "  const cancel = document.createElement('button');\n",
              "  inputElement.parentElement.appendChild(cancel);\n",
              "  cancel.textContent = 'Cancel upload';\n",
              "  const cancelPromise = new Promise((resolve) => {\n",
              "    cancel.onclick = () => {\n",
              "      resolve(null);\n",
              "    };\n",
              "  });\n",
              "\n",
              "  // Wait for the user to pick the files.\n",
              "  const files = yield {\n",
              "    promise: Promise.race([pickedPromise, cancelPromise]),\n",
              "    response: {\n",
              "      action: 'starting',\n",
              "    }\n",
              "  };\n",
              "\n",
              "  cancel.remove();\n",
              "\n",
              "  // Disable the input element since further picks are not allowed.\n",
              "  inputElement.disabled = true;\n",
              "\n",
              "  if (!files) {\n",
              "    return {\n",
              "      response: {\n",
              "        action: 'complete',\n",
              "      }\n",
              "    };\n",
              "  }\n",
              "\n",
              "  for (const file of files) {\n",
              "    const li = document.createElement('li');\n",
              "    li.append(span(file.name, {fontWeight: 'bold'}));\n",
              "    li.append(span(\n",
              "        `(${file.type || 'n/a'}) - ${file.size} bytes, ` +\n",
              "        `last modified: ${\n",
              "            file.lastModifiedDate ? file.lastModifiedDate.toLocaleDateString() :\n",
              "                                    'n/a'} - `));\n",
              "    const percent = span('0% done');\n",
              "    li.appendChild(percent);\n",
              "\n",
              "    outputElement.appendChild(li);\n",
              "\n",
              "    const fileDataPromise = new Promise((resolve) => {\n",
              "      const reader = new FileReader();\n",
              "      reader.onload = (e) => {\n",
              "        resolve(e.target.result);\n",
              "      };\n",
              "      reader.readAsArrayBuffer(file);\n",
              "    });\n",
              "    // Wait for the data to be ready.\n",
              "    let fileData = yield {\n",
              "      promise: fileDataPromise,\n",
              "      response: {\n",
              "        action: 'continue',\n",
              "      }\n",
              "    };\n",
              "\n",
              "    // Use a chunked sending to avoid message size limits. See b/62115660.\n",
              "    let position = 0;\n",
              "    do {\n",
              "      const length = Math.min(fileData.byteLength - position, MAX_PAYLOAD_SIZE);\n",
              "      const chunk = new Uint8Array(fileData, position, length);\n",
              "      position += length;\n",
              "\n",
              "      const base64 = btoa(String.fromCharCode.apply(null, chunk));\n",
              "      yield {\n",
              "        response: {\n",
              "          action: 'append',\n",
              "          file: file.name,\n",
              "          data: base64,\n",
              "        },\n",
              "      };\n",
              "\n",
              "      let percentDone = fileData.byteLength === 0 ?\n",
              "          100 :\n",
              "          Math.round((position / fileData.byteLength) * 100);\n",
              "      percent.textContent = `${percentDone}% done`;\n",
              "\n",
              "    } while (position < fileData.byteLength);\n",
              "  }\n",
              "\n",
              "  // All done.\n",
              "  yield {\n",
              "    response: {\n",
              "      action: 'complete',\n",
              "    }\n",
              "  };\n",
              "}\n",
              "\n",
              "scope.google = scope.google || {};\n",
              "scope.google.colab = scope.google.colab || {};\n",
              "scope.google.colab._files = {\n",
              "  _uploadFiles,\n",
              "  _uploadFilesContinue,\n",
              "};\n",
              "})(self);\n",
              "</script> "
            ]
          },
          "metadata": {}
        },
        {
          "output_type": "stream",
          "name": "stdout",
          "text": [
            "Saving kaggle.json to kaggle (1).json\n"
          ]
        },
        {
          "output_type": "execute_result",
          "data": {
            "text/plain": [
              "{'kaggle.json': b'{\"username\":\"satyaswarup3\",\"key\":\"e59999ac6bb7d9f2b0d393fefd4d2e7e\"}'}"
            ]
          },
          "metadata": {},
          "execution_count": 126
        }
      ],
      "source": [
        "from google.colab import files\n",
        "files.upload()"
      ]
    },
    {
      "cell_type": "code",
      "execution_count": 127,
      "metadata": {
        "id": "JcdjFN6hzCnG",
        "colab": {
          "base_uri": "https://localhost:8080/"
        },
        "outputId": "9c254630-c088-40a0-9bd9-a6f0664a28c1"
      },
      "outputs": [
        {
          "output_type": "stream",
          "name": "stdout",
          "text": [
            "mkdir: cannot create directory ‘/root/.kaggle’: File exists\n"
          ]
        }
      ],
      "source": [
        "!mkdir ~/.kaggle\n",
        "!cp kaggle.json ~/.kaggle/\n",
        "!chmod 600 ~/.kaggle/kaggle.json"
      ]
    },
    {
      "cell_type": "code",
      "execution_count": 128,
      "metadata": {
        "colab": {
          "base_uri": "https://localhost:8080/"
        },
        "id": "FDJjo449zJzj",
        "outputId": "5cc9534e-df6b-4de4-9f56-d2aecaa3572f"
      },
      "outputs": [
        {
          "output_type": "stream",
          "name": "stdout",
          "text": [
            "new-york-city-taxi-fare-prediction.zip: Skipping, found more recently modified local copy (use --force to force download)\n"
          ]
        }
      ],
      "source": [
        "!kaggle competitions download -c new-york-city-taxi-fare-prediction"
      ]
    },
    {
      "cell_type": "code",
      "execution_count": 129,
      "metadata": {
        "colab": {
          "base_uri": "https://localhost:8080/"
        },
        "id": "efZgKoUXzPIc",
        "outputId": "19428f50-a903-4a57-d29d-2e7a33a8393d"
      },
      "outputs": [
        {
          "output_type": "stream",
          "name": "stdout",
          "text": [
            "Archive:  new-york-city-taxi-fare-prediction.zip\n",
            "replace GCP-Coupons-Instructions.rtf? [y]es, [n]o, [A]ll, [N]one, [r]ename: N\n"
          ]
        }
      ],
      "source": [
        "!unzip new-york-city-taxi-fare-prediction"
      ]
    },
    {
      "cell_type": "code",
      "execution_count": 130,
      "metadata": {
        "id": "b8AsqKKSzck6"
      },
      "outputs": [],
      "source": [
        "import numpy as np \n",
        "import pandas as pd \n",
        "import seaborn as sns\n",
        "import matplotlib.pyplot as plt\n",
        "from sklearn import datasets, linear_model\n",
        "from sklearn import preprocessing\n",
        "from sklearn.feature_selection import RFE\n",
        "from sklearn.model_selection import train_test_split\n"
      ]
    },
    {
      "cell_type": "code",
      "execution_count": 131,
      "metadata": {
        "colab": {
          "base_uri": "https://localhost:8080/",
          "height": 337
        },
        "id": "3R5xSnuZzvJA",
        "outputId": "8f59a2fa-b44a-452c-d401-b2260dfa3848"
      },
      "outputs": [
        {
          "output_type": "execute_result",
          "data": {
            "text/plain": [
              "                             key  fare_amount          pickup_datetime  \\\n",
              "0    2009-06-15 17:26:21.0000001          4.5  2009-06-15 17:26:21 UTC   \n",
              "1    2010-01-05 16:52:16.0000002         16.9  2010-01-05 16:52:16 UTC   \n",
              "2   2011-08-18 00:35:00.00000049          5.7  2011-08-18 00:35:00 UTC   \n",
              "3    2012-04-21 04:30:42.0000001          7.7  2012-04-21 04:30:42 UTC   \n",
              "4  2010-03-09 07:51:00.000000135          5.3  2010-03-09 07:51:00 UTC   \n",
              "\n",
              "   pickup_longitude  pickup_latitude  dropoff_longitude  dropoff_latitude  \\\n",
              "0        -73.844311        40.721319         -73.841610         40.712278   \n",
              "1        -74.016048        40.711303         -73.979268         40.782004   \n",
              "2        -73.982738        40.761270         -73.991242         40.750562   \n",
              "3        -73.987130        40.733143         -73.991567         40.758092   \n",
              "4        -73.968095        40.768008         -73.956655         40.783762   \n",
              "\n",
              "   passenger_count  \n",
              "0                1  \n",
              "1                1  \n",
              "2                2  \n",
              "3                1  \n",
              "4                1  "
            ],
            "text/html": [
              "\n",
              "  <div id=\"df-74a0b7f3-74ff-44a8-b1ae-4d3657b18434\">\n",
              "    <div class=\"colab-df-container\">\n",
              "      <div>\n",
              "<style scoped>\n",
              "    .dataframe tbody tr th:only-of-type {\n",
              "        vertical-align: middle;\n",
              "    }\n",
              "\n",
              "    .dataframe tbody tr th {\n",
              "        vertical-align: top;\n",
              "    }\n",
              "\n",
              "    .dataframe thead th {\n",
              "        text-align: right;\n",
              "    }\n",
              "</style>\n",
              "<table border=\"1\" class=\"dataframe\">\n",
              "  <thead>\n",
              "    <tr style=\"text-align: right;\">\n",
              "      <th></th>\n",
              "      <th>key</th>\n",
              "      <th>fare_amount</th>\n",
              "      <th>pickup_datetime</th>\n",
              "      <th>pickup_longitude</th>\n",
              "      <th>pickup_latitude</th>\n",
              "      <th>dropoff_longitude</th>\n",
              "      <th>dropoff_latitude</th>\n",
              "      <th>passenger_count</th>\n",
              "    </tr>\n",
              "  </thead>\n",
              "  <tbody>\n",
              "    <tr>\n",
              "      <th>0</th>\n",
              "      <td>2009-06-15 17:26:21.0000001</td>\n",
              "      <td>4.5</td>\n",
              "      <td>2009-06-15 17:26:21 UTC</td>\n",
              "      <td>-73.844311</td>\n",
              "      <td>40.721319</td>\n",
              "      <td>-73.841610</td>\n",
              "      <td>40.712278</td>\n",
              "      <td>1</td>\n",
              "    </tr>\n",
              "    <tr>\n",
              "      <th>1</th>\n",
              "      <td>2010-01-05 16:52:16.0000002</td>\n",
              "      <td>16.9</td>\n",
              "      <td>2010-01-05 16:52:16 UTC</td>\n",
              "      <td>-74.016048</td>\n",
              "      <td>40.711303</td>\n",
              "      <td>-73.979268</td>\n",
              "      <td>40.782004</td>\n",
              "      <td>1</td>\n",
              "    </tr>\n",
              "    <tr>\n",
              "      <th>2</th>\n",
              "      <td>2011-08-18 00:35:00.00000049</td>\n",
              "      <td>5.7</td>\n",
              "      <td>2011-08-18 00:35:00 UTC</td>\n",
              "      <td>-73.982738</td>\n",
              "      <td>40.761270</td>\n",
              "      <td>-73.991242</td>\n",
              "      <td>40.750562</td>\n",
              "      <td>2</td>\n",
              "    </tr>\n",
              "    <tr>\n",
              "      <th>3</th>\n",
              "      <td>2012-04-21 04:30:42.0000001</td>\n",
              "      <td>7.7</td>\n",
              "      <td>2012-04-21 04:30:42 UTC</td>\n",
              "      <td>-73.987130</td>\n",
              "      <td>40.733143</td>\n",
              "      <td>-73.991567</td>\n",
              "      <td>40.758092</td>\n",
              "      <td>1</td>\n",
              "    </tr>\n",
              "    <tr>\n",
              "      <th>4</th>\n",
              "      <td>2010-03-09 07:51:00.000000135</td>\n",
              "      <td>5.3</td>\n",
              "      <td>2010-03-09 07:51:00 UTC</td>\n",
              "      <td>-73.968095</td>\n",
              "      <td>40.768008</td>\n",
              "      <td>-73.956655</td>\n",
              "      <td>40.783762</td>\n",
              "      <td>1</td>\n",
              "    </tr>\n",
              "  </tbody>\n",
              "</table>\n",
              "</div>\n",
              "      <button class=\"colab-df-convert\" onclick=\"convertToInteractive('df-74a0b7f3-74ff-44a8-b1ae-4d3657b18434')\"\n",
              "              title=\"Convert this dataframe to an interactive table.\"\n",
              "              style=\"display:none;\">\n",
              "        \n",
              "  <svg xmlns=\"http://www.w3.org/2000/svg\" height=\"24px\"viewBox=\"0 0 24 24\"\n",
              "       width=\"24px\">\n",
              "    <path d=\"M0 0h24v24H0V0z\" fill=\"none\"/>\n",
              "    <path d=\"M18.56 5.44l.94 2.06.94-2.06 2.06-.94-2.06-.94-.94-2.06-.94 2.06-2.06.94zm-11 1L8.5 8.5l.94-2.06 2.06-.94-2.06-.94L8.5 2.5l-.94 2.06-2.06.94zm10 10l.94 2.06.94-2.06 2.06-.94-2.06-.94-.94-2.06-.94 2.06-2.06.94z\"/><path d=\"M17.41 7.96l-1.37-1.37c-.4-.4-.92-.59-1.43-.59-.52 0-1.04.2-1.43.59L10.3 9.45l-7.72 7.72c-.78.78-.78 2.05 0 2.83L4 21.41c.39.39.9.59 1.41.59.51 0 1.02-.2 1.41-.59l7.78-7.78 2.81-2.81c.8-.78.8-2.07 0-2.86zM5.41 20L4 18.59l7.72-7.72 1.47 1.35L5.41 20z\"/>\n",
              "  </svg>\n",
              "      </button>\n",
              "      \n",
              "  <style>\n",
              "    .colab-df-container {\n",
              "      display:flex;\n",
              "      flex-wrap:wrap;\n",
              "      gap: 12px;\n",
              "    }\n",
              "\n",
              "    .colab-df-convert {\n",
              "      background-color: #E8F0FE;\n",
              "      border: none;\n",
              "      border-radius: 50%;\n",
              "      cursor: pointer;\n",
              "      display: none;\n",
              "      fill: #1967D2;\n",
              "      height: 32px;\n",
              "      padding: 0 0 0 0;\n",
              "      width: 32px;\n",
              "    }\n",
              "\n",
              "    .colab-df-convert:hover {\n",
              "      background-color: #E2EBFA;\n",
              "      box-shadow: 0px 1px 2px rgba(60, 64, 67, 0.3), 0px 1px 3px 1px rgba(60, 64, 67, 0.15);\n",
              "      fill: #174EA6;\n",
              "    }\n",
              "\n",
              "    [theme=dark] .colab-df-convert {\n",
              "      background-color: #3B4455;\n",
              "      fill: #D2E3FC;\n",
              "    }\n",
              "\n",
              "    [theme=dark] .colab-df-convert:hover {\n",
              "      background-color: #434B5C;\n",
              "      box-shadow: 0px 1px 3px 1px rgba(0, 0, 0, 0.15);\n",
              "      filter: drop-shadow(0px 1px 2px rgba(0, 0, 0, 0.3));\n",
              "      fill: #FFFFFF;\n",
              "    }\n",
              "  </style>\n",
              "\n",
              "      <script>\n",
              "        const buttonEl =\n",
              "          document.querySelector('#df-74a0b7f3-74ff-44a8-b1ae-4d3657b18434 button.colab-df-convert');\n",
              "        buttonEl.style.display =\n",
              "          google.colab.kernel.accessAllowed ? 'block' : 'none';\n",
              "\n",
              "        async function convertToInteractive(key) {\n",
              "          const element = document.querySelector('#df-74a0b7f3-74ff-44a8-b1ae-4d3657b18434');\n",
              "          const dataTable =\n",
              "            await google.colab.kernel.invokeFunction('convertToInteractive',\n",
              "                                                     [key], {});\n",
              "          if (!dataTable) return;\n",
              "\n",
              "          const docLinkHtml = 'Like what you see? Visit the ' +\n",
              "            '<a target=\"_blank\" href=https://colab.research.google.com/notebooks/data_table.ipynb>data table notebook</a>'\n",
              "            + ' to learn more about interactive tables.';\n",
              "          element.innerHTML = '';\n",
              "          dataTable['output_type'] = 'display_data';\n",
              "          await google.colab.output.renderOutput(dataTable, element);\n",
              "          const docLink = document.createElement('div');\n",
              "          docLink.innerHTML = docLinkHtml;\n",
              "          element.appendChild(docLink);\n",
              "        }\n",
              "      </script>\n",
              "    </div>\n",
              "  </div>\n",
              "  "
            ]
          },
          "metadata": {},
          "execution_count": 131
        }
      ],
      "source": [
        "train = pd.read_csv(\"/content/train.csv\", nrows = 1000000)\n",
        "test = pd.read_csv(\"/content/test.csv\")\n",
        "train.head()"
      ]
    },
    {
      "cell_type": "code",
      "execution_count": 132,
      "metadata": {
        "colab": {
          "base_uri": "https://localhost:8080/"
        },
        "id": "mprq4r4lz3k6",
        "outputId": "7ee34ad9-0988-4a72-a5b2-98f16ced12db"
      },
      "outputs": [
        {
          "output_type": "stream",
          "name": "stdout",
          "text": [
            "Shape of the Training data : (1000000, 8)\n",
            "All columns are : ['key', 'fare_amount', 'pickup_datetime', 'pickup_longitude', 'pickup_latitude', 'dropoff_longitude', 'dropoff_latitude', 'passenger_count']\n"
          ]
        }
      ],
      "source": [
        "print(\"Shape of the Training data :\", train.shape)\n",
        "print(\"All columns are :\", list(train.columns))"
      ]
    },
    {
      "cell_type": "code",
      "execution_count": 133,
      "metadata": {
        "colab": {
          "base_uri": "https://localhost:8080/"
        },
        "id": "7_XNXpBICpGt",
        "outputId": "d05e785e-e1f1-42ee-fd47-c6f3e4ade719"
      },
      "outputs": [
        {
          "output_type": "stream",
          "name": "stdout",
          "text": [
            "<class 'pandas.core.frame.DataFrame'>\n",
            "RangeIndex: 1000000 entries, 0 to 999999\n",
            "Data columns (total 8 columns):\n",
            " #   Column             Non-Null Count    Dtype  \n",
            "---  ------             --------------    -----  \n",
            " 0   key                1000000 non-null  object \n",
            " 1   fare_amount        1000000 non-null  float64\n",
            " 2   pickup_datetime    1000000 non-null  object \n",
            " 3   pickup_longitude   1000000 non-null  float64\n",
            " 4   pickup_latitude    1000000 non-null  float64\n",
            " 5   dropoff_longitude  999990 non-null   float64\n",
            " 6   dropoff_latitude   999990 non-null   float64\n",
            " 7   passenger_count    1000000 non-null  int64  \n",
            "dtypes: float64(5), int64(1), object(2)\n",
            "memory usage: 61.0+ MB\n"
          ]
        }
      ],
      "source": [
        "train.info()"
      ]
    },
    {
      "cell_type": "markdown",
      "metadata": {
        "id": "U5gdj7-pD1LZ"
      },
      "source": [
        "There are null values in both dropoff_longitude and dropoff_latitude"
      ]
    },
    {
      "cell_type": "code",
      "execution_count": 134,
      "metadata": {
        "colab": {
          "base_uri": "https://localhost:8080/"
        },
        "id": "x2BRIBVOC7C6",
        "outputId": "49aac00c-1b93-41e2-dd03-47e058317d7d"
      },
      "outputs": [
        {
          "output_type": "stream",
          "name": "stdout",
          "text": [
            "<class 'pandas.core.frame.DataFrame'>\n",
            "RangeIndex: 9914 entries, 0 to 9913\n",
            "Data columns (total 7 columns):\n",
            " #   Column             Non-Null Count  Dtype  \n",
            "---  ------             --------------  -----  \n",
            " 0   key                9914 non-null   object \n",
            " 1   pickup_datetime    9914 non-null   object \n",
            " 2   pickup_longitude   9914 non-null   float64\n",
            " 3   pickup_latitude    9914 non-null   float64\n",
            " 4   dropoff_longitude  9914 non-null   float64\n",
            " 5   dropoff_latitude   9914 non-null   float64\n",
            " 6   passenger_count    9914 non-null   int64  \n",
            "dtypes: float64(4), int64(1), object(2)\n",
            "memory usage: 542.3+ KB\n"
          ]
        }
      ],
      "source": [
        "test.info()"
      ]
    },
    {
      "cell_type": "markdown",
      "metadata": {
        "id": "LW-29jLQDPB8"
      },
      "source": [
        "We can see no null values in test set."
      ]
    },
    {
      "cell_type": "markdown",
      "metadata": {
        "id": "HxpkYJMYJyTn"
      },
      "source": [
        "##Data cleaning"
      ]
    },
    {
      "cell_type": "code",
      "execution_count": 135,
      "metadata": {
        "id": "s4bnmuISDD0a"
      },
      "outputs": [],
      "source": [
        "train=train.dropna(subset=[\"dropoff_longitude\"])\n",
        "train=train.dropna(subset=[\"dropoff_latitude\"])"
      ]
    },
    {
      "cell_type": "markdown",
      "metadata": {
        "id": "43Y-QawWFyDh"
      },
      "source": [
        "We dropped the Nan corresponding values from the dataset,as there are less null values it is better to drop."
      ]
    },
    {
      "cell_type": "code",
      "execution_count": 136,
      "metadata": {
        "colab": {
          "base_uri": "https://localhost:8080/"
        },
        "id": "3L6hirrOFefH",
        "outputId": "9fbf0c79-6486-46fd-f1da-e1577dce72ee"
      },
      "outputs": [
        {
          "output_type": "stream",
          "name": "stdout",
          "text": [
            "<class 'pandas.core.frame.DataFrame'>\n",
            "Int64Index: 999990 entries, 0 to 999999\n",
            "Data columns (total 8 columns):\n",
            " #   Column             Non-Null Count   Dtype  \n",
            "---  ------             --------------   -----  \n",
            " 0   key                999990 non-null  object \n",
            " 1   fare_amount        999990 non-null  float64\n",
            " 2   pickup_datetime    999990 non-null  object \n",
            " 3   pickup_longitude   999990 non-null  float64\n",
            " 4   pickup_latitude    999990 non-null  float64\n",
            " 5   dropoff_longitude  999990 non-null  float64\n",
            " 6   dropoff_latitude   999990 non-null  float64\n",
            " 7   passenger_count    999990 non-null  int64  \n",
            "dtypes: float64(5), int64(1), object(2)\n",
            "memory usage: 68.7+ MB\n"
          ]
        }
      ],
      "source": [
        "train.info()"
      ]
    },
    {
      "cell_type": "code",
      "execution_count": 137,
      "metadata": {
        "colab": {
          "base_uri": "https://localhost:8080/",
          "height": 300
        },
        "id": "IZ96bNdmHRWl",
        "outputId": "e47b5120-fd12-4737-c7e0-69aabda499fc"
      },
      "outputs": [
        {
          "output_type": "execute_result",
          "data": {
            "text/plain": [
              "         fare_amount  pickup_longitude  pickup_latitude  dropoff_longitude  \\\n",
              "count  999990.000000     999990.000000    999990.000000      999990.000000   \n",
              "mean       11.347953        -72.526699        39.929040         -72.527860   \n",
              "std         9.821790         12.057778         7.626087          11.324494   \n",
              "min       -44.900000      -3377.680935     -3116.285383       -3383.296608   \n",
              "25%         6.000000        -73.992060        40.734965         -73.991385   \n",
              "50%         8.500000        -73.981792        40.752695         -73.980135   \n",
              "75%        12.500000        -73.967094        40.767154         -73.963654   \n",
              "max       500.000000       2522.271325      2621.628430          45.581619   \n",
              "\n",
              "       dropoff_latitude  passenger_count  \n",
              "count     999990.000000    999990.000000  \n",
              "mean          39.919954         1.684941  \n",
              "std            8.201418         1.323907  \n",
              "min        -3114.338567         0.000000  \n",
              "25%           40.734046         1.000000  \n",
              "50%           40.753166         1.000000  \n",
              "75%           40.768129         2.000000  \n",
              "max         1651.553433       208.000000  "
            ],
            "text/html": [
              "\n",
              "  <div id=\"df-1ec12a98-c907-4999-a7f3-32bbcef6c353\">\n",
              "    <div class=\"colab-df-container\">\n",
              "      <div>\n",
              "<style scoped>\n",
              "    .dataframe tbody tr th:only-of-type {\n",
              "        vertical-align: middle;\n",
              "    }\n",
              "\n",
              "    .dataframe tbody tr th {\n",
              "        vertical-align: top;\n",
              "    }\n",
              "\n",
              "    .dataframe thead th {\n",
              "        text-align: right;\n",
              "    }\n",
              "</style>\n",
              "<table border=\"1\" class=\"dataframe\">\n",
              "  <thead>\n",
              "    <tr style=\"text-align: right;\">\n",
              "      <th></th>\n",
              "      <th>fare_amount</th>\n",
              "      <th>pickup_longitude</th>\n",
              "      <th>pickup_latitude</th>\n",
              "      <th>dropoff_longitude</th>\n",
              "      <th>dropoff_latitude</th>\n",
              "      <th>passenger_count</th>\n",
              "    </tr>\n",
              "  </thead>\n",
              "  <tbody>\n",
              "    <tr>\n",
              "      <th>count</th>\n",
              "      <td>999990.000000</td>\n",
              "      <td>999990.000000</td>\n",
              "      <td>999990.000000</td>\n",
              "      <td>999990.000000</td>\n",
              "      <td>999990.000000</td>\n",
              "      <td>999990.000000</td>\n",
              "    </tr>\n",
              "    <tr>\n",
              "      <th>mean</th>\n",
              "      <td>11.347953</td>\n",
              "      <td>-72.526699</td>\n",
              "      <td>39.929040</td>\n",
              "      <td>-72.527860</td>\n",
              "      <td>39.919954</td>\n",
              "      <td>1.684941</td>\n",
              "    </tr>\n",
              "    <tr>\n",
              "      <th>std</th>\n",
              "      <td>9.821790</td>\n",
              "      <td>12.057778</td>\n",
              "      <td>7.626087</td>\n",
              "      <td>11.324494</td>\n",
              "      <td>8.201418</td>\n",
              "      <td>1.323907</td>\n",
              "    </tr>\n",
              "    <tr>\n",
              "      <th>min</th>\n",
              "      <td>-44.900000</td>\n",
              "      <td>-3377.680935</td>\n",
              "      <td>-3116.285383</td>\n",
              "      <td>-3383.296608</td>\n",
              "      <td>-3114.338567</td>\n",
              "      <td>0.000000</td>\n",
              "    </tr>\n",
              "    <tr>\n",
              "      <th>25%</th>\n",
              "      <td>6.000000</td>\n",
              "      <td>-73.992060</td>\n",
              "      <td>40.734965</td>\n",
              "      <td>-73.991385</td>\n",
              "      <td>40.734046</td>\n",
              "      <td>1.000000</td>\n",
              "    </tr>\n",
              "    <tr>\n",
              "      <th>50%</th>\n",
              "      <td>8.500000</td>\n",
              "      <td>-73.981792</td>\n",
              "      <td>40.752695</td>\n",
              "      <td>-73.980135</td>\n",
              "      <td>40.753166</td>\n",
              "      <td>1.000000</td>\n",
              "    </tr>\n",
              "    <tr>\n",
              "      <th>75%</th>\n",
              "      <td>12.500000</td>\n",
              "      <td>-73.967094</td>\n",
              "      <td>40.767154</td>\n",
              "      <td>-73.963654</td>\n",
              "      <td>40.768129</td>\n",
              "      <td>2.000000</td>\n",
              "    </tr>\n",
              "    <tr>\n",
              "      <th>max</th>\n",
              "      <td>500.000000</td>\n",
              "      <td>2522.271325</td>\n",
              "      <td>2621.628430</td>\n",
              "      <td>45.581619</td>\n",
              "      <td>1651.553433</td>\n",
              "      <td>208.000000</td>\n",
              "    </tr>\n",
              "  </tbody>\n",
              "</table>\n",
              "</div>\n",
              "      <button class=\"colab-df-convert\" onclick=\"convertToInteractive('df-1ec12a98-c907-4999-a7f3-32bbcef6c353')\"\n",
              "              title=\"Convert this dataframe to an interactive table.\"\n",
              "              style=\"display:none;\">\n",
              "        \n",
              "  <svg xmlns=\"http://www.w3.org/2000/svg\" height=\"24px\"viewBox=\"0 0 24 24\"\n",
              "       width=\"24px\">\n",
              "    <path d=\"M0 0h24v24H0V0z\" fill=\"none\"/>\n",
              "    <path d=\"M18.56 5.44l.94 2.06.94-2.06 2.06-.94-2.06-.94-.94-2.06-.94 2.06-2.06.94zm-11 1L8.5 8.5l.94-2.06 2.06-.94-2.06-.94L8.5 2.5l-.94 2.06-2.06.94zm10 10l.94 2.06.94-2.06 2.06-.94-2.06-.94-.94-2.06-.94 2.06-2.06.94z\"/><path d=\"M17.41 7.96l-1.37-1.37c-.4-.4-.92-.59-1.43-.59-.52 0-1.04.2-1.43.59L10.3 9.45l-7.72 7.72c-.78.78-.78 2.05 0 2.83L4 21.41c.39.39.9.59 1.41.59.51 0 1.02-.2 1.41-.59l7.78-7.78 2.81-2.81c.8-.78.8-2.07 0-2.86zM5.41 20L4 18.59l7.72-7.72 1.47 1.35L5.41 20z\"/>\n",
              "  </svg>\n",
              "      </button>\n",
              "      \n",
              "  <style>\n",
              "    .colab-df-container {\n",
              "      display:flex;\n",
              "      flex-wrap:wrap;\n",
              "      gap: 12px;\n",
              "    }\n",
              "\n",
              "    .colab-df-convert {\n",
              "      background-color: #E8F0FE;\n",
              "      border: none;\n",
              "      border-radius: 50%;\n",
              "      cursor: pointer;\n",
              "      display: none;\n",
              "      fill: #1967D2;\n",
              "      height: 32px;\n",
              "      padding: 0 0 0 0;\n",
              "      width: 32px;\n",
              "    }\n",
              "\n",
              "    .colab-df-convert:hover {\n",
              "      background-color: #E2EBFA;\n",
              "      box-shadow: 0px 1px 2px rgba(60, 64, 67, 0.3), 0px 1px 3px 1px rgba(60, 64, 67, 0.15);\n",
              "      fill: #174EA6;\n",
              "    }\n",
              "\n",
              "    [theme=dark] .colab-df-convert {\n",
              "      background-color: #3B4455;\n",
              "      fill: #D2E3FC;\n",
              "    }\n",
              "\n",
              "    [theme=dark] .colab-df-convert:hover {\n",
              "      background-color: #434B5C;\n",
              "      box-shadow: 0px 1px 3px 1px rgba(0, 0, 0, 0.15);\n",
              "      filter: drop-shadow(0px 1px 2px rgba(0, 0, 0, 0.3));\n",
              "      fill: #FFFFFF;\n",
              "    }\n",
              "  </style>\n",
              "\n",
              "      <script>\n",
              "        const buttonEl =\n",
              "          document.querySelector('#df-1ec12a98-c907-4999-a7f3-32bbcef6c353 button.colab-df-convert');\n",
              "        buttonEl.style.display =\n",
              "          google.colab.kernel.accessAllowed ? 'block' : 'none';\n",
              "\n",
              "        async function convertToInteractive(key) {\n",
              "          const element = document.querySelector('#df-1ec12a98-c907-4999-a7f3-32bbcef6c353');\n",
              "          const dataTable =\n",
              "            await google.colab.kernel.invokeFunction('convertToInteractive',\n",
              "                                                     [key], {});\n",
              "          if (!dataTable) return;\n",
              "\n",
              "          const docLinkHtml = 'Like what you see? Visit the ' +\n",
              "            '<a target=\"_blank\" href=https://colab.research.google.com/notebooks/data_table.ipynb>data table notebook</a>'\n",
              "            + ' to learn more about interactive tables.';\n",
              "          element.innerHTML = '';\n",
              "          dataTable['output_type'] = 'display_data';\n",
              "          await google.colab.output.renderOutput(dataTable, element);\n",
              "          const docLink = document.createElement('div');\n",
              "          docLink.innerHTML = docLinkHtml;\n",
              "          element.appendChild(docLink);\n",
              "        }\n",
              "      </script>\n",
              "    </div>\n",
              "  </div>\n",
              "  "
            ]
          },
          "metadata": {},
          "execution_count": 137
        }
      ],
      "source": [
        "train.describe()"
      ]
    },
    {
      "cell_type": "code",
      "execution_count": 138,
      "metadata": {
        "id": "ziYUIann8QRn"
      },
      "outputs": [],
      "source": [
        "#positive fare_amount,positive passenger_count\n",
        "train.drop(train[train.fare_amount < 0].index, inplace=True)\n",
        "train = train[train['passenger_count'] >0]"
      ]
    },
    {
      "cell_type": "code",
      "execution_count": 139,
      "metadata": {
        "colab": {
          "base_uri": "https://localhost:8080/"
        },
        "id": "e0LsRnJE9euu",
        "outputId": "49272ef7-660f-4a2e-f279-cb05a9e185c6"
      },
      "outputs": [
        {
          "output_type": "stream",
          "name": "stdout",
          "text": [
            "<class 'pandas.core.frame.DataFrame'>\n",
            "Int64Index: 996397 entries, 0 to 999999\n",
            "Data columns (total 8 columns):\n",
            " #   Column             Non-Null Count   Dtype  \n",
            "---  ------             --------------   -----  \n",
            " 0   key                996397 non-null  object \n",
            " 1   fare_amount        996397 non-null  float64\n",
            " 2   pickup_datetime    996397 non-null  object \n",
            " 3   pickup_longitude   996397 non-null  float64\n",
            " 4   pickup_latitude    996397 non-null  float64\n",
            " 5   dropoff_longitude  996397 non-null  float64\n",
            " 6   dropoff_latitude   996397 non-null  float64\n",
            " 7   passenger_count    996397 non-null  int64  \n",
            "dtypes: float64(5), int64(1), object(2)\n",
            "memory usage: 68.4+ MB\n"
          ]
        }
      ],
      "source": [
        "train.info()"
      ]
    },
    {
      "cell_type": "code",
      "execution_count": 140,
      "metadata": {
        "colab": {
          "base_uri": "https://localhost:8080/",
          "height": 300
        },
        "id": "tZM_XEe19kP_",
        "outputId": "ac43370b-e1a4-4ce8-92c9-e3d3832db95c"
      },
      "outputs": [
        {
          "output_type": "execute_result",
          "data": {
            "text/plain": [
              "         fare_amount  pickup_longitude  pickup_latitude  dropoff_longitude  \\\n",
              "count  996397.000000     996397.000000    996397.000000      996397.000000   \n",
              "mean       11.357829        -72.525848        39.928485         -72.527388   \n",
              "std         9.831130         12.066290         7.633486          11.329665   \n",
              "min         0.000000      -3377.680935     -3116.285383       -3383.296608   \n",
              "25%         6.000000        -73.992060        40.734960         -73.991383   \n",
              "50%         8.500000        -73.981792        40.752692         -73.980134   \n",
              "75%        12.500000        -73.967091        40.767152         -73.963648   \n",
              "max       500.000000       2522.271325      2621.628430          45.581619   \n",
              "\n",
              "       dropoff_latitude  passenger_count  \n",
              "count     996397.000000    996397.000000  \n",
              "mean          39.919569         1.690954  \n",
              "std            8.209810         1.322430  \n",
              "min        -3114.338567         1.000000  \n",
              "25%           40.734043         1.000000  \n",
              "50%           40.753163         1.000000  \n",
              "75%           40.768128         2.000000  \n",
              "max         1651.553433       208.000000  "
            ],
            "text/html": [
              "\n",
              "  <div id=\"df-438e6165-e30c-41e0-96a1-d9a9d9d4a26d\">\n",
              "    <div class=\"colab-df-container\">\n",
              "      <div>\n",
              "<style scoped>\n",
              "    .dataframe tbody tr th:only-of-type {\n",
              "        vertical-align: middle;\n",
              "    }\n",
              "\n",
              "    .dataframe tbody tr th {\n",
              "        vertical-align: top;\n",
              "    }\n",
              "\n",
              "    .dataframe thead th {\n",
              "        text-align: right;\n",
              "    }\n",
              "</style>\n",
              "<table border=\"1\" class=\"dataframe\">\n",
              "  <thead>\n",
              "    <tr style=\"text-align: right;\">\n",
              "      <th></th>\n",
              "      <th>fare_amount</th>\n",
              "      <th>pickup_longitude</th>\n",
              "      <th>pickup_latitude</th>\n",
              "      <th>dropoff_longitude</th>\n",
              "      <th>dropoff_latitude</th>\n",
              "      <th>passenger_count</th>\n",
              "    </tr>\n",
              "  </thead>\n",
              "  <tbody>\n",
              "    <tr>\n",
              "      <th>count</th>\n",
              "      <td>996397.000000</td>\n",
              "      <td>996397.000000</td>\n",
              "      <td>996397.000000</td>\n",
              "      <td>996397.000000</td>\n",
              "      <td>996397.000000</td>\n",
              "      <td>996397.000000</td>\n",
              "    </tr>\n",
              "    <tr>\n",
              "      <th>mean</th>\n",
              "      <td>11.357829</td>\n",
              "      <td>-72.525848</td>\n",
              "      <td>39.928485</td>\n",
              "      <td>-72.527388</td>\n",
              "      <td>39.919569</td>\n",
              "      <td>1.690954</td>\n",
              "    </tr>\n",
              "    <tr>\n",
              "      <th>std</th>\n",
              "      <td>9.831130</td>\n",
              "      <td>12.066290</td>\n",
              "      <td>7.633486</td>\n",
              "      <td>11.329665</td>\n",
              "      <td>8.209810</td>\n",
              "      <td>1.322430</td>\n",
              "    </tr>\n",
              "    <tr>\n",
              "      <th>min</th>\n",
              "      <td>0.000000</td>\n",
              "      <td>-3377.680935</td>\n",
              "      <td>-3116.285383</td>\n",
              "      <td>-3383.296608</td>\n",
              "      <td>-3114.338567</td>\n",
              "      <td>1.000000</td>\n",
              "    </tr>\n",
              "    <tr>\n",
              "      <th>25%</th>\n",
              "      <td>6.000000</td>\n",
              "      <td>-73.992060</td>\n",
              "      <td>40.734960</td>\n",
              "      <td>-73.991383</td>\n",
              "      <td>40.734043</td>\n",
              "      <td>1.000000</td>\n",
              "    </tr>\n",
              "    <tr>\n",
              "      <th>50%</th>\n",
              "      <td>8.500000</td>\n",
              "      <td>-73.981792</td>\n",
              "      <td>40.752692</td>\n",
              "      <td>-73.980134</td>\n",
              "      <td>40.753163</td>\n",
              "      <td>1.000000</td>\n",
              "    </tr>\n",
              "    <tr>\n",
              "      <th>75%</th>\n",
              "      <td>12.500000</td>\n",
              "      <td>-73.967091</td>\n",
              "      <td>40.767152</td>\n",
              "      <td>-73.963648</td>\n",
              "      <td>40.768128</td>\n",
              "      <td>2.000000</td>\n",
              "    </tr>\n",
              "    <tr>\n",
              "      <th>max</th>\n",
              "      <td>500.000000</td>\n",
              "      <td>2522.271325</td>\n",
              "      <td>2621.628430</td>\n",
              "      <td>45.581619</td>\n",
              "      <td>1651.553433</td>\n",
              "      <td>208.000000</td>\n",
              "    </tr>\n",
              "  </tbody>\n",
              "</table>\n",
              "</div>\n",
              "      <button class=\"colab-df-convert\" onclick=\"convertToInteractive('df-438e6165-e30c-41e0-96a1-d9a9d9d4a26d')\"\n",
              "              title=\"Convert this dataframe to an interactive table.\"\n",
              "              style=\"display:none;\">\n",
              "        \n",
              "  <svg xmlns=\"http://www.w3.org/2000/svg\" height=\"24px\"viewBox=\"0 0 24 24\"\n",
              "       width=\"24px\">\n",
              "    <path d=\"M0 0h24v24H0V0z\" fill=\"none\"/>\n",
              "    <path d=\"M18.56 5.44l.94 2.06.94-2.06 2.06-.94-2.06-.94-.94-2.06-.94 2.06-2.06.94zm-11 1L8.5 8.5l.94-2.06 2.06-.94-2.06-.94L8.5 2.5l-.94 2.06-2.06.94zm10 10l.94 2.06.94-2.06 2.06-.94-2.06-.94-.94-2.06-.94 2.06-2.06.94z\"/><path d=\"M17.41 7.96l-1.37-1.37c-.4-.4-.92-.59-1.43-.59-.52 0-1.04.2-1.43.59L10.3 9.45l-7.72 7.72c-.78.78-.78 2.05 0 2.83L4 21.41c.39.39.9.59 1.41.59.51 0 1.02-.2 1.41-.59l7.78-7.78 2.81-2.81c.8-.78.8-2.07 0-2.86zM5.41 20L4 18.59l7.72-7.72 1.47 1.35L5.41 20z\"/>\n",
              "  </svg>\n",
              "      </button>\n",
              "      \n",
              "  <style>\n",
              "    .colab-df-container {\n",
              "      display:flex;\n",
              "      flex-wrap:wrap;\n",
              "      gap: 12px;\n",
              "    }\n",
              "\n",
              "    .colab-df-convert {\n",
              "      background-color: #E8F0FE;\n",
              "      border: none;\n",
              "      border-radius: 50%;\n",
              "      cursor: pointer;\n",
              "      display: none;\n",
              "      fill: #1967D2;\n",
              "      height: 32px;\n",
              "      padding: 0 0 0 0;\n",
              "      width: 32px;\n",
              "    }\n",
              "\n",
              "    .colab-df-convert:hover {\n",
              "      background-color: #E2EBFA;\n",
              "      box-shadow: 0px 1px 2px rgba(60, 64, 67, 0.3), 0px 1px 3px 1px rgba(60, 64, 67, 0.15);\n",
              "      fill: #174EA6;\n",
              "    }\n",
              "\n",
              "    [theme=dark] .colab-df-convert {\n",
              "      background-color: #3B4455;\n",
              "      fill: #D2E3FC;\n",
              "    }\n",
              "\n",
              "    [theme=dark] .colab-df-convert:hover {\n",
              "      background-color: #434B5C;\n",
              "      box-shadow: 0px 1px 3px 1px rgba(0, 0, 0, 0.15);\n",
              "      filter: drop-shadow(0px 1px 2px rgba(0, 0, 0, 0.3));\n",
              "      fill: #FFFFFF;\n",
              "    }\n",
              "  </style>\n",
              "\n",
              "      <script>\n",
              "        const buttonEl =\n",
              "          document.querySelector('#df-438e6165-e30c-41e0-96a1-d9a9d9d4a26d button.colab-df-convert');\n",
              "        buttonEl.style.display =\n",
              "          google.colab.kernel.accessAllowed ? 'block' : 'none';\n",
              "\n",
              "        async function convertToInteractive(key) {\n",
              "          const element = document.querySelector('#df-438e6165-e30c-41e0-96a1-d9a9d9d4a26d');\n",
              "          const dataTable =\n",
              "            await google.colab.kernel.invokeFunction('convertToInteractive',\n",
              "                                                     [key], {});\n",
              "          if (!dataTable) return;\n",
              "\n",
              "          const docLinkHtml = 'Like what you see? Visit the ' +\n",
              "            '<a target=\"_blank\" href=https://colab.research.google.com/notebooks/data_table.ipynb>data table notebook</a>'\n",
              "            + ' to learn more about interactive tables.';\n",
              "          element.innerHTML = '';\n",
              "          dataTable['output_type'] = 'display_data';\n",
              "          await google.colab.output.renderOutput(dataTable, element);\n",
              "          const docLink = document.createElement('div');\n",
              "          docLink.innerHTML = docLinkHtml;\n",
              "          element.appendChild(docLink);\n",
              "        }\n",
              "      </script>\n",
              "    </div>\n",
              "  </div>\n",
              "  "
            ]
          },
          "metadata": {},
          "execution_count": 140
        }
      ],
      "source": [
        "train.describe()"
      ]
    },
    {
      "cell_type": "code",
      "execution_count": 141,
      "metadata": {
        "id": "4gctpRAzNg5N"
      },
      "outputs": [],
      "source": [
        "train=train.drop(\"key\",axis=1)"
      ]
    },
    {
      "cell_type": "code",
      "execution_count": 142,
      "metadata": {
        "colab": {
          "base_uri": "https://localhost:8080/"
        },
        "id": "qmHPPB5U9nIz",
        "outputId": "9f8ff6fd-0285-44b2-fae8-ee3f7c366c3c"
      },
      "outputs": [
        {
          "output_type": "stream",
          "name": "stdout",
          "text": [
            "<class 'pandas.core.frame.DataFrame'>\n",
            "Int64Index: 996397 entries, 0 to 999999\n",
            "Data columns (total 7 columns):\n",
            " #   Column             Non-Null Count   Dtype  \n",
            "---  ------             --------------   -----  \n",
            " 0   fare_amount        996397 non-null  float64\n",
            " 1   pickup_datetime    996397 non-null  object \n",
            " 2   pickup_longitude   996397 non-null  float64\n",
            " 3   pickup_latitude    996397 non-null  float64\n",
            " 4   dropoff_longitude  996397 non-null  float64\n",
            " 5   dropoff_latitude   996397 non-null  float64\n",
            " 6   passenger_count    996397 non-null  int64  \n",
            "dtypes: float64(5), int64(1), object(1)\n",
            "memory usage: 60.8+ MB\n"
          ]
        }
      ],
      "source": [
        "train.info()"
      ]
    },
    {
      "cell_type": "code",
      "execution_count": 143,
      "metadata": {
        "id": "OnluItcTQGaI"
      },
      "outputs": [],
      "source": [
        "train = train[(train['pickup_longitude']<180) & (-180<train['pickup_longitude'])]\n",
        "train = train[(-90<train['pickup_latitude']) & (train['pickup_latitude']<90)]"
      ]
    },
    {
      "cell_type": "markdown",
      "metadata": {
        "id": "Ur_KsQP9N1-u"
      },
      "source": [
        "As there is a range for latitudes and longitudes,dropping the values which are out of the range."
      ]
    },
    {
      "cell_type": "markdown",
      "metadata": {
        "id": "vjz_Z6KsKK3w"
      },
      "source": [
        "##Visualization"
      ]
    },
    {
      "cell_type": "code",
      "execution_count": 144,
      "metadata": {
        "colab": {
          "base_uri": "https://localhost:8080/",
          "height": 0
        },
        "id": "N2LssLQ-RVzA",
        "outputId": "64fddb01-2913-4189-a167-d07c2f836bdb"
      },
      "outputs": [
        {
          "output_type": "stream",
          "name": "stderr",
          "text": [
            "/usr/local/lib/python3.7/dist-packages/seaborn/distributions.py:2619: FutureWarning: `distplot` is a deprecated function and will be removed in a future version. Please adapt your code to use either `displot` (a figure-level function with similar flexibility) or `histplot` (an axes-level function for histograms).\n",
            "  warnings.warn(msg, FutureWarning)\n"
          ]
        },
        {
          "output_type": "execute_result",
          "data": {
            "text/plain": [
              "Text(0.5, 1.0, 'Distribution of Fare')"
            ]
          },
          "metadata": {},
          "execution_count": 144
        },
        {
          "output_type": "display_data",
          "data": {
            "text/plain": [
              "<Figure size 720x432 with 1 Axes>"
            ],
            "image/png": "[encoded data removed]"
          },
          "metadata": {
            "needs_background": "light"
          }
        }
      ],
      "source": [
        "plt.figure(figsize = (10, 6))\n",
        "sns.distplot(train['fare_amount']);\n",
        "plt.title('Distribution of Fare')"
      ]
    },
    {
      "cell_type": "code",
      "execution_count": 145,
      "metadata": {
        "colab": {
          "base_uri": "https://localhost:8080/",
          "height": 0
        },
        "id": "WA3jhIHLYaLr",
        "outputId": "2efbfa17-c0d8-4698-a5f3-6bc7c25d6383"
      },
      "outputs": [
        {
          "output_type": "display_data",
          "data": {
            "text/plain": [
              "<Figure size 648x576 with 2 Axes>"
            ],
            "image/png": "[encoded data removed]"
          },
          "metadata": {
            "needs_background": "light"
          }
        }
      ],
      "source": [
        "plt.figure(figsize=(9,8))\n",
        "cor=train.corr()\n",
        "sns.heatmap(cor,annot=True,cmap=plt.cm.RdYlBu)\n",
        "plt.show()"
      ]
    },
    {
      "cell_type": "markdown",
      "metadata": {
        "id": "jXl3kKweYfoz"
      },
      "source": [
        "Here we can observe correlations of fare amount with all and correlations among the features.Our focus is more on the features which have more correlation with fare amount."
      ]
    },
    {
      "cell_type": "code",
      "execution_count": 146,
      "metadata": {
        "colab": {
          "base_uri": "https://localhost:8080/",
          "height": 0
        },
        "id": "KBcqhFzrU_xZ",
        "outputId": "972d7aea-db2c-4b6a-e39b-5224144a7e54"
      },
      "outputs": [
        {
          "output_type": "display_data",
          "data": {
            "text/plain": [
              "<Figure size 432x288 with 1 Axes>"
            ],
            "image/png": "[encoded data removed]"
          },
          "metadata": {
            "needs_background": "light"
          }
        }
      ],
      "source": [
        "train['passenger_count'].value_counts().plot.bar(color = 'b', edgecolor = 'k');\n",
        "plt.title('Passenger Counts'); plt.xlabel('Number of Passengers'); plt.ylabel('Count');"
      ]
    },
    {
      "cell_type": "markdown",
      "metadata": {
        "id": "Iu1k_FlWaRul"
      },
      "source": [
        "Based on the graph we can remove any passengers greater than 6,as there are not much of them"
      ]
    },
    {
      "cell_type": "code",
      "execution_count": 147,
      "metadata": {
        "id": "SASslDywS7e2"
      },
      "outputs": [],
      "source": [
        "#removing outliers\n",
        "\n",
        "train = train[train['fare_amount'].between(left = 2.5, right = 100)]\n",
        "train = train.loc[train['passenger_count'] < 6]\n",
        "train = train.loc[train['pickup_latitude'].between(40, 42)]\n",
        "train = train.loc[train['pickup_longitude'].between(-75, -72)]\n",
        "train = train.loc[train['dropoff_latitude'].between(40, 42)]\n",
        "train = train.loc[train['dropoff_longitude'].between(-75, -72)]\n"
      ]
    },
    {
      "cell_type": "markdown",
      "metadata": {
        "id": "PbLDKIe0aoM6"
      },
      "source": [
        "From the new york city map coordinates we can narrow down the latitudes and longitudes.If we need more accuracy we can just drop the latitudes less than 2 percentile and greater than 98 percentile,it just makes the data less.\n",
        "From observing the fare amount distribution above we can narrow down the fare amount to a range."
      ]
    },
    {
      "cell_type": "code",
      "execution_count": 148,
      "metadata": {
        "id": "QBCJ7XpRW6EC"
      },
      "outputs": [],
      "source": [
        "train['pickup_datetime']  = pd.to_datetime(train['pickup_datetime'])\n",
        "test['pickup_datetime']  = pd.to_datetime(test['pickup_datetime'])"
      ]
    },
    {
      "cell_type": "code",
      "execution_count": 149,
      "metadata": {
        "id": "sY61lZ_4bv1-"
      },
      "outputs": [],
      "source": [
        "data = [train,test]\n",
        "for i in data:\n",
        "    i['Year'] = i['pickup_datetime'].dt.year\n",
        "    i['Month'] = i['pickup_datetime'].dt.month\n",
        "    i['Date'] = i['pickup_datetime'].dt.day\n",
        "    i['Day of Week'] = i['pickup_datetime'].dt.dayofweek\n",
        "    i['Hour'] = i['pickup_datetime'].dt.hour"
      ]
    },
    {
      "cell_type": "code",
      "execution_count": 150,
      "metadata": {
        "id": "ic3Qh750b6da"
      },
      "outputs": [],
      "source": [
        "def haversine_distance(lat1, long1, lat2, long2):\n",
        "    data = [train, test]\n",
        "    for i in data:\n",
        "        R = 6371  #radius of earth in kilometers\n",
        "        phi1 = np.radians(i[lat1])\n",
        "        phi2 = np.radians(i[lat2])\n",
        "    \n",
        "        delta_phi = np.radians(i[lat2]-i[lat1])\n",
        "        delta_lambda = np.radians(i[long2]-i[long1])\n",
        "    \n",
        "        #a = sin²((φB - φA)/2) + cos φA . cos φB . sin²((λB - λA)/2)\n",
        "        a = np.sin(delta_phi / 2.0) ** 2 + np.cos(phi1) * np.cos(phi2) * np.sin(delta_lambda / 2.0) ** 2\n",
        "    \n",
        "        #c = 2 * atan2( √a, √(1−a) )\n",
        "        c = 2 * np.arctan2(np.sqrt(a), np.sqrt(1-a))\n",
        "    \n",
        "        #d = R*c\n",
        "        d = (R * c) #in kilometers\n",
        "        i['H_Distance'] = d\n",
        "    return d"
      ]
    },
    {
      "cell_type": "code",
      "execution_count": 151,
      "metadata": {
        "id": "xbzaNS9gcBSl",
        "colab": {
          "base_uri": "https://localhost:8080/"
        },
        "outputId": "7818b38b-2b21-4770-c5d2-13e5b9a5cecd"
      },
      "outputs": [
        {
          "output_type": "execute_result",
          "data": {
            "text/plain": [
              "0        2.323260\n",
              "1        2.425353\n",
              "2        0.618628\n",
              "3        1.961033\n",
              "4        5.387301\n",
              "          ...    \n",
              "9909     2.124874\n",
              "9910     3.270969\n",
              "9911    19.183941\n",
              "9912     8.343486\n",
              "9913     1.180825\n",
              "Length: 9914, dtype: float64"
            ]
          },
          "metadata": {},
          "execution_count": 151
        }
      ],
      "source": [
        "haversine_distance('pickup_latitude', 'pickup_longitude', 'dropoff_latitude', 'dropoff_longitude')"
      ]
    },
    {
      "cell_type": "code",
      "execution_count": 152,
      "metadata": {
        "id": "NfPG84fhcFUw"
      },
      "outputs": [],
      "source": [
        "train=train.drop(\"pickup_datetime\",axis=1)"
      ]
    },
    {
      "cell_type": "code",
      "source": [],
      "metadata": {
        "id": "eASg57sn-nAm"
      },
      "execution_count": 152,
      "outputs": []
    },
    {
      "cell_type": "markdown",
      "metadata": {
        "id": "VAmz9guDKbrz"
      },
      "source": [
        "##Data scaling"
      ]
    },
    {
      "cell_type": "code",
      "execution_count": 153,
      "metadata": {
        "id": "Y73WTsoHPCmR"
      },
      "outputs": [],
      "source": [
        "#data scaling\n",
        "from sklearn.preprocessing import StandardScaler\n",
        "ss = StandardScaler()\n",
        "train_s=ss.fit_transform(train)\n",
        "train=pd.DataFrame(train_s,\n",
        "                   columns=train.columns)"
      ]
    },
    {
      "cell_type": "code",
      "source": [],
      "metadata": {
        "id": "L9ckpVMJ-mrQ"
      },
      "execution_count": 153,
      "outputs": []
    },
    {
      "cell_type": "code",
      "source": [
        "train.head()"
      ],
      "metadata": {
        "colab": {
          "base_uri": "https://localhost:8080/",
          "height": 287
        },
        "id": "J0G-F9ofFkQq",
        "outputId": "ad35bc7a-1a39-4efd-e92f-010f57a16c6b"
      },
      "execution_count": 154,
      "outputs": [
        {
          "output_type": "execute_result",
          "data": {
            "text/plain": [
              "   fare_amount  pickup_longitude  pickup_latitude  dropoff_longitude  \\\n",
              "0    -0.724695          3.359419        -0.991519           3.500694   \n",
              "1     0.602106         -1.049257        -1.325377          -0.132049   \n",
              "2    -0.596295         -0.194153         0.340144          -0.448039   \n",
              "3    -0.382295         -0.306901        -0.597397          -0.456615   \n",
              "4    -0.639095          0.181749         0.564738           0.464699   \n",
              "\n",
              "   dropoff_latitude  passenger_count      Year     Month      Date  \\\n",
              "0         -1.183006        -0.517876 -1.453580 -0.078498 -0.079798   \n",
              "1          0.926445        -0.517876 -0.917780 -1.533147 -1.231688   \n",
              "2         -0.024784         0.348916 -0.381979  0.503361  0.265769   \n",
              "3          0.203025        -0.517876  0.153821 -0.660358  0.611335   \n",
              "4          0.979631        -0.517876 -0.917780 -0.951287 -0.770932   \n",
              "\n",
              "   Day of Week      Hour  H_Distance  \n",
              "0    -1.558554  0.535752   -0.611104  \n",
              "1    -1.045676  0.382252    1.366997  \n",
              "2    -0.019919 -2.073740   -0.515454  \n",
              "3     1.005838 -1.459742   -0.139597  \n",
              "4    -1.045676 -0.999243   -0.352918  "
            ],
            "text/html": [
              "\n",
              "  <div id=\"df-1c8234ce-bec6-4d36-a0ae-0c0e60c0e85b\">\n",
              "    <div class=\"colab-df-container\">\n",
              "      <div>\n",
              "<style scoped>\n",
              "    .dataframe tbody tr th:only-of-type {\n",
              "        vertical-align: middle;\n",
              "    }\n",
              "\n",
              "    .dataframe tbody tr th {\n",
              "        vertical-align: top;\n",
              "    }\n",
              "\n",
              "    .dataframe thead th {\n",
              "        text-align: right;\n",
              "    }\n",
              "</style>\n",
              "<table border=\"1\" class=\"dataframe\">\n",
              "  <thead>\n",
              "    <tr style=\"text-align: right;\">\n",
              "      <th></th>\n",
              "      <th>fare_amount</th>\n",
              "      <th>pickup_longitude</th>\n",
              "      <th>pickup_latitude</th>\n",
              "      <th>dropoff_longitude</th>\n",
              "      <th>dropoff_latitude</th>\n",
              "      <th>passenger_count</th>\n",
              "      <th>Year</th>\n",
              "      <th>Month</th>\n",
              "      <th>Date</th>\n",
              "      <th>Day of Week</th>\n",
              "      <th>Hour</th>\n",
              "      <th>H_Distance</th>\n",
              "    </tr>\n",
              "  </thead>\n",
              "  <tbody>\n",
              "    <tr>\n",
              "      <th>0</th>\n",
              "      <td>-0.724695</td>\n",
              "      <td>3.359419</td>\n",
              "      <td>-0.991519</td>\n",
              "      <td>3.500694</td>\n",
              "      <td>-1.183006</td>\n",
              "      <td>-0.517876</td>\n",
              "      <td>-1.453580</td>\n",
              "      <td>-0.078498</td>\n",
              "      <td>-0.079798</td>\n",
              "      <td>-1.558554</td>\n",
              "      <td>0.535752</td>\n",
              "      <td>-0.611104</td>\n",
              "    </tr>\n",
              "    <tr>\n",
              "      <th>1</th>\n",
              "      <td>0.602106</td>\n",
              "      <td>-1.049257</td>\n",
              "      <td>-1.325377</td>\n",
              "      <td>-0.132049</td>\n",
              "      <td>0.926445</td>\n",
              "      <td>-0.517876</td>\n",
              "      <td>-0.917780</td>\n",
              "      <td>-1.533147</td>\n",
              "      <td>-1.231688</td>\n",
              "      <td>-1.045676</td>\n",
              "      <td>0.382252</td>\n",
              "      <td>1.366997</td>\n",
              "    </tr>\n",
              "    <tr>\n",
              "      <th>2</th>\n",
              "      <td>-0.596295</td>\n",
              "      <td>-0.194153</td>\n",
              "      <td>0.340144</td>\n",
              "      <td>-0.448039</td>\n",
              "      <td>-0.024784</td>\n",
              "      <td>0.348916</td>\n",
              "      <td>-0.381979</td>\n",
              "      <td>0.503361</td>\n",
              "      <td>0.265769</td>\n",
              "      <td>-0.019919</td>\n",
              "      <td>-2.073740</td>\n",
              "      <td>-0.515454</td>\n",
              "    </tr>\n",
              "    <tr>\n",
              "      <th>3</th>\n",
              "      <td>-0.382295</td>\n",
              "      <td>-0.306901</td>\n",
              "      <td>-0.597397</td>\n",
              "      <td>-0.456615</td>\n",
              "      <td>0.203025</td>\n",
              "      <td>-0.517876</td>\n",
              "      <td>0.153821</td>\n",
              "      <td>-0.660358</td>\n",
              "      <td>0.611335</td>\n",
              "      <td>1.005838</td>\n",
              "      <td>-1.459742</td>\n",
              "      <td>-0.139597</td>\n",
              "    </tr>\n",
              "    <tr>\n",
              "      <th>4</th>\n",
              "      <td>-0.639095</td>\n",
              "      <td>0.181749</td>\n",
              "      <td>0.564738</td>\n",
              "      <td>0.464699</td>\n",
              "      <td>0.979631</td>\n",
              "      <td>-0.517876</td>\n",
              "      <td>-0.917780</td>\n",
              "      <td>-0.951287</td>\n",
              "      <td>-0.770932</td>\n",
              "      <td>-1.045676</td>\n",
              "      <td>-0.999243</td>\n",
              "      <td>-0.352918</td>\n",
              "    </tr>\n",
              "  </tbody>\n",
              "</table>\n",
              "</div>\n",
              "      <button class=\"colab-df-convert\" onclick=\"convertToInteractive('df-1c8234ce-bec6-4d36-a0ae-0c0e60c0e85b')\"\n",
              "              title=\"Convert this dataframe to an interactive table.\"\n",
              "              style=\"display:none;\">\n",
              "        \n",
              "  <svg xmlns=\"http://www.w3.org/2000/svg\" height=\"24px\"viewBox=\"0 0 24 24\"\n",
              "       width=\"24px\">\n",
              "    <path d=\"M0 0h24v24H0V0z\" fill=\"none\"/>\n",
              "    <path d=\"M18.56 5.44l.94 2.06.94-2.06 2.06-.94-2.06-.94-.94-2.06-.94 2.06-2.06.94zm-11 1L8.5 8.5l.94-2.06 2.06-.94-2.06-.94L8.5 2.5l-.94 2.06-2.06.94zm10 10l.94 2.06.94-2.06 2.06-.94-2.06-.94-.94-2.06-.94 2.06-2.06.94z\"/><path d=\"M17.41 7.96l-1.37-1.37c-.4-.4-.92-.59-1.43-.59-.52 0-1.04.2-1.43.59L10.3 9.45l-7.72 7.72c-.78.78-.78 2.05 0 2.83L4 21.41c.39.39.9.59 1.41.59.51 0 1.02-.2 1.41-.59l7.78-7.78 2.81-2.81c.8-.78.8-2.07 0-2.86zM5.41 20L4 18.59l7.72-7.72 1.47 1.35L5.41 20z\"/>\n",
              "  </svg>\n",
              "      </button>\n",
              "      \n",
              "  <style>\n",
              "    .colab-df-container {\n",
              "      display:flex;\n",
              "      flex-wrap:wrap;\n",
              "      gap: 12px;\n",
              "    }\n",
              "\n",
              "    .colab-df-convert {\n",
              "      background-color: #E8F0FE;\n",
              "      border: none;\n",
              "      border-radius: 50%;\n",
              "      cursor: pointer;\n",
              "      display: none;\n",
              "      fill: #1967D2;\n",
              "      height: 32px;\n",
              "      padding: 0 0 0 0;\n",
              "      width: 32px;\n",
              "    }\n",
              "\n",
              "    .colab-df-convert:hover {\n",
              "      background-color: #E2EBFA;\n",
              "      box-shadow: 0px 1px 2px rgba(60, 64, 67, 0.3), 0px 1px 3px 1px rgba(60, 64, 67, 0.15);\n",
              "      fill: #174EA6;\n",
              "    }\n",
              "\n",
              "    [theme=dark] .colab-df-convert {\n",
              "      background-color: #3B4455;\n",
              "      fill: #D2E3FC;\n",
              "    }\n",
              "\n",
              "    [theme=dark] .colab-df-convert:hover {\n",
              "      background-color: #434B5C;\n",
              "      box-shadow: 0px 1px 3px 1px rgba(0, 0, 0, 0.15);\n",
              "      filter: drop-shadow(0px 1px 2px rgba(0, 0, 0, 0.3));\n",
              "      fill: #FFFFFF;\n",
              "    }\n",
              "  </style>\n",
              "\n",
              "      <script>\n",
              "        const buttonEl =\n",
              "          document.querySelector('#df-1c8234ce-bec6-4d36-a0ae-0c0e60c0e85b button.colab-df-convert');\n",
              "        buttonEl.style.display =\n",
              "          google.colab.kernel.accessAllowed ? 'block' : 'none';\n",
              "\n",
              "        async function convertToInteractive(key) {\n",
              "          const element = document.querySelector('#df-1c8234ce-bec6-4d36-a0ae-0c0e60c0e85b');\n",
              "          const dataTable =\n",
              "            await google.colab.kernel.invokeFunction('convertToInteractive',\n",
              "                                                     [key], {});\n",
              "          if (!dataTable) return;\n",
              "\n",
              "          const docLinkHtml = 'Like what you see? Visit the ' +\n",
              "            '<a target=\"_blank\" href=https://colab.research.google.com/notebooks/data_table.ipynb>data table notebook</a>'\n",
              "            + ' to learn more about interactive tables.';\n",
              "          element.innerHTML = '';\n",
              "          dataTable['output_type'] = 'display_data';\n",
              "          await google.colab.output.renderOutput(dataTable, element);\n",
              "          const docLink = document.createElement('div');\n",
              "          docLink.innerHTML = docLinkHtml;\n",
              "          element.appendChild(docLink);\n",
              "        }\n",
              "      </script>\n",
              "    </div>\n",
              "  </div>\n",
              "  "
            ]
          },
          "metadata": {},
          "execution_count": 154
        }
      ]
    },
    {
      "cell_type": "code",
      "source": [
        "len(train.columns)"
      ],
      "metadata": {
        "colab": {
          "base_uri": "https://localhost:8080/"
        },
        "id": "ai-33InzFm6b",
        "outputId": "ccfaebef-f23a-4e6a-a38a-a4e11091861d"
      },
      "execution_count": 155,
      "outputs": [
        {
          "output_type": "execute_result",
          "data": {
            "text/plain": [
              "12"
            ]
          },
          "metadata": {},
          "execution_count": 155
        }
      ]
    },
    {
      "cell_type": "code",
      "source": [
        "# Import required libraries\n",
        "import tensorflow as tf\n",
        "import pandas as pd\n",
        "import matplotlib.pyplot as plt\n"
      ],
      "metadata": {
        "id": "sSa2E0gvFsur"
      },
      "execution_count": 156,
      "outputs": []
    },
    {
      "cell_type": "code",
      "source": [
        "# create X and y values (features and labels)\n",
        "X = train.drop(\"fare_amount\",axis=1)\n",
        "y = train['fare_amount']"
      ],
      "metadata": {
        "id": "UBA9Ms5qAHDl"
      },
      "execution_count": 157,
      "outputs": []
    },
    {
      "cell_type": "code",
      "source": [
        "# creating train and test set\n",
        "from sklearn.model_selection import train_test_split \n",
        "X_train, X_test, y_train, y_test = train_test_split(X, y, test_size=0.2, random_state=42)\n",
        "len(X), len(X_train), len(X_test)"
      ],
      "metadata": {
        "colab": {
          "base_uri": "https://localhost:8080/"
        },
        "id": "-7P5lfgEAHAM",
        "outputId": "71a0c848-6e16-424f-8cb3-1ef3e7b91ebf"
      },
      "execution_count": 158,
      "outputs": [
        {
          "output_type": "execute_result",
          "data": {
            "text/plain": [
              "(954558, 763646, 190912)"
            ]
          },
          "metadata": {},
          "execution_count": 158
        }
      ]
    },
    {
      "cell_type": "code",
      "source": [
        "X_train = tf.constant(X_train)\n",
        "y_train = tf.constant(y_train)\n",
        "X_test = tf.constant(X_test)\n",
        "y_test = tf.constant(y_test)"
      ],
      "metadata": {
        "id": "alo_1nq3AG9d"
      },
      "execution_count": 159,
      "outputs": []
    },
    {
      "cell_type": "markdown",
      "source": [
        "##A)Baseline neural network"
      ],
      "metadata": {
        "id": "y2Eng6_RjZaq"
      }
    },
    {
      "cell_type": "code",
      "source": [
        "# Build a neural network\n",
        "\n",
        "tf.random.set_seed(42)\n",
        "\n",
        "# 1. Create a model\n",
        "model1 = tf.keras.Sequential([\n",
        "                                       tf.keras.layers.Dense(16, activation='sigmoid'),\n",
        "                                       tf.keras.layers.Dense(8, activation='sigmoid'),\n",
        "                                       tf.keras.layers.Dense(1)\n",
        "])\n",
        "\n",
        "# 2. Compile the model\n",
        "model1.compile(loss = tf.keras.losses.mae,\n",
        "                        optimizer = \"sgd\",\n",
        "                        metrics = [\"mae\",\"mse\",\"mape\"]\n",
        "                        )\n",
        "\n",
        "# 3. Fitting the model\n",
        "history = model1.fit(X_train, y_train, validation_data=(X_test, y_test),batch_size =128, epochs = 20)"
      ],
      "metadata": {
        "colab": {
          "base_uri": "https://localhost:8080/"
        },
        "id": "a3cMqGoOAkIl",
        "outputId": "af614dc0-ed9b-4ed0-c879-c863c2618ed8"
      },
      "execution_count": 160,
      "outputs": [
        {
          "output_type": "stream",
          "name": "stdout",
          "text": [
            "Epoch 1/20\n",
            "5966/5966 [==============================] - 13s 2ms/step - loss: 0.3751 - mae: 0.3751 - mse: 0.5796 - mape: 185.8210 - val_loss: 0.2636 - val_mae: 0.2636 - val_mse: 0.3056 - val_mape: 175.2336\n",
            "Epoch 2/20\n",
            "5966/5966 [==============================] - 12s 2ms/step - loss: 0.2510 - mae: 0.2510 - mse: 0.2661 - mape: 168.5961 - val_loss: 0.2436 - val_mae: 0.2436 - val_mse: 0.2474 - val_mape: 170.9093\n",
            "Epoch 3/20\n",
            "5966/5966 [==============================] - 13s 2ms/step - loss: 0.2371 - mae: 0.2371 - mse: 0.2323 - mape: 165.0149 - val_loss: 0.2332 - val_mae: 0.2332 - val_mse: 0.2283 - val_mape: 167.1478\n",
            "Epoch 4/20\n",
            "5966/5966 [==============================] - 12s 2ms/step - loss: 0.2300 - mae: 0.2300 - mse: 0.2227 - mape: 162.4887 - val_loss: 0.2281 - val_mae: 0.2281 - val_mse: 0.2225 - val_mape: 164.2431\n",
            "Epoch 5/20\n",
            "5966/5966 [==============================] - 13s 2ms/step - loss: 0.2263 - mae: 0.2263 - mse: 0.2200 - mape: 160.7695 - val_loss: 0.2256 - val_mae: 0.2256 - val_mse: 0.2199 - val_mape: 162.2597\n",
            "Epoch 6/20\n",
            "5966/5966 [==============================] - 14s 2ms/step - loss: 0.2241 - mae: 0.2241 - mse: 0.2183 - mape: 159.6570 - val_loss: 0.2238 - val_mae: 0.2238 - val_mse: 0.2214 - val_mape: 165.3131\n",
            "Epoch 7/20\n",
            "5966/5966 [==============================] - 12s 2ms/step - loss: 0.2225 - mae: 0.2225 - mse: 0.2170 - mape: 158.8609 - val_loss: 0.2221 - val_mae: 0.2221 - val_mse: 0.2194 - val_mape: 162.6876\n",
            "Epoch 8/20\n",
            "5966/5966 [==============================] - 12s 2ms/step - loss: 0.2210 - mae: 0.2210 - mse: 0.2156 - mape: 157.9927 - val_loss: 0.2206 - val_mae: 0.2206 - val_mse: 0.2177 - val_mape: 162.5182\n",
            "Epoch 9/20\n",
            "5966/5966 [==============================] - 12s 2ms/step - loss: 0.2194 - mae: 0.2194 - mse: 0.2139 - mape: 157.0292 - val_loss: 0.2188 - val_mae: 0.2188 - val_mse: 0.2155 - val_mape: 160.6158\n",
            "Epoch 10/20\n",
            "5966/5966 [==============================] - 13s 2ms/step - loss: 0.2177 - mae: 0.2177 - mse: 0.2119 - mape: 155.7302 - val_loss: 0.2171 - val_mae: 0.2171 - val_mse: 0.2127 - val_mape: 158.6847\n",
            "Epoch 11/20\n",
            "5966/5966 [==============================] - 12s 2ms/step - loss: 0.2159 - mae: 0.2159 - mse: 0.2097 - mape: 154.3479 - val_loss: 0.2155 - val_mae: 0.2155 - val_mse: 0.2109 - val_mape: 158.5170\n",
            "Epoch 12/20\n",
            "5966/5966 [==============================] - 13s 2ms/step - loss: 0.2144 - mae: 0.2144 - mse: 0.2076 - mape: 152.9873 - val_loss: 0.2144 - val_mae: 0.2144 - val_mse: 0.2079 - val_mape: 155.0946\n",
            "Epoch 13/20\n",
            "5966/5966 [==============================] - 13s 2ms/step - loss: 0.2132 - mae: 0.2132 - mse: 0.2056 - mape: 151.6322 - val_loss: 0.2141 - val_mae: 0.2141 - val_mse: 0.2103 - val_mape: 157.5425\n",
            "Epoch 14/20\n",
            "5966/5966 [==============================] - 12s 2ms/step - loss: 0.2121 - mae: 0.2121 - mse: 0.2036 - mape: 150.5390 - val_loss: 0.2121 - val_mae: 0.2121 - val_mse: 0.2055 - val_mape: 154.2723\n",
            "Epoch 15/20\n",
            "5966/5966 [==============================] - 12s 2ms/step - loss: 0.2112 - mae: 0.2112 - mse: 0.2020 - mape: 149.5181 - val_loss: 0.2114 - val_mae: 0.2114 - val_mse: 0.2036 - val_mape: 152.8243\n",
            "Epoch 16/20\n",
            "5966/5966 [==============================] - 12s 2ms/step - loss: 0.2104 - mae: 0.2104 - mse: 0.2009 - mape: 148.5834 - val_loss: 0.2106 - val_mae: 0.2106 - val_mse: 0.2037 - val_mape: 151.9486\n",
            "Epoch 17/20\n",
            "5966/5966 [==============================] - 12s 2ms/step - loss: 0.2097 - mae: 0.2097 - mse: 0.1999 - mape: 147.7925 - val_loss: 0.2107 - val_mae: 0.2107 - val_mse: 0.2004 - val_mape: 149.9930\n",
            "Epoch 18/20\n",
            "5966/5966 [==============================] - 12s 2ms/step - loss: 0.2090 - mae: 0.2090 - mse: 0.1989 - mape: 147.0145 - val_loss: 0.2096 - val_mae: 0.2096 - val_mse: 0.2033 - val_mape: 152.9059\n",
            "Epoch 19/20\n",
            "5966/5966 [==============================] - 12s 2ms/step - loss: 0.2083 - mae: 0.2083 - mse: 0.1982 - mape: 146.2282 - val_loss: 0.2089 - val_mae: 0.2089 - val_mse: 0.1998 - val_mape: 149.7461\n",
            "Epoch 20/20\n",
            "5966/5966 [==============================] - 13s 2ms/step - loss: 0.2077 - mae: 0.2077 - mse: 0.1975 - mape: 145.5401 - val_loss: 0.2080 - val_mae: 0.2080 - val_mse: 0.2010 - val_mape: 150.1001\n"
          ]
        }
      ]
    },
    {
      "cell_type": "code",
      "source": [
        "model1.evaluate(X_test,y_test)"
      ],
      "metadata": {
        "id": "IN5cqHvdAj_N",
        "colab": {
          "base_uri": "https://localhost:8080/"
        },
        "outputId": "ac1e6a51-8a87-4e5d-db49-6983b7b8f269"
      },
      "execution_count": 161,
      "outputs": [
        {
          "output_type": "stream",
          "name": "stdout",
          "text": [
            "5966/5966 [==============================] - 12s 2ms/step - loss: 0.2080 - mae: 0.2080 - mse: 0.2010 - mape: 150.1001\n"
          ]
        },
        {
          "output_type": "execute_result",
          "data": {
            "text/plain": [
              "[0.20803123712539673,\n",
              " 0.20803123712539673,\n",
              " 0.20103944838047028,\n",
              " 150.1001434326172]"
            ]
          },
          "metadata": {},
          "execution_count": 161
        }
      ]
    },
    {
      "cell_type": "code",
      "source": [
        "from sklearn.metrics import mean_squared_error,r2_score,mean_absolute_percentage_error,mean_absolute_error\n",
        "pred=model1.predict(X_test)\n",
        "mod1=[mean_absolute_percentage_error(y_test,pred),mean_absolute_error(y_test,pred),mean_squared_error(y_test,pred)]"
      ],
      "metadata": {
        "id": "Zc7ncIF2yVg4"
      },
      "execution_count": 197,
      "outputs": []
    },
    {
      "cell_type": "markdown",
      "source": [
        "##B)Increasing layers and neurons"
      ],
      "metadata": {
        "id": "ZY-z61NBt-CL"
      }
    },
    {
      "cell_type": "code",
      "source": [
        "##adding two more layers\n",
        "\n",
        "\n",
        "model2 = tf.keras.Sequential([\n",
        "                                       tf.keras.layers.Dense(16, activation='sigmoid'),\n",
        "                                       tf.keras.layers.Dense(16, activation='sigmoid'),\n",
        "                                       tf.keras.layers.Dense(16, activation='sigmoid'),\n",
        "                                       tf.keras.layers.Dense(8, activation='sigmoid'),\n",
        "                                       tf.keras.layers.Dense(1)\n",
        "])\n",
        "\n",
        "\n",
        "model2.compile(loss = tf.keras.losses.mae,\n",
        "                        optimizer = \"sgd\",\n",
        "                        metrics = [\"mae\",\"mse\",\"mape\"]\n",
        "                        )\n",
        "\n",
        "#fitting the data\n",
        "history = model2.fit(X_train, y_train, validation_data=(X_test, y_test),batch_size =128, epochs = 20)"
      ],
      "metadata": {
        "colab": {
          "base_uri": "https://localhost:8080/"
        },
        "id": "VGdMWxDAy9kj",
        "outputId": "a78a381b-f0b4-432d-f03b-5e91052a6047"
      },
      "execution_count": 162,
      "outputs": [
        {
          "output_type": "stream",
          "name": "stdout",
          "text": [
            "Epoch 1/20\n",
            "5966/5966 [==============================] - 14s 2ms/step - loss: 0.5688 - mae: 0.5688 - mse: 1.0866 - mape: 233.4034 - val_loss: 0.5699 - val_mae: 0.5699 - val_mse: 1.1011 - val_mape: 236.2405\n",
            "Epoch 2/20\n",
            "5966/5966 [==============================] - 12s 2ms/step - loss: 0.5669 - mae: 0.5669 - mse: 1.0814 - mape: 233.5749 - val_loss: 0.5670 - val_mae: 0.5670 - val_mse: 1.0979 - val_mape: 241.1608\n",
            "Epoch 3/20\n",
            "5966/5966 [==============================] - 12s 2ms/step - loss: 0.5591 - mae: 0.5591 - mse: 1.0573 - mape: 230.9350 - val_loss: 0.5476 - val_mae: 0.5476 - val_mse: 1.0296 - val_mape: 225.5945\n",
            "Epoch 4/20\n",
            "5966/5966 [==============================] - 13s 2ms/step - loss: 0.4091 - mae: 0.4091 - mse: 0.6715 - mape: 186.3604 - val_loss: 0.2694 - val_mae: 0.2694 - val_mse: 0.3236 - val_mape: 179.4146\n",
            "Epoch 5/20\n",
            "5966/5966 [==============================] - 13s 2ms/step - loss: 0.2549 - mae: 0.2549 - mse: 0.2716 - mape: 173.1137 - val_loss: 0.2476 - val_mae: 0.2476 - val_mse: 0.2461 - val_mape: 172.5429\n",
            "Epoch 6/20\n",
            "5966/5966 [==============================] - 13s 2ms/step - loss: 0.2414 - mae: 0.2414 - mse: 0.2334 - mape: 168.7994 - val_loss: 0.2374 - val_mae: 0.2374 - val_mse: 0.2299 - val_mape: 171.3489\n",
            "Epoch 7/20\n",
            "5966/5966 [==============================] - 13s 2ms/step - loss: 0.2339 - mae: 0.2339 - mse: 0.2236 - mape: 165.8834 - val_loss: 0.2314 - val_mae: 0.2314 - val_mse: 0.2249 - val_mape: 169.0992\n",
            "Epoch 8/20\n",
            "5966/5966 [==============================] - 13s 2ms/step - loss: 0.2289 - mae: 0.2289 - mse: 0.2190 - mape: 164.2236 - val_loss: 0.2275 - val_mae: 0.2275 - val_mse: 0.2219 - val_mape: 170.1397\n",
            "Epoch 9/20\n",
            "5966/5966 [==============================] - 13s 2ms/step - loss: 0.2251 - mae: 0.2251 - mse: 0.2151 - mape: 162.8928 - val_loss: 0.2238 - val_mae: 0.2238 - val_mse: 0.2176 - val_mape: 167.1910\n",
            "Epoch 10/20\n",
            "5966/5966 [==============================] - 13s 2ms/step - loss: 0.2221 - mae: 0.2221 - mse: 0.2120 - mape: 161.4910 - val_loss: 0.2211 - val_mae: 0.2211 - val_mse: 0.2121 - val_mape: 163.0359\n",
            "Epoch 11/20\n",
            "5966/5966 [==============================] - 13s 2ms/step - loss: 0.2197 - mae: 0.2197 - mse: 0.2093 - mape: 160.0317 - val_loss: 0.2187 - val_mae: 0.2187 - val_mse: 0.2106 - val_mape: 163.4637\n",
            "Epoch 12/20\n",
            "5966/5966 [==============================] - 13s 2ms/step - loss: 0.2176 - mae: 0.2176 - mse: 0.2070 - mape: 158.5745 - val_loss: 0.2171 - val_mae: 0.2171 - val_mse: 0.2067 - val_mape: 159.9406\n",
            "Epoch 13/20\n",
            "5966/5966 [==============================] - 13s 2ms/step - loss: 0.2158 - mae: 0.2158 - mse: 0.2048 - mape: 156.9050 - val_loss: 0.2159 - val_mae: 0.2159 - val_mse: 0.2094 - val_mape: 161.3600\n",
            "Epoch 14/20\n",
            "5966/5966 [==============================] - 13s 2ms/step - loss: 0.2140 - mae: 0.2140 - mse: 0.2029 - mape: 155.1199 - val_loss: 0.2133 - val_mae: 0.2133 - val_mse: 0.2054 - val_mape: 159.3253\n",
            "Epoch 15/20\n",
            "5966/5966 [==============================] - 13s 2ms/step - loss: 0.2122 - mae: 0.2122 - mse: 0.2011 - mape: 153.2930 - val_loss: 0.2113 - val_mae: 0.2113 - val_mse: 0.2024 - val_mape: 155.8139\n",
            "Epoch 16/20\n",
            "5966/5966 [==============================] - 13s 2ms/step - loss: 0.2101 - mae: 0.2101 - mse: 0.1991 - mape: 150.9310 - val_loss: 0.2093 - val_mae: 0.2093 - val_mse: 0.2008 - val_mape: 152.5710\n",
            "Epoch 17/20\n",
            "5966/5966 [==============================] - 13s 2ms/step - loss: 0.2081 - mae: 0.2081 - mse: 0.1968 - mape: 148.6438 - val_loss: 0.2087 - val_mae: 0.2087 - val_mse: 0.1962 - val_mape: 150.3388\n",
            "Epoch 18/20\n",
            "5966/5966 [==============================] - 13s 2ms/step - loss: 0.2065 - mae: 0.2065 - mse: 0.1952 - mape: 146.4968 - val_loss: 0.2071 - val_mae: 0.2071 - val_mse: 0.2000 - val_mape: 152.1810\n",
            "Epoch 19/20\n",
            "5966/5966 [==============================] - 13s 2ms/step - loss: 0.2054 - mae: 0.2054 - mse: 0.1942 - mape: 144.8313 - val_loss: 0.2075 - val_mae: 0.2075 - val_mse: 0.1941 - val_mape: 148.9088\n",
            "Epoch 20/20\n",
            "5966/5966 [==============================] - 14s 2ms/step - loss: 0.2045 - mae: 0.2045 - mse: 0.1935 - mape: 143.6124 - val_loss: 0.2045 - val_mae: 0.2045 - val_mse: 0.1965 - val_mape: 147.2168\n"
          ]
        }
      ]
    },
    {
      "cell_type": "code",
      "source": [
        "model2.evaluate(X_test,y_test)"
      ],
      "metadata": {
        "colab": {
          "base_uri": "https://localhost:8080/"
        },
        "id": "jtksL3-v0B8I",
        "outputId": "6a292ff8-7354-4d26-d1e3-2343ca87513b"
      },
      "execution_count": 163,
      "outputs": [
        {
          "output_type": "stream",
          "name": "stdout",
          "text": [
            "5966/5966 [==============================] - 13s 2ms/step - loss: 0.2045 - mae: 0.2045 - mse: 0.1965 - mape: 147.2171\n"
          ]
        },
        {
          "output_type": "execute_result",
          "data": {
            "text/plain": [
              "[0.20452575385570526,\n",
              " 0.20452575385570526,\n",
              " 0.19649255275726318,\n",
              " 147.21705627441406]"
            ]
          },
          "metadata": {},
          "execution_count": 163
        }
      ]
    },
    {
      "cell_type": "markdown",
      "source": [
        "We can see all mae,mse,mape slightly decreased by increasing number of layers"
      ],
      "metadata": {
        "id": "fjoY9QVB2SHV"
      }
    },
    {
      "cell_type": "code",
      "source": [
        "from sklearn.metrics import mean_squared_error,r2_score,mean_absolute_percentage_error,mean_absolute_error\n",
        "pred=model2.predict(X_test)\n",
        "mod2=[mean_absolute_percentage_error(y_test,pred),mean_absolute_error(y_test,pred),mean_squared_error(y_test,pred)]"
      ],
      "metadata": {
        "id": "pkf2ZAmgzMmq"
      },
      "execution_count": 199,
      "outputs": []
    },
    {
      "cell_type": "code",
      "source": [
        "##Increasing neurons in a pyramid fashion\n",
        "\n",
        "model3 = tf.keras.Sequential([\n",
        "                                       tf.keras.layers.Dense(50, activation='sigmoid'),\n",
        "                                       tf.keras.layers.Dense(32, activation='sigmoid'),\n",
        "                                       tf.keras.layers.Dense(16, activation='sigmoid'),\n",
        "                                       tf.keras.layers.Dense(8, activation='sigmoid'),\n",
        "                                       tf.keras.layers.Dense(1)\n",
        "])\n",
        "\n",
        "\n",
        "model3.compile(loss = tf.keras.losses.mae,\n",
        "                        optimizer = \"sgd\",\n",
        "                        metrics = [\"mae\",\"mse\",\"mape\"]\n",
        "                        )\n",
        "\n",
        "#fitting the data\n",
        "history = model3.fit(X_train, y_train, validation_data=(X_test, y_test),batch_size =128, epochs = 20)\n"
      ],
      "metadata": {
        "colab": {
          "base_uri": "https://localhost:8080/"
        },
        "id": "0AEEnGD-0B4t",
        "outputId": "b091325f-b7bf-4826-b3b8-d4100fd4ad85"
      },
      "execution_count": 164,
      "outputs": [
        {
          "output_type": "stream",
          "name": "stdout",
          "text": [
            "Epoch 1/20\n",
            "5966/5966 [==============================] - 15s 2ms/step - loss: 0.5669 - mae: 0.5669 - mse: 1.0785 - mape: 233.1423 - val_loss: 0.5650 - val_mae: 0.5650 - val_mse: 1.0837 - val_mape: 236.7046\n",
            "Epoch 2/20\n",
            "5966/5966 [==============================] - 14s 2ms/step - loss: 0.5446 - mae: 0.5446 - mse: 1.0048 - mape: 227.2030 - val_loss: 0.4847 - val_mae: 0.4847 - val_mse: 0.8290 - val_mape: 210.3310\n",
            "Epoch 3/20\n",
            "5966/5966 [==============================] - 14s 2ms/step - loss: 0.2944 - mae: 0.2944 - mse: 0.3587 - mape: 170.8060 - val_loss: 0.2448 - val_mae: 0.2448 - val_mse: 0.2447 - val_mape: 171.0743\n",
            "Epoch 4/20\n",
            "5966/5966 [==============================] - 15s 2ms/step - loss: 0.2400 - mae: 0.2400 - mse: 0.2339 - mape: 166.7419 - val_loss: 0.2375 - val_mae: 0.2375 - val_mse: 0.2318 - val_mape: 167.4745\n",
            "Epoch 5/20\n",
            "5966/5966 [==============================] - 14s 2ms/step - loss: 0.2351 - mae: 0.2351 - mse: 0.2289 - mape: 164.4201 - val_loss: 0.2335 - val_mae: 0.2335 - val_mse: 0.2291 - val_mape: 166.0295\n",
            "Epoch 6/20\n",
            "5966/5966 [==============================] - 14s 2ms/step - loss: 0.2317 - mae: 0.2317 - mse: 0.2264 - mape: 162.8503 - val_loss: 0.2303 - val_mae: 0.2303 - val_mse: 0.2275 - val_mape: 166.2675\n",
            "Epoch 7/20\n",
            "5966/5966 [==============================] - 13s 2ms/step - loss: 0.2288 - mae: 0.2288 - mse: 0.2241 - mape: 161.6253 - val_loss: 0.2277 - val_mae: 0.2277 - val_mse: 0.2272 - val_mape: 166.1057\n",
            "Epoch 8/20\n",
            "5966/5966 [==============================] - 14s 2ms/step - loss: 0.2261 - mae: 0.2261 - mse: 0.2218 - mape: 160.6190 - val_loss: 0.2255 - val_mae: 0.2255 - val_mse: 0.2256 - val_mape: 166.9065\n",
            "Epoch 9/20\n",
            "5966/5966 [==============================] - 17s 3ms/step - loss: 0.2237 - mae: 0.2237 - mse: 0.2197 - mape: 159.6277 - val_loss: 0.2229 - val_mae: 0.2229 - val_mse: 0.2230 - val_mape: 164.2886\n",
            "Epoch 10/20\n",
            "5966/5966 [==============================] - 14s 2ms/step - loss: 0.2217 - mae: 0.2217 - mse: 0.2178 - mape: 158.5855 - val_loss: 0.2209 - val_mae: 0.2209 - val_mse: 0.2184 - val_mape: 160.8734\n",
            "Epoch 11/20\n",
            "5966/5966 [==============================] - 13s 2ms/step - loss: 0.2201 - mae: 0.2201 - mse: 0.2163 - mape: 157.6196 - val_loss: 0.2193 - val_mae: 0.2193 - val_mse: 0.2176 - val_mape: 161.0026\n",
            "Epoch 12/20\n",
            "5966/5966 [==============================] - 14s 2ms/step - loss: 0.2187 - mae: 0.2187 - mse: 0.2149 - mape: 156.8912 - val_loss: 0.2194 - val_mae: 0.2194 - val_mse: 0.2140 - val_mape: 157.9435\n",
            "Epoch 13/20\n",
            "5966/5966 [==============================] - 14s 2ms/step - loss: 0.2175 - mae: 0.2175 - mse: 0.2134 - mape: 155.9525 - val_loss: 0.2188 - val_mae: 0.2188 - val_mse: 0.2199 - val_mape: 163.0409\n",
            "Epoch 14/20\n",
            "5966/5966 [==============================] - 13s 2ms/step - loss: 0.2163 - mae: 0.2163 - mse: 0.2118 - mape: 155.0921 - val_loss: 0.2176 - val_mae: 0.2176 - val_mse: 0.2180 - val_mape: 162.9118\n",
            "Epoch 15/20\n",
            "5966/5966 [==============================] - 13s 2ms/step - loss: 0.2151 - mae: 0.2151 - mse: 0.2101 - mape: 154.2293 - val_loss: 0.2146 - val_mae: 0.2146 - val_mse: 0.2123 - val_mape: 158.1544\n",
            "Epoch 16/20\n",
            "5966/5966 [==============================] - 14s 2ms/step - loss: 0.2140 - mae: 0.2140 - mse: 0.2084 - mape: 153.1137 - val_loss: 0.2136 - val_mae: 0.2136 - val_mse: 0.2095 - val_mape: 154.7907\n",
            "Epoch 17/20\n",
            "5966/5966 [==============================] - 14s 2ms/step - loss: 0.2130 - mae: 0.2130 - mse: 0.2067 - mape: 152.3692 - val_loss: 0.2151 - val_mae: 0.2151 - val_mse: 0.2055 - val_mape: 153.2414\n",
            "Epoch 18/20\n",
            "5966/5966 [==============================] - 14s 2ms/step - loss: 0.2120 - mae: 0.2120 - mse: 0.2048 - mape: 151.5019 - val_loss: 0.2125 - val_mae: 0.2125 - val_mse: 0.2093 - val_mape: 157.6510\n",
            "Epoch 19/20\n",
            "5966/5966 [==============================] - 14s 2ms/step - loss: 0.2110 - mae: 0.2110 - mse: 0.2029 - mape: 150.5959 - val_loss: 0.2135 - val_mae: 0.2135 - val_mse: 0.2017 - val_mape: 153.4173\n",
            "Epoch 20/20\n",
            "5966/5966 [==============================] - 13s 2ms/step - loss: 0.2101 - mae: 0.2101 - mse: 0.2010 - mape: 150.1264 - val_loss: 0.2100 - val_mae: 0.2100 - val_mse: 0.2046 - val_mape: 154.7529\n"
          ]
        }
      ]
    },
    {
      "cell_type": "code",
      "source": [
        "model3.evaluate(X_test,y_test)"
      ],
      "metadata": {
        "colab": {
          "base_uri": "https://localhost:8080/"
        },
        "id": "hy0aSSdV2Mog",
        "outputId": "fa561556-0962-4045-ec10-f814b764c52a"
      },
      "execution_count": 165,
      "outputs": [
        {
          "output_type": "stream",
          "name": "stdout",
          "text": [
            "5966/5966 [==============================] - 13s 2ms/step - loss: 0.2100 - mae: 0.2100 - mse: 0.2046 - mape: 154.7534\n"
          ]
        },
        {
          "output_type": "execute_result",
          "data": {
            "text/plain": [
              "[0.2099819928407669,\n",
              " 0.2099819928407669,\n",
              " 0.2045537233352661,\n",
              " 154.75335693359375]"
            ]
          },
          "metadata": {},
          "execution_count": 165
        }
      ]
    },
    {
      "cell_type": "markdown",
      "source": [
        "Here we can see both mae,mse slightly decreased by increasing neurons per layer but mape increased a little bit"
      ],
      "metadata": {
        "id": "NsabOh0K3cje"
      }
    },
    {
      "cell_type": "code",
      "source": [
        "from sklearn.metrics import mean_squared_error,r2_score,mean_absolute_percentage_error,mean_absolute_error\n",
        "pred=model3.predict(X_test)\n",
        "mod3=[mean_absolute_percentage_error(y_test,pred),mean_absolute_error(y_test,pred),mean_squared_error(y_test,pred)]"
      ],
      "metadata": {
        "id": "tm8IdhtwzSQi"
      },
      "execution_count": 200,
      "outputs": []
    },
    {
      "cell_type": "markdown",
      "source": [
        "##C)Experimenting with activation functions"
      ],
      "metadata": {
        "id": "-QU8jM-u0mag"
      }
    },
    {
      "cell_type": "code",
      "source": [
        "#Taking relu for all layers cause it performs better than sigmoid\n",
        "\n",
        "model4 = tf.keras.Sequential([\n",
        "                                       tf.keras.layers.Dense(50, activation='relu'),\n",
        "                                       tf.keras.layers.Dense(32, activation='relu'),\n",
        "                                       tf.keras.layers.Dense(16, activation='relu'),\n",
        "                                       tf.keras.layers.Dense(8, activation='relu'),\n",
        "                                       tf.keras.layers.Dense(1)\n",
        "])\n",
        "\n",
        "\n",
        "model4.compile(loss = tf.keras.losses.mae,\n",
        "                        optimizer = \"sgd\",\n",
        "                        metrics = [\"mae\",\"mse\",\"mape\"]\n",
        "                        )\n",
        "\n",
        "#fitting the data\n",
        "history = model4.fit(X_train, y_train, validation_data=(X_test, y_test),batch_size =128, epochs = 20)"
      ],
      "metadata": {
        "colab": {
          "base_uri": "https://localhost:8080/"
        },
        "id": "_Xs6ggH90BuT",
        "outputId": "fba0b375-8612-4e5a-e874-a78d11fc9e1a"
      },
      "execution_count": 166,
      "outputs": [
        {
          "output_type": "stream",
          "name": "stdout",
          "text": [
            "Epoch 1/20\n",
            "5966/5966 [==============================] - 15s 2ms/step - loss: 0.2410 - mae: 0.2410 - mse: 0.2844 - mape: 161.9948 - val_loss: 0.2143 - val_mae: 0.2143 - val_mse: 0.2371 - val_mape: 153.9532\n",
            "Epoch 2/20\n",
            "5966/5966 [==============================] - 13s 2ms/step - loss: 0.2058 - mae: 0.2058 - mse: 0.2148 - mape: 142.4328 - val_loss: 0.2005 - val_mae: 0.2005 - val_mse: 0.2053 - val_mape: 143.4268\n",
            "Epoch 3/20\n",
            "5966/5966 [==============================] - 13s 2ms/step - loss: 0.1981 - mae: 0.1981 - mse: 0.1957 - mape: 136.5377 - val_loss: 0.1963 - val_mae: 0.1963 - val_mse: 0.1945 - val_mape: 138.8696\n",
            "Epoch 4/20\n",
            "5966/5966 [==============================] - 14s 2ms/step - loss: 0.1954 - mae: 0.1954 - mse: 0.1916 - mape: 134.2178 - val_loss: 0.1949 - val_mae: 0.1949 - val_mse: 0.1911 - val_mape: 137.3786\n",
            "Epoch 5/20\n",
            "5966/5966 [==============================] - 13s 2ms/step - loss: 0.1934 - mae: 0.1934 - mse: 0.1892 - mape: 132.8936 - val_loss: 0.1935 - val_mae: 0.1935 - val_mse: 0.1880 - val_mape: 133.7672\n",
            "Epoch 6/20\n",
            "5966/5966 [==============================] - 14s 2ms/step - loss: 0.1916 - mae: 0.1916 - mse: 0.1874 - mape: 132.0085 - val_loss: 0.1912 - val_mae: 0.1912 - val_mse: 0.1873 - val_mape: 132.6148\n",
            "Epoch 7/20\n",
            "5966/5966 [==============================] - 14s 2ms/step - loss: 0.1901 - mae: 0.1901 - mse: 0.1857 - mape: 130.8127 - val_loss: 0.1918 - val_mae: 0.1918 - val_mse: 0.1915 - val_mape: 136.6060\n",
            "Epoch 8/20\n",
            "5966/5966 [==============================] - 13s 2ms/step - loss: 0.1888 - mae: 0.1888 - mse: 0.1844 - mape: 130.1577 - val_loss: 0.1890 - val_mae: 0.1890 - val_mse: 0.1872 - val_mape: 134.7919\n",
            "Epoch 9/20\n",
            "5966/5966 [==============================] - 13s 2ms/step - loss: 0.1877 - mae: 0.1877 - mse: 0.1829 - mape: 129.2563 - val_loss: 0.1877 - val_mae: 0.1877 - val_mse: 0.1864 - val_mape: 133.3595\n",
            "Epoch 10/20\n",
            "5966/5966 [==============================] - 14s 2ms/step - loss: 0.1865 - mae: 0.1865 - mse: 0.1817 - mape: 128.2584 - val_loss: 0.1862 - val_mae: 0.1862 - val_mse: 0.1830 - val_mape: 131.2482\n",
            "Epoch 11/20\n",
            "5966/5966 [==============================] - 13s 2ms/step - loss: 0.1855 - mae: 0.1855 - mse: 0.1804 - mape: 127.5670 - val_loss: 0.1855 - val_mae: 0.1855 - val_mse: 0.1835 - val_mape: 133.3322\n",
            "Epoch 12/20\n",
            "5966/5966 [==============================] - 14s 2ms/step - loss: 0.1845 - mae: 0.1845 - mse: 0.1794 - mape: 126.6053 - val_loss: 0.1856 - val_mae: 0.1856 - val_mse: 0.1802 - val_mape: 128.2068\n",
            "Epoch 13/20\n",
            "5966/5966 [==============================] - 14s 2ms/step - loss: 0.1835 - mae: 0.1835 - mse: 0.1782 - mape: 125.7148 - val_loss: 0.1882 - val_mae: 0.1882 - val_mse: 0.1867 - val_mape: 135.4996\n",
            "Epoch 14/20\n",
            "5966/5966 [==============================] - 14s 2ms/step - loss: 0.1826 - mae: 0.1826 - mse: 0.1771 - mape: 125.0831 - val_loss: 0.1827 - val_mae: 0.1827 - val_mse: 0.1812 - val_mape: 130.2552\n",
            "Epoch 15/20\n",
            "5966/5966 [==============================] - 14s 2ms/step - loss: 0.1818 - mae: 0.1818 - mse: 0.1761 - mape: 124.1269 - val_loss: 0.1816 - val_mae: 0.1816 - val_mse: 0.1787 - val_mape: 128.0122\n",
            "Epoch 16/20\n",
            "5966/5966 [==============================] - 13s 2ms/step - loss: 0.1809 - mae: 0.1809 - mse: 0.1748 - mape: 123.4570 - val_loss: 0.1811 - val_mae: 0.1811 - val_mse: 0.1764 - val_mape: 126.5740\n",
            "Epoch 17/20\n",
            "5966/5966 [==============================] - 13s 2ms/step - loss: 0.1801 - mae: 0.1801 - mse: 0.1742 - mape: 122.9288 - val_loss: 0.1816 - val_mae: 0.1816 - val_mse: 0.1747 - val_mape: 128.0463\n",
            "Epoch 18/20\n",
            "5966/5966 [==============================] - 14s 2ms/step - loss: 0.1793 - mae: 0.1793 - mse: 0.1733 - mape: 122.3221 - val_loss: 0.1791 - val_mae: 0.1791 - val_mse: 0.1764 - val_mape: 126.8628\n",
            "Epoch 19/20\n",
            "5966/5966 [==============================] - 14s 2ms/step - loss: 0.1786 - mae: 0.1786 - mse: 0.1723 - mape: 121.5810 - val_loss: 0.1789 - val_mae: 0.1789 - val_mse: 0.1746 - val_mape: 126.5752\n",
            "Epoch 20/20\n",
            "5966/5966 [==============================] - 14s 2ms/step - loss: 0.1779 - mae: 0.1779 - mse: 0.1716 - mape: 121.1903 - val_loss: 0.1785 - val_mae: 0.1785 - val_mse: 0.1759 - val_mape: 127.3867\n"
          ]
        }
      ]
    },
    {
      "cell_type": "code",
      "source": [
        "model4.evaluate(X_test,y_test)"
      ],
      "metadata": {
        "colab": {
          "base_uri": "https://localhost:8080/"
        },
        "id": "kg-8SOYa2lne",
        "outputId": "b8241e74-ef2e-4e6b-e51f-b2bdacd48f03"
      },
      "execution_count": 167,
      "outputs": [
        {
          "output_type": "stream",
          "name": "stdout",
          "text": [
            "5966/5966 [==============================] - 12s 2ms/step - loss: 0.1785 - mae: 0.1785 - mse: 0.1759 - mape: 127.3868\n"
          ]
        },
        {
          "output_type": "execute_result",
          "data": {
            "text/plain": [
              "[0.17848441004753113,\n",
              " 0.17848441004753113,\n",
              " 0.1759074479341507,\n",
              " 127.38678741455078]"
            ]
          },
          "metadata": {},
          "execution_count": 167
        }
      ]
    },
    {
      "cell_type": "markdown",
      "source": [
        "We can observe changing activation function very much decreased all our error metrics"
      ],
      "metadata": {
        "id": "ylwB0ARZ47Vx"
      }
    },
    {
      "cell_type": "code",
      "source": [
        "from sklearn.metrics import mean_squared_error,r2_score,mean_absolute_percentage_error,mean_absolute_error\n",
        "pred=model4.predict(X_test)\n",
        "mod4=[mean_absolute_percentage_error(y_test,pred),mean_absolute_error(y_test,pred),mean_squared_error(y_test,pred)]"
      ],
      "metadata": {
        "id": "r9paHV-9zZ5N"
      },
      "execution_count": 201,
      "outputs": []
    },
    {
      "cell_type": "code",
      "source": [
        "#Taking leaky_relu and checking perfomance metrics\n",
        "\n",
        "#To use the leaky ReLU activation function, you must create a LeakyReLU instance\n",
        "\n",
        "import keras\n",
        "leaky_relu = keras.layers.LeakyReLU(alpha=0.2)\n",
        "\n",
        "model5 = tf.keras.Sequential([\n",
        "                                       tf.keras.layers.Dense(50, activation=leaky_relu),\n",
        "                                       tf.keras.layers.Dense(32, activation=leaky_relu),\n",
        "                                       tf.keras.layers.Dense(16, activation=leaky_relu),\n",
        "                                       tf.keras.layers.Dense(8, activation=leaky_relu),\n",
        "                                       tf.keras.layers.Dense(1)\n",
        "])\n",
        "\n",
        "\n",
        "model5.compile(loss = tf.keras.losses.mae,\n",
        "                        optimizer = \"sgd\",\n",
        "                        metrics = [\"mae\",\"mse\",\"mape\"]\n",
        "                        )\n",
        "\n",
        "#fitting the data\n",
        "history = model5.fit(X_train, y_train, validation_data=(X_test, y_test),batch_size =128, epochs = 20)"
      ],
      "metadata": {
        "colab": {
          "base_uri": "https://localhost:8080/"
        },
        "id": "4PZOFCxA2lj4",
        "outputId": "f32b2f22-0434-47ca-b726-f86854505717"
      },
      "execution_count": 168,
      "outputs": [
        {
          "output_type": "stream",
          "name": "stdout",
          "text": [
            "Epoch 1/20\n",
            "5966/5966 [==============================] - 15s 2ms/step - loss: 0.2294 - mae: 0.2294 - mse: 0.2898 - mape: 158.4252 - val_loss: 0.2140 - val_mae: 0.2140 - val_mse: 0.2634 - val_mape: 155.7536\n",
            "Epoch 2/20\n",
            "5966/5966 [==============================] - 13s 2ms/step - loss: 0.2073 - mae: 0.2073 - mse: 0.2447 - mape: 145.0127 - val_loss: 0.2037 - val_mae: 0.2037 - val_mse: 0.2369 - val_mape: 145.7414\n",
            "Epoch 3/20\n",
            "5966/5966 [==============================] - 14s 2ms/step - loss: 0.2010 - mae: 0.2010 - mse: 0.2287 - mape: 139.8694 - val_loss: 0.2006 - val_mae: 0.2006 - val_mse: 0.2256 - val_mape: 143.3586\n",
            "Epoch 4/20\n",
            "5966/5966 [==============================] - 14s 2ms/step - loss: 0.1977 - mae: 0.1977 - mse: 0.2187 - mape: 136.9541 - val_loss: 0.1972 - val_mae: 0.1972 - val_mse: 0.2124 - val_mape: 138.3837\n",
            "Epoch 5/20\n",
            "5966/5966 [==============================] - 13s 2ms/step - loss: 0.1952 - mae: 0.1952 - mse: 0.2102 - mape: 134.8869 - val_loss: 0.1956 - val_mae: 0.1956 - val_mse: 0.2040 - val_mape: 134.9943\n",
            "Epoch 6/20\n",
            "5966/5966 [==============================] - 14s 2ms/step - loss: 0.1930 - mae: 0.1930 - mse: 0.2019 - mape: 133.0426 - val_loss: 0.1930 - val_mae: 0.1930 - val_mse: 0.2006 - val_mape: 134.8526\n",
            "Epoch 7/20\n",
            "5966/5966 [==============================] - 14s 2ms/step - loss: 0.1912 - mae: 0.1912 - mse: 0.1955 - mape: 131.4770 - val_loss: 0.1926 - val_mae: 0.1926 - val_mse: 0.1981 - val_mape: 138.4107\n",
            "Epoch 8/20\n",
            "5966/5966 [==============================] - 13s 2ms/step - loss: 0.1896 - mae: 0.1896 - mse: 0.1912 - mape: 130.2237 - val_loss: 0.1893 - val_mae: 0.1893 - val_mse: 0.1892 - val_mape: 133.9751\n",
            "Epoch 9/20\n",
            "5966/5966 [==============================] - 14s 2ms/step - loss: 0.1882 - mae: 0.1882 - mse: 0.1883 - mape: 129.2002 - val_loss: 0.1876 - val_mae: 0.1876 - val_mse: 0.1878 - val_mape: 131.1876\n",
            "Epoch 10/20\n",
            "5966/5966 [==============================] - 14s 2ms/step - loss: 0.1870 - mae: 0.1870 - mse: 0.1859 - mape: 128.3004 - val_loss: 0.1865 - val_mae: 0.1865 - val_mse: 0.1857 - val_mape: 131.3743\n",
            "Epoch 11/20\n",
            "5966/5966 [==============================] - 14s 2ms/step - loss: 0.1859 - mae: 0.1859 - mse: 0.1843 - mape: 127.3925 - val_loss: 0.1861 - val_mae: 0.1861 - val_mse: 0.1862 - val_mape: 134.0457\n",
            "Epoch 12/20\n",
            "5966/5966 [==============================] - 14s 2ms/step - loss: 0.1847 - mae: 0.1847 - mse: 0.1827 - mape: 126.7326 - val_loss: 0.1849 - val_mae: 0.1849 - val_mse: 0.1827 - val_mape: 128.9185\n",
            "Epoch 13/20\n",
            "5966/5966 [==============================] - 14s 2ms/step - loss: 0.1837 - mae: 0.1837 - mse: 0.1815 - mape: 125.8935 - val_loss: 0.1903 - val_mae: 0.1903 - val_mse: 0.1900 - val_mape: 138.0613\n",
            "Epoch 14/20\n",
            "5966/5966 [==============================] - 13s 2ms/step - loss: 0.1828 - mae: 0.1828 - mse: 0.1808 - mape: 125.2649 - val_loss: 0.1828 - val_mae: 0.1828 - val_mse: 0.1827 - val_mape: 130.5102\n",
            "Epoch 15/20\n",
            "5966/5966 [==============================] - 13s 2ms/step - loss: 0.1819 - mae: 0.1819 - mse: 0.1798 - mape: 124.6292 - val_loss: 0.1816 - val_mae: 0.1816 - val_mse: 0.1810 - val_mape: 129.1136\n",
            "Epoch 16/20\n",
            "5966/5966 [==============================] - 13s 2ms/step - loss: 0.1809 - mae: 0.1809 - mse: 0.1784 - mape: 123.8997 - val_loss: 0.1817 - val_mae: 0.1817 - val_mse: 0.1784 - val_mape: 125.6141\n",
            "Epoch 17/20\n",
            "5966/5966 [==============================] - 14s 2ms/step - loss: 0.1801 - mae: 0.1801 - mse: 0.1780 - mape: 123.2474 - val_loss: 0.1802 - val_mae: 0.1802 - val_mse: 0.1775 - val_mape: 126.8796\n",
            "Epoch 18/20\n",
            "5966/5966 [==============================] - 14s 2ms/step - loss: 0.1794 - mae: 0.1794 - mse: 0.1771 - mape: 122.7685 - val_loss: 0.1792 - val_mae: 0.1792 - val_mse: 0.1796 - val_mape: 126.2236\n",
            "Epoch 19/20\n",
            "5966/5966 [==============================] - 14s 2ms/step - loss: 0.1787 - mae: 0.1787 - mse: 0.1764 - mape: 122.2506 - val_loss: 0.1782 - val_mae: 0.1782 - val_mse: 0.1772 - val_mape: 126.7044\n",
            "Epoch 20/20\n",
            "5966/5966 [==============================] - 14s 2ms/step - loss: 0.1782 - mae: 0.1782 - mse: 0.1755 - mape: 121.8269 - val_loss: 0.1776 - val_mae: 0.1776 - val_mse: 0.1775 - val_mape: 126.3583\n"
          ]
        }
      ]
    },
    {
      "cell_type": "code",
      "source": [
        "model5.evaluate(X_test,y_test)"
      ],
      "metadata": {
        "colab": {
          "base_uri": "https://localhost:8080/"
        },
        "id": "fxT_EuKL40W6",
        "outputId": "8d7fdd5f-cc8d-4125-b61d-aa91c54ee33a"
      },
      "execution_count": 169,
      "outputs": [
        {
          "output_type": "stream",
          "name": "stdout",
          "text": [
            "5966/5966 [==============================] - 13s 2ms/step - loss: 0.1776 - mae: 0.1776 - mse: 0.1775 - mape: 126.3585\n"
          ]
        },
        {
          "output_type": "execute_result",
          "data": {
            "text/plain": [
              "[0.17763429880142212,\n",
              " 0.17763429880142212,\n",
              " 0.17751337587833405,\n",
              " 126.35848999023438]"
            ]
          },
          "metadata": {},
          "execution_count": 169
        }
      ]
    },
    {
      "cell_type": "markdown",
      "source": [
        "With leaky relu the losses are almost same as from relu activation function"
      ],
      "metadata": {
        "id": "TOvdajnM6zk6"
      }
    },
    {
      "cell_type": "code",
      "source": [
        "from sklearn.metrics import mean_squared_error,r2_score,mean_absolute_percentage_error,mean_absolute_error\n",
        "pred=model5.predict(X_test)\n",
        "mod5=[mean_absolute_percentage_error(y_test,pred),mean_absolute_error(y_test,pred),mean_squared_error(y_test,pred)]"
      ],
      "metadata": {
        "id": "dAyPl47Wzd0Y"
      },
      "execution_count": 202,
      "outputs": []
    },
    {
      "cell_type": "code",
      "source": [
        "#Doing batch normalization for scaling and adding softmax activation function at the end to get positive output values at the end\n",
        "\n",
        "model6 = tf.keras.Sequential([\n",
        "                                       keras.layers.BatchNormalization(),\n",
        "                                       tf.keras.layers.Dense(50, activation='relu'),\n",
        "                                       keras.layers.BatchNormalization(),\n",
        "                                       tf.keras.layers.Dense(32, activation='relu'),\n",
        "                                       keras.layers.BatchNormalization(),\n",
        "                                       tf.keras.layers.Dense(16, activation='relu'),\n",
        "                                       keras.layers.BatchNormalization(),\n",
        "                                       tf.keras.layers.Dense(8, activation='relu'),\n",
        "                                       keras.layers.BatchNormalization(),\n",
        "                                       tf.keras.layers.Dense(1,activation ='softmax')\n",
        "])\n",
        "\n",
        "\n",
        "model6.compile(loss = tf.keras.losses.mae,\n",
        "                        optimizer = \"sgd\",\n",
        "                        metrics = [\"mae\",\"mse\",\"mape\"]\n",
        "                        )\n",
        "\n",
        "#fitting the data\n",
        "history = model6.fit(X_train, y_train, validation_data=(X_test, y_test),batch_size =128, epochs = 20)\n"
      ],
      "metadata": {
        "colab": {
          "base_uri": "https://localhost:8080/"
        },
        "id": "wlaw1h9V40Th",
        "outputId": "a4f9e18a-4663-4b6d-cede-0537f904d230"
      },
      "execution_count": 170,
      "outputs": [
        {
          "output_type": "stream",
          "name": "stdout",
          "text": [
            "Epoch 1/20\n",
            "5966/5966 [==============================] - 21s 3ms/step - loss: 1.2887 - mae: 1.2887 - mse: 1.9973 - mape: 801.9169 - val_loss: 1.2930 - val_mae: 1.2930 - val_mse: 2.0110 - val_mape: 813.7867\n",
            "Epoch 2/20\n",
            "5966/5966 [==============================] - 19s 3ms/step - loss: 1.2887 - mae: 1.2887 - mse: 1.9973 - mape: 801.9155 - val_loss: 1.2930 - val_mae: 1.2930 - val_mse: 2.0110 - val_mape: 813.7867\n",
            "Epoch 3/20\n",
            "5966/5966 [==============================] - 19s 3ms/step - loss: 1.2887 - mae: 1.2887 - mse: 1.9973 - mape: 801.9171 - val_loss: 1.2930 - val_mae: 1.2930 - val_mse: 2.0110 - val_mape: 813.7867\n",
            "Epoch 4/20\n",
            "5966/5966 [==============================] - 19s 3ms/step - loss: 1.2887 - mae: 1.2887 - mse: 1.9973 - mape: 801.9166 - val_loss: 1.2930 - val_mae: 1.2930 - val_mse: 2.0110 - val_mape: 813.7867\n",
            "Epoch 5/20\n",
            "5966/5966 [==============================] - 19s 3ms/step - loss: 1.2887 - mae: 1.2887 - mse: 1.9973 - mape: 801.9155 - val_loss: 1.2930 - val_mae: 1.2930 - val_mse: 2.0110 - val_mape: 813.7867\n",
            "Epoch 6/20\n",
            "5966/5966 [==============================] - 19s 3ms/step - loss: 1.2887 - mae: 1.2887 - mse: 1.9973 - mape: 801.9158 - val_loss: 1.2930 - val_mae: 1.2930 - val_mse: 2.0110 - val_mape: 813.7867\n",
            "Epoch 7/20\n",
            "5966/5966 [==============================] - 19s 3ms/step - loss: 1.2887 - mae: 1.2887 - mse: 1.9973 - mape: 801.9157 - val_loss: 1.2930 - val_mae: 1.2930 - val_mse: 2.0110 - val_mape: 813.7867\n",
            "Epoch 8/20\n",
            "5966/5966 [==============================] - 20s 3ms/step - loss: 1.2887 - mae: 1.2887 - mse: 1.9973 - mape: 801.9175 - val_loss: 1.2930 - val_mae: 1.2930 - val_mse: 2.0110 - val_mape: 813.7867\n",
            "Epoch 9/20\n",
            "5966/5966 [==============================] - 19s 3ms/step - loss: 1.2887 - mae: 1.2887 - mse: 1.9973 - mape: 801.9156 - val_loss: 1.2930 - val_mae: 1.2930 - val_mse: 2.0110 - val_mape: 813.7867\n",
            "Epoch 10/20\n",
            "5966/5966 [==============================] - 19s 3ms/step - loss: 1.2887 - mae: 1.2887 - mse: 1.9973 - mape: 801.9144 - val_loss: 1.2930 - val_mae: 1.2930 - val_mse: 2.0110 - val_mape: 813.7867\n",
            "Epoch 11/20\n",
            "5966/5966 [==============================] - 19s 3ms/step - loss: 1.2887 - mae: 1.2887 - mse: 1.9973 - mape: 801.9158 - val_loss: 1.2930 - val_mae: 1.2930 - val_mse: 2.0110 - val_mape: 813.7867\n",
            "Epoch 12/20\n",
            "5966/5966 [==============================] - 19s 3ms/step - loss: 1.2887 - mae: 1.2887 - mse: 1.9973 - mape: 801.9178 - val_loss: 1.2930 - val_mae: 1.2930 - val_mse: 2.0110 - val_mape: 813.7867\n",
            "Epoch 13/20\n",
            "5966/5966 [==============================] - 19s 3ms/step - loss: 1.2887 - mae: 1.2887 - mse: 1.9973 - mape: 801.9153 - val_loss: 1.2930 - val_mae: 1.2930 - val_mse: 2.0110 - val_mape: 813.7867\n",
            "Epoch 14/20\n",
            "5966/5966 [==============================] - 19s 3ms/step - loss: 1.2887 - mae: 1.2887 - mse: 1.9973 - mape: 801.9155 - val_loss: 1.2930 - val_mae: 1.2930 - val_mse: 2.0110 - val_mape: 813.7867\n",
            "Epoch 15/20\n",
            "5966/5966 [==============================] - 19s 3ms/step - loss: 1.2887 - mae: 1.2887 - mse: 1.9973 - mape: 801.9161 - val_loss: 1.2930 - val_mae: 1.2930 - val_mse: 2.0110 - val_mape: 813.7867\n",
            "Epoch 16/20\n",
            "5966/5966 [==============================] - 19s 3ms/step - loss: 1.2887 - mae: 1.2887 - mse: 1.9973 - mape: 801.9148 - val_loss: 1.2930 - val_mae: 1.2930 - val_mse: 2.0110 - val_mape: 813.7867\n",
            "Epoch 17/20\n",
            "5966/5966 [==============================] - 19s 3ms/step - loss: 1.2887 - mae: 1.2887 - mse: 1.9973 - mape: 801.9146 - val_loss: 1.2930 - val_mae: 1.2930 - val_mse: 2.0110 - val_mape: 813.7867\n",
            "Epoch 18/20\n",
            "5966/5966 [==============================] - 19s 3ms/step - loss: 1.2887 - mae: 1.2887 - mse: 1.9973 - mape: 801.9160 - val_loss: 1.2930 - val_mae: 1.2930 - val_mse: 2.0110 - val_mape: 813.7867\n",
            "Epoch 19/20\n",
            "5966/5966 [==============================] - 18s 3ms/step - loss: 1.2887 - mae: 1.2887 - mse: 1.9973 - mape: 801.9169 - val_loss: 1.2930 - val_mae: 1.2930 - val_mse: 2.0110 - val_mape: 813.7867\n",
            "Epoch 20/20\n",
            "5966/5966 [==============================] - 17s 3ms/step - loss: 1.2887 - mae: 1.2887 - mse: 1.9973 - mape: 801.9158 - val_loss: 1.2930 - val_mae: 1.2930 - val_mse: 2.0110 - val_mape: 813.7867\n"
          ]
        }
      ]
    },
    {
      "cell_type": "code",
      "source": [
        "model6.evaluate(X_test,y_test)"
      ],
      "metadata": {
        "colab": {
          "base_uri": "https://localhost:8080/"
        },
        "id": "CxPIdHWv2lhI",
        "outputId": "3fd7c565-4ab0-49d0-bdcf-a759300c4ef0"
      },
      "execution_count": 171,
      "outputs": [
        {
          "output_type": "stream",
          "name": "stdout",
          "text": [
            "5966/5966 [==============================] - 13s 2ms/step - loss: 1.2930 - mae: 1.2930 - mse: 2.0110 - mape: 813.7844\n"
          ]
        },
        {
          "output_type": "execute_result",
          "data": {
            "text/plain": [
              "[1.2930076122283936, 1.2930076122283936, 2.010979652404785, 813.7843627929688]"
            ]
          },
          "metadata": {},
          "execution_count": 171
        }
      ]
    },
    {
      "cell_type": "markdown",
      "source": [
        "This all performance metrics are high.Hence we can say this model is performing poorly."
      ],
      "metadata": {
        "id": "skR_X8-xFNgq"
      }
    },
    {
      "cell_type": "code",
      "source": [
        "from sklearn.metrics import mean_squared_error,r2_score,mean_absolute_percentage_error,mean_absolute_error\n",
        "pred=model6.predict(X_test)\n",
        "mod6=[mean_absolute_percentage_error(y_test,pred),mean_absolute_error(y_test,pred),mean_squared_error(y_test,pred)]"
      ],
      "metadata": {
        "id": "N8Tkpi6GziQJ"
      },
      "execution_count": 203,
      "outputs": []
    },
    {
      "cell_type": "markdown",
      "source": [
        "##D)Reguralization techniques:Early stopping and dropout"
      ],
      "metadata": {
        "id": "La0eKF2x7VEd"
      }
    },
    {
      "cell_type": "code",
      "source": [
        "#early stoping\n",
        "callback=tf.keras.callbacks.EarlyStopping(\n",
        "    monitor=\"val_loss\",\n",
        "    min_delta=0,\n",
        "    patience=3,\n",
        "    verbose=1,\n",
        "    mode=\"auto\",\n",
        "    baseline=None,\n",
        "    restore_best_weights=False,\n",
        ")"
      ],
      "metadata": {
        "id": "qNMExsji7OYf"
      },
      "execution_count": 172,
      "outputs": []
    },
    {
      "cell_type": "code",
      "source": [
        "model7 = tf.keras.Sequential([\n",
        "                                       tf.keras.layers.Dense(50, activation='relu'),\n",
        "                                       keras.layers.BatchNormalization(),\n",
        "                                       tf.keras.layers.Dense(32, activation='relu'),\n",
        "                                       keras.layers.BatchNormalization(),\n",
        "                                       tf.keras.layers.Dense(16, activation='relu'),\n",
        "                                       keras.layers.BatchNormalization(),\n",
        "                                       tf.keras.layers.Dense(8, activation='relu'),\n",
        "                                       keras.layers.BatchNormalization(),\n",
        "                                       tf.keras.layers.Dense(1)\n",
        "])\n",
        "\n",
        "\n",
        "model7.compile(loss = tf.keras.losses.mae,\n",
        "                        optimizer = \"sgd\",\n",
        "                        metrics = [\"mae\",\"mse\",\"mape\"]\n",
        "                        )\n",
        "\n",
        "#fitting the data\n",
        "history = model7.fit(X_train, y_train, validation_data=(X_test, y_test),batch_size =128, epochs = 50,callbacks=callback)"
      ],
      "metadata": {
        "colab": {
          "base_uri": "https://localhost:8080/"
        },
        "id": "k0rtpQ5J7OU9",
        "outputId": "92e3ddd3-837b-451c-b714-d23c1381f6ab"
      },
      "execution_count": 173,
      "outputs": [
        {
          "output_type": "stream",
          "name": "stdout",
          "text": [
            "Epoch 1/50\n",
            "5966/5966 [==============================] - 19s 3ms/step - loss: 0.2678 - mae: 0.2678 - mse: 0.2612 - mape: 182.3762 - val_loss: 0.2209 - val_mae: 0.2209 - val_mse: 0.2703 - val_mape: 158.1488\n",
            "Epoch 2/50\n",
            "5966/5966 [==============================] - 17s 3ms/step - loss: 0.2352 - mae: 0.2352 - mse: 0.2281 - mape: 157.2909 - val_loss: 0.2139 - val_mae: 0.2139 - val_mse: 0.2504 - val_mape: 149.9818\n",
            "Epoch 3/50\n",
            "5966/5966 [==============================] - 17s 3ms/step - loss: 0.2289 - mae: 0.2289 - mse: 0.2189 - mape: 152.7937 - val_loss: 0.2081 - val_mae: 0.2081 - val_mse: 0.2288 - val_mape: 144.1401\n",
            "Epoch 4/50\n",
            "5966/5966 [==============================] - 17s 3ms/step - loss: 0.2226 - mae: 0.2226 - mse: 0.2099 - mape: 149.3862 - val_loss: 0.2019 - val_mae: 0.2019 - val_mse: 0.2130 - val_mape: 139.3653\n",
            "Epoch 5/50\n",
            "5966/5966 [==============================] - 18s 3ms/step - loss: 0.2197 - mae: 0.2197 - mse: 0.2064 - mape: 146.3101 - val_loss: 0.2016 - val_mae: 0.2016 - val_mse: 0.2055 - val_mape: 133.8962\n",
            "Epoch 6/50\n",
            "5966/5966 [==============================] - 16s 3ms/step - loss: 0.2164 - mae: 0.2164 - mse: 0.2021 - mape: 144.8717 - val_loss: 0.1964 - val_mae: 0.1964 - val_mse: 0.2004 - val_mape: 135.2227\n",
            "Epoch 7/50\n",
            "5966/5966 [==============================] - 17s 3ms/step - loss: 0.2142 - mae: 0.2142 - mse: 0.1993 - mape: 143.7634 - val_loss: 0.1948 - val_mae: 0.1948 - val_mse: 0.1984 - val_mape: 135.8293\n",
            "Epoch 8/50\n",
            "5966/5966 [==============================] - 17s 3ms/step - loss: 0.2131 - mae: 0.2131 - mse: 0.1987 - mape: 142.9714 - val_loss: 0.1935 - val_mae: 0.1935 - val_mse: 0.1915 - val_mape: 130.8591\n",
            "Epoch 9/50\n",
            "5966/5966 [==============================] - 17s 3ms/step - loss: 0.2121 - mae: 0.2121 - mse: 0.1974 - mape: 142.5755 - val_loss: 0.1917 - val_mae: 0.1917 - val_mse: 0.1927 - val_mape: 131.9842\n",
            "Epoch 10/50\n",
            "5966/5966 [==============================] - 17s 3ms/step - loss: 0.2104 - mae: 0.2104 - mse: 0.1957 - mape: 141.9233 - val_loss: 0.1909 - val_mae: 0.1909 - val_mse: 0.1889 - val_mape: 132.7760\n",
            "Epoch 11/50\n",
            "5966/5966 [==============================] - 16s 3ms/step - loss: 0.2092 - mae: 0.2092 - mse: 0.1944 - mape: 141.2021 - val_loss: 0.1905 - val_mae: 0.1905 - val_mse: 0.1863 - val_mape: 133.6965\n",
            "Epoch 12/50\n",
            "5966/5966 [==============================] - 17s 3ms/step - loss: 0.2086 - mae: 0.2086 - mse: 0.1942 - mape: 141.8557 - val_loss: 0.1907 - val_mae: 0.1907 - val_mse: 0.1891 - val_mape: 129.2748\n",
            "Epoch 13/50\n",
            "5966/5966 [==============================] - 16s 3ms/step - loss: 0.2072 - mae: 0.2072 - mse: 0.1923 - mape: 140.7374 - val_loss: 0.1893 - val_mae: 0.1893 - val_mse: 0.1894 - val_mape: 134.6821\n",
            "Epoch 14/50\n",
            "5966/5966 [==============================] - 16s 3ms/step - loss: 0.2071 - mae: 0.2071 - mse: 0.1924 - mape: 140.9503 - val_loss: 0.1890 - val_mae: 0.1890 - val_mse: 0.1910 - val_mape: 134.1784\n",
            "Epoch 15/50\n",
            "5966/5966 [==============================] - 18s 3ms/step - loss: 0.2058 - mae: 0.2058 - mse: 0.1908 - mape: 139.9704 - val_loss: 0.1864 - val_mae: 0.1864 - val_mse: 0.1854 - val_mape: 130.6837\n",
            "Epoch 16/50\n",
            "5966/5966 [==============================] - 16s 3ms/step - loss: 0.2056 - mae: 0.2056 - mse: 0.1904 - mape: 140.3815 - val_loss: 0.1875 - val_mae: 0.1875 - val_mse: 0.1840 - val_mape: 128.5725\n",
            "Epoch 17/50\n",
            "5966/5966 [==============================] - 16s 3ms/step - loss: 0.2055 - mae: 0.2055 - mse: 0.1903 - mape: 140.6929 - val_loss: 0.1879 - val_mae: 0.1879 - val_mse: 0.1846 - val_mape: 127.5340\n",
            "Epoch 18/50\n",
            "5966/5966 [==============================] - 18s 3ms/step - loss: 0.2044 - mae: 0.2044 - mse: 0.1890 - mape: 139.5747 - val_loss: 0.1865 - val_mae: 0.1865 - val_mse: 0.1890 - val_mape: 132.1188\n",
            "Epoch 18: early stopping\n"
          ]
        }
      ]
    },
    {
      "cell_type": "code",
      "source": [
        "model7.evaluate(X_test,y_test)"
      ],
      "metadata": {
        "colab": {
          "base_uri": "https://localhost:8080/"
        },
        "id": "pr2Mz6qX7OSU",
        "outputId": "c549df2d-a832-4742-e037-22558edb7f22"
      },
      "execution_count": 174,
      "outputs": [
        {
          "output_type": "stream",
          "name": "stdout",
          "text": [
            "5966/5966 [==============================] - 14s 2ms/step - loss: 0.1865 - mae: 0.1865 - mse: 0.1890 - mape: 132.1188\n"
          ]
        },
        {
          "output_type": "execute_result",
          "data": {
            "text/plain": [
              "[0.18649634718894958,\n",
              " 0.18649634718894958,\n",
              " 0.18895454704761505,\n",
              " 132.11880493164062]"
            ]
          },
          "metadata": {},
          "execution_count": 174
        }
      ]
    },
    {
      "cell_type": "code",
      "source": [
        "from sklearn.metrics import mean_squared_error,r2_score,mean_absolute_percentage_error,mean_absolute_error\n",
        "pred=model7.predict(X_test)\n",
        "mod7=[mean_absolute_percentage_error(y_test,pred),mean_absolute_error(y_test,pred),mean_squared_error(y_test,pred)]"
      ],
      "metadata": {
        "id": "EJFLx_ZTzpx_"
      },
      "execution_count": 204,
      "outputs": []
    },
    {
      "cell_type": "code",
      "source": [
        "#dropouts for reguralization\n",
        "from tensorflow.keras.layers import Dropout\n",
        "\n",
        "model8 = tf.keras.Sequential([\n",
        "                                       tf.keras.layers.Dense(50, activation='relu'),\n",
        "                                       keras.layers.BatchNormalization(),\n",
        "                                       Dropout(0.3),\n",
        "                                       tf.keras.layers.Dense(32, activation='relu'),\n",
        "                                       keras.layers.BatchNormalization(),\n",
        "                                       Dropout(0.3),\n",
        "                                       tf.keras.layers.Dense(16, activation='relu'),\n",
        "                                       keras.layers.BatchNormalization(),\n",
        "                                       Dropout(0.3),\n",
        "                                       tf.keras.layers.Dense(8, activation='softmax'),\n",
        "                                       keras.layers.BatchNormalization(),\n",
        "                                       Dropout(0.3),\n",
        "                                       tf.keras.layers.Dense(1)\n",
        "])\n",
        "\n",
        "\n",
        "model8.compile(loss = tf.keras.losses.mae,\n",
        "                        optimizer = \"sgd\",\n",
        "                        metrics = [\"mae\",\"mse\",\"mape\"]\n",
        "                        )\n",
        "\n",
        "#fitting the data\n",
        "history = model8.fit(X_train, y_train, validation_data=(X_test, y_test),batch_size =128, epochs = 50,callbacks=callback,verbose=1)"
      ],
      "metadata": {
        "colab": {
          "base_uri": "https://localhost:8080/"
        },
        "id": "6n1wb61cLBKk",
        "outputId": "a51bc271-4604-4a46-eafa-e33e623c4d2a"
      },
      "execution_count": 175,
      "outputs": [
        {
          "output_type": "stream",
          "name": "stdout",
          "text": [
            "Epoch 1/50\n",
            "5966/5966 [==============================] - 23s 4ms/step - loss: 0.4354 - mae: 0.4354 - mse: 0.6369 - mape: 223.5134 - val_loss: 0.2819 - val_mae: 0.2819 - val_mse: 0.3311 - val_mape: 150.3026\n",
            "Epoch 2/50\n",
            "5966/5966 [==============================] - 21s 3ms/step - loss: 0.3351 - mae: 0.3351 - mse: 0.4207 - mape: 187.4681 - val_loss: 0.2599 - val_mae: 0.2599 - val_mse: 0.2945 - val_mape: 147.5295\n",
            "Epoch 3/50\n",
            "5966/5966 [==============================] - 21s 3ms/step - loss: 0.3142 - mae: 0.3142 - mse: 0.3714 - mape: 174.0397 - val_loss: 0.2524 - val_mae: 0.2524 - val_mse: 0.2715 - val_mape: 136.0911\n",
            "Epoch 4/50\n",
            "5966/5966 [==============================] - 19s 3ms/step - loss: 0.3041 - mae: 0.3041 - mse: 0.3498 - mape: 168.2493 - val_loss: 0.2433 - val_mae: 0.2433 - val_mse: 0.2611 - val_mape: 127.3839\n",
            "Epoch 5/50\n",
            "5966/5966 [==============================] - 19s 3ms/step - loss: 0.2993 - mae: 0.2993 - mse: 0.3418 - mape: 166.0792 - val_loss: 0.2444 - val_mae: 0.2444 - val_mse: 0.2581 - val_mape: 124.9989\n",
            "Epoch 6/50\n",
            "5966/5966 [==============================] - 20s 3ms/step - loss: 0.2957 - mae: 0.2957 - mse: 0.3340 - mape: 165.3340 - val_loss: 0.2362 - val_mae: 0.2362 - val_mse: 0.2451 - val_mape: 124.9942\n",
            "Epoch 7/50\n",
            "5966/5966 [==============================] - 19s 3ms/step - loss: 0.2931 - mae: 0.2931 - mse: 0.3298 - mape: 163.1321 - val_loss: 0.2333 - val_mae: 0.2333 - val_mse: 0.2412 - val_mape: 125.4377\n",
            "Epoch 8/50\n",
            "5966/5966 [==============================] - 20s 3ms/step - loss: 0.2916 - mae: 0.2916 - mse: 0.3263 - mape: 162.6796 - val_loss: 0.2310 - val_mae: 0.2310 - val_mse: 0.2374 - val_mape: 123.6629\n",
            "Epoch 9/50\n",
            "5966/5966 [==============================] - 19s 3ms/step - loss: 0.2901 - mae: 0.2901 - mse: 0.3249 - mape: 163.0329 - val_loss: 0.2290 - val_mae: 0.2290 - val_mse: 0.2368 - val_mape: 127.7726\n",
            "Epoch 10/50\n",
            "5966/5966 [==============================] - 19s 3ms/step - loss: 0.2884 - mae: 0.2884 - mse: 0.3219 - mape: 163.2092 - val_loss: 0.2236 - val_mae: 0.2236 - val_mse: 0.2266 - val_mape: 126.9724\n",
            "Epoch 11/50\n",
            "5966/5966 [==============================] - 20s 3ms/step - loss: 0.2867 - mae: 0.2867 - mse: 0.3186 - mape: 162.3215 - val_loss: 0.2199 - val_mae: 0.2199 - val_mse: 0.2226 - val_mape: 127.7355\n",
            "Epoch 12/50\n",
            "5966/5966 [==============================] - 19s 3ms/step - loss: 0.2863 - mae: 0.2863 - mse: 0.3182 - mape: 162.4532 - val_loss: 0.2264 - val_mae: 0.2264 - val_mse: 0.2339 - val_mape: 125.8497\n",
            "Epoch 13/50\n",
            "5966/5966 [==============================] - 19s 3ms/step - loss: 0.2848 - mae: 0.2848 - mse: 0.3151 - mape: 162.6682 - val_loss: 0.2267 - val_mae: 0.2267 - val_mse: 0.2348 - val_mape: 127.3126\n",
            "Epoch 14/50\n",
            "5966/5966 [==============================] - 18s 3ms/step - loss: 0.2842 - mae: 0.2842 - mse: 0.3149 - mape: 162.6782 - val_loss: 0.2278 - val_mae: 0.2278 - val_mse: 0.2353 - val_mape: 130.0727\n",
            "Epoch 14: early stopping\n"
          ]
        }
      ]
    },
    {
      "cell_type": "code",
      "source": [
        "model8.evaluate(X_test,y_test)"
      ],
      "metadata": {
        "colab": {
          "base_uri": "https://localhost:8080/"
        },
        "id": "gZ25alofLBHC",
        "outputId": "1358bd79-a8f8-419b-e57d-8b7b071ce6b0"
      },
      "execution_count": 176,
      "outputs": [
        {
          "output_type": "stream",
          "name": "stdout",
          "text": [
            "5966/5966 [==============================] - 13s 2ms/step - loss: 0.2278 - mae: 0.2278 - mse: 0.2353 - mape: 130.0728\n"
          ]
        },
        {
          "output_type": "execute_result",
          "data": {
            "text/plain": [
              "[0.22776487469673157,\n",
              " 0.22776487469673157,\n",
              " 0.23530732095241547,\n",
              " 130.07276916503906]"
            ]
          },
          "metadata": {},
          "execution_count": 176
        }
      ]
    },
    {
      "cell_type": "code",
      "source": [
        "from sklearn.metrics import mean_squared_error,r2_score,mean_absolute_percentage_error,mean_absolute_error\n",
        "pred=model8.predict(X_test)\n",
        "mod8=[mean_absolute_percentage_error(y_test,pred),mean_absolute_error(y_test,pred),mean_squared_error(y_test,pred)]"
      ],
      "metadata": {
        "id": "da_5VCVOzuLs"
      },
      "execution_count": 205,
      "outputs": []
    },
    {
      "cell_type": "code",
      "source": [],
      "metadata": {
        "id": "GjUs2r1zLBCb"
      },
      "execution_count": 176,
      "outputs": []
    },
    {
      "cell_type": "code",
      "source": [],
      "metadata": {
        "id": "zLWnm4BnLA_n"
      },
      "execution_count": 176,
      "outputs": []
    },
    {
      "cell_type": "markdown",
      "source": [
        "##E)Using 2 other optimizers"
      ],
      "metadata": {
        "id": "mBu73dK87myu"
      }
    },
    {
      "cell_type": "code",
      "source": [
        "#rmsprop optimizer\n",
        "\n",
        "model9 = tf.keras.Sequential([\n",
        "                                       tf.keras.layers.Dense(50, activation='relu'),\n",
        "                                       keras.layers.BatchNormalization(),\n",
        "                                       Dropout(0.3),\n",
        "                                       tf.keras.layers.Dense(32, activation='relu'),\n",
        "                                       keras.layers.BatchNormalization(),\n",
        "                                       Dropout(0.3),\n",
        "                                       tf.keras.layers.Dense(16, activation='relu'),\n",
        "                                       keras.layers.BatchNormalization(),\n",
        "                                       Dropout(0.3),\n",
        "                                       tf.keras.layers.Dense(8, activation='softmax'),\n",
        "                                       keras.layers.BatchNormalization(),\n",
        "                                       Dropout(0.3),\n",
        "                                       tf.keras.layers.Dense(1)\n",
        "])\n",
        "\n",
        "\n",
        "model9.compile(loss = tf.keras.losses.mae,\n",
        "                        optimizer =tf.keras.optimizers.RMSprop(learning_rate=0.01) ,\n",
        "                        metrics = [\"mae\",\"mse\",\"mape\"]\n",
        "                        )\n",
        "\n",
        "#fitting the data\n",
        "history = model9.fit(X_train, y_train, validation_data=(X_test, y_test),batch_size =128, epochs = 50,callbacks=callback,verbose=1)"
      ],
      "metadata": {
        "colab": {
          "base_uri": "https://localhost:8080/"
        },
        "id": "Tz-Kutsu7OPr",
        "outputId": "108fd033-5e7f-4e00-c09a-0cc36b643ba2"
      },
      "execution_count": 177,
      "outputs": [
        {
          "output_type": "stream",
          "name": "stdout",
          "text": [
            "Epoch 1/50\n",
            "5966/5966 [==============================] - 22s 3ms/step - loss: 0.2892 - mae: 0.2892 - mse: 0.3229 - mape: 168.0962 - val_loss: 0.2180 - val_mae: 0.2180 - val_mse: 0.2081 - val_mape: 139.3392\n",
            "Epoch 2/50\n",
            "5966/5966 [==============================] - 21s 3ms/step - loss: 0.2780 - mae: 0.2780 - mse: 0.3042 - mape: 160.7669 - val_loss: 0.2425 - val_mae: 0.2425 - val_mse: 0.2523 - val_mape: 136.8945\n",
            "Epoch 3/50\n",
            "5966/5966 [==============================] - 22s 4ms/step - loss: 0.2770 - mae: 0.2770 - mse: 0.3018 - mape: 161.1605 - val_loss: 0.2509 - val_mae: 0.2509 - val_mse: 0.2734 - val_mape: 138.9623\n",
            "Epoch 4/50\n",
            "5966/5966 [==============================] - 21s 4ms/step - loss: 0.2750 - mae: 0.2750 - mse: 0.2961 - mape: 160.5783 - val_loss: 0.2142 - val_mae: 0.2142 - val_mse: 0.1967 - val_mape: 142.9933\n",
            "Epoch 5/50\n",
            "5966/5966 [==============================] - 23s 4ms/step - loss: 0.2750 - mae: 0.2750 - mse: 0.2983 - mape: 159.0288 - val_loss: 0.2993 - val_mae: 0.2993 - val_mse: 0.3440 - val_mape: 177.5488\n",
            "Epoch 6/50\n",
            "5966/5966 [==============================] - 23s 4ms/step - loss: 0.2743 - mae: 0.2743 - mse: 0.2963 - mape: 159.7771 - val_loss: 0.2294 - val_mae: 0.2294 - val_mse: 0.2332 - val_mape: 137.2164\n",
            "Epoch 7/50\n",
            "5966/5966 [==============================] - 24s 4ms/step - loss: 0.2737 - mae: 0.2737 - mse: 0.2952 - mape: 158.8822 - val_loss: 0.2756 - val_mae: 0.2756 - val_mse: 0.2927 - val_mape: 172.4814\n",
            "Epoch 7: early stopping\n"
          ]
        }
      ]
    },
    {
      "cell_type": "code",
      "source": [
        "model9.evaluate(X_test,y_test)"
      ],
      "metadata": {
        "colab": {
          "base_uri": "https://localhost:8080/"
        },
        "id": "rTwTROrH7ONM",
        "outputId": "877659f4-f98c-4bcc-ff8e-82508046d3be"
      },
      "execution_count": 178,
      "outputs": [
        {
          "output_type": "stream",
          "name": "stdout",
          "text": [
            "5966/5966 [==============================] - 14s 2ms/step - loss: 0.2756 - mae: 0.2756 - mse: 0.2927 - mape: 172.4812\n"
          ]
        },
        {
          "output_type": "execute_result",
          "data": {
            "text/plain": [
              "[0.27559468150138855,\n",
              " 0.27559468150138855,\n",
              " 0.2927473485469818,\n",
              " 172.4812469482422]"
            ]
          },
          "metadata": {},
          "execution_count": 178
        }
      ]
    },
    {
      "cell_type": "code",
      "source": [
        "from sklearn.metrics import mean_squared_error,r2_score,mean_absolute_percentage_error,mean_absolute_error\n",
        "pred=model9.predict(X_test)\n",
        "mod9=[mean_absolute_percentage_error(y_test,pred),mean_absolute_error(y_test,pred),mean_squared_error(y_test,pred)]"
      ],
      "metadata": {
        "id": "FGgV_RJUzyHs"
      },
      "execution_count": 206,
      "outputs": []
    },
    {
      "cell_type": "code",
      "source": [],
      "metadata": {
        "id": "dqdODKLF7wLS"
      },
      "execution_count": 178,
      "outputs": []
    },
    {
      "cell_type": "code",
      "source": [
        "#adam optimizer\n",
        "\n",
        "model10 = tf.keras.Sequential([\n",
        "                                       tf.keras.layers.Dense(50, activation='relu'),\n",
        "                                       keras.layers.BatchNormalization(),\n",
        "                                       Dropout(0.3),\n",
        "                                       tf.keras.layers.Dense(32, activation='relu'),\n",
        "                                       keras.layers.BatchNormalization(),\n",
        "                                       Dropout(0.3),\n",
        "                                       tf.keras.layers.Dense(16, activation='relu'),\n",
        "                                       keras.layers.BatchNormalization(),\n",
        "                                       Dropout(0.3),\n",
        "                                       tf.keras.layers.Dense(8, activation='softmax'),\n",
        "                                       keras.layers.BatchNormalization(),\n",
        "                                       Dropout(0.3),\n",
        "                                       tf.keras.layers.Dense(1)\n",
        "])\n",
        "\n",
        "\n",
        "model10.compile(loss = tf.keras.losses.mae,\n",
        "                        optimizer =tf.keras.optimizers.Adam(learning_rate=0.0095) ,\n",
        "                        metrics = [\"mae\",\"mse\",\"mape\"]\n",
        "                        )\n",
        "\n",
        "#fitting the data\n",
        "history = model10.fit(X_train, y_train, validation_data=(X_test, y_test),batch_size =128, epochs = 50,callbacks=callback,verbose=1)"
      ],
      "metadata": {
        "colab": {
          "base_uri": "https://localhost:8080/"
        },
        "id": "B4Epb3nC7wH8",
        "outputId": "d4bef2bc-5a13-4411-80c0-9d4079561e59"
      },
      "execution_count": 179,
      "outputs": [
        {
          "output_type": "stream",
          "name": "stdout",
          "text": [
            "Epoch 1/50\n",
            "5966/5966 [==============================] - 28s 4ms/step - loss: 0.2927 - mae: 0.2927 - mse: 0.3268 - mape: 167.4357 - val_loss: 0.2287 - val_mae: 0.2287 - val_mse: 0.2317 - val_mape: 130.2756\n",
            "Epoch 2/50\n",
            "5966/5966 [==============================] - 25s 4ms/step - loss: 0.2769 - mae: 0.2769 - mse: 0.3015 - mape: 159.4995 - val_loss: 0.2248 - val_mae: 0.2248 - val_mse: 0.2286 - val_mape: 153.6418\n",
            "Epoch 3/50\n",
            "5966/5966 [==============================] - 24s 4ms/step - loss: 0.2751 - mae: 0.2751 - mse: 0.2998 - mape: 158.6866 - val_loss: 0.2964 - val_mae: 0.2964 - val_mse: 0.3272 - val_mape: 190.7392\n",
            "Epoch 4/50\n",
            "5966/5966 [==============================] - 25s 4ms/step - loss: 0.2738 - mae: 0.2738 - mse: 0.2964 - mape: 159.0661 - val_loss: 0.2179 - val_mae: 0.2179 - val_mse: 0.2168 - val_mape: 134.0452\n",
            "Epoch 5/50\n",
            "5966/5966 [==============================] - 25s 4ms/step - loss: 0.2735 - mae: 0.2735 - mse: 0.2980 - mape: 158.0768 - val_loss: 0.2331 - val_mae: 0.2331 - val_mse: 0.2220 - val_mape: 116.5270\n",
            "Epoch 6/50\n",
            "5966/5966 [==============================] - 25s 4ms/step - loss: 0.2732 - mae: 0.2732 - mse: 0.2968 - mape: 158.7749 - val_loss: 0.2102 - val_mae: 0.2102 - val_mse: 0.2184 - val_mape: 135.7374\n",
            "Epoch 7/50\n",
            "5966/5966 [==============================] - 25s 4ms/step - loss: 0.2725 - mae: 0.2725 - mse: 0.2938 - mape: 157.2827 - val_loss: 0.2158 - val_mae: 0.2158 - val_mse: 0.2137 - val_mape: 125.1042\n",
            "Epoch 8/50\n",
            "5966/5966 [==============================] - 25s 4ms/step - loss: 0.2721 - mae: 0.2721 - mse: 0.2907 - mape: 157.3451 - val_loss: 0.2052 - val_mae: 0.2052 - val_mse: 0.1952 - val_mape: 129.1810\n",
            "Epoch 9/50\n",
            "5966/5966 [==============================] - 25s 4ms/step - loss: 0.2720 - mae: 0.2720 - mse: 0.2921 - mape: 157.5352 - val_loss: 0.2032 - val_mae: 0.2032 - val_mse: 0.1944 - val_mape: 126.6206\n",
            "Epoch 10/50\n",
            "5966/5966 [==============================] - 25s 4ms/step - loss: 0.2712 - mae: 0.2712 - mse: 0.2906 - mape: 157.1594 - val_loss: 0.2218 - val_mae: 0.2218 - val_mse: 0.2161 - val_mape: 119.0199\n",
            "Epoch 11/50\n",
            "5966/5966 [==============================] - 26s 4ms/step - loss: 0.2704 - mae: 0.2704 - mse: 0.2898 - mape: 156.5434 - val_loss: 0.2209 - val_mae: 0.2209 - val_mse: 0.1944 - val_mape: 167.5801\n",
            "Epoch 12/50\n",
            "5966/5966 [==============================] - 26s 4ms/step - loss: 0.2712 - mae: 0.2712 - mse: 0.2922 - mape: 157.0851 - val_loss: 0.2217 - val_mae: 0.2217 - val_mse: 0.2164 - val_mape: 125.3047\n",
            "Epoch 12: early stopping\n"
          ]
        }
      ]
    },
    {
      "cell_type": "code",
      "source": [
        "model10.evaluate(X_test,y_test)"
      ],
      "metadata": {
        "colab": {
          "base_uri": "https://localhost:8080/"
        },
        "id": "XQpsTrIYStMC",
        "outputId": "ab6cab8d-da32-4fee-da94-4bd912fea00f"
      },
      "execution_count": 180,
      "outputs": [
        {
          "output_type": "stream",
          "name": "stdout",
          "text": [
            "5966/5966 [==============================] - 14s 2ms/step - loss: 0.2217 - mae: 0.2217 - mse: 0.2164 - mape: 125.3049\n"
          ]
        },
        {
          "output_type": "execute_result",
          "data": {
            "text/plain": [
              "[0.22168436646461487,\n",
              " 0.22168436646461487,\n",
              " 0.21643002331256866,\n",
              " 125.30489349365234]"
            ]
          },
          "metadata": {},
          "execution_count": 180
        }
      ]
    },
    {
      "cell_type": "code",
      "source": [
        "from sklearn.metrics import mean_squared_error,r2_score,mean_absolute_percentage_error,mean_absolute_error\n",
        "pred=model10.predict(X_test)\n",
        "mod10=[mean_absolute_percentage_error(y_test,pred),mean_absolute_error(y_test,pred),mean_squared_error(y_test,pred)]"
      ],
      "metadata": {
        "id": "PQfy32KDz2nF"
      },
      "execution_count": 207,
      "outputs": []
    },
    {
      "cell_type": "code",
      "source": [
        "mod10"
      ],
      "metadata": {
        "colab": {
          "base_uri": "https://localhost:8080/"
        },
        "id": "GZ78bJnU2Zqm",
        "outputId": "d7c4ebcc-18e4-4734-aa92-2fba0abb4474"
      },
      "execution_count": 210,
      "outputs": [
        {
          "output_type": "execute_result",
          "data": {
            "text/plain": [
              "[1.2530486306001596, 0.2216844678530314, 0.21643050050783297]"
            ]
          },
          "metadata": {},
          "execution_count": 210
        }
      ]
    },
    {
      "cell_type": "markdown",
      "source": [
        "##Using random search for finding better hyperparameters"
      ],
      "metadata": {
        "id": "ZKRAums77wox"
      }
    },
    {
      "cell_type": "code",
      "source": [
        "def build_model(n_hidden=1, n_neurons=30, learning_rate=3e-3, input_shape=[11]):\n",
        " model = keras.models.Sequential()\n",
        " options = {\"input_shape\": input_shape}\n",
        " for layer in range(n_hidden):\n",
        "   model.add(keras.layers.Dense(n_neurons, activation=\"relu\", **options))\n",
        " options = {}\n",
        " model.add(keras.layers.Dense(1, **options))\n",
        " optimizer = tf.keras.optimizers.SGD(learning_rate)\n",
        " model.compile(loss=\"mse\", optimizer=optimizer)\n",
        " return model\n",
        " "
      ],
      "metadata": {
        "id": "tSeU95yd74A8"
      },
      "execution_count": 181,
      "outputs": []
    },
    {
      "cell_type": "code",
      "source": [
        "keras_reg = keras.wrappers.scikit_learn.KerasRegressor(build_model)"
      ],
      "metadata": {
        "colab": {
          "base_uri": "https://localhost:8080/"
        },
        "id": "MS1628rv_BCh",
        "outputId": "0892180a-cb9f-4802-acc4-133a2a6bd097"
      },
      "execution_count": 182,
      "outputs": [
        {
          "output_type": "stream",
          "name": "stderr",
          "text": [
            "/usr/local/lib/python3.7/dist-packages/ipykernel_launcher.py:1: DeprecationWarning: KerasRegressor is deprecated, use Sci-Keras (https://github.com/adriangb/scikeras) instead. See https://www.adriangb.com/scikeras/stable/migration.html for help migrating.\n",
            "  \"\"\"Entry point for launching an IPython kernel.\n"
          ]
        }
      ]
    },
    {
      "cell_type": "code",
      "source": [
        "keras_reg.fit(X_train, y_train, epochs=100,\n",
        " validation_data=(X_test, y_test),\n",
        " callbacks=[keras.callbacks.EarlyStopping(patience=3)])"
      ],
      "metadata": {
        "colab": {
          "base_uri": "https://localhost:8080/"
        },
        "id": "dNZoM8nY_A_E",
        "outputId": "ca49fb66-7889-40a9-c015-618c27ad9f36"
      },
      "execution_count": 183,
      "outputs": [
        {
          "output_type": "stream",
          "name": "stdout",
          "text": [
            "Epoch 1/100\n",
            "23864/23864 [==============================] - 47s 2ms/step - loss: 0.2375 - val_loss: 0.2135\n",
            "Epoch 2/100\n",
            "23864/23864 [==============================] - 46s 2ms/step - loss: 0.2049 - val_loss: 0.2003\n",
            "Epoch 3/100\n",
            "23864/23864 [==============================] - 46s 2ms/step - loss: 0.1945 - val_loss: 0.1943\n",
            "Epoch 4/100\n",
            "23864/23864 [==============================] - 41s 2ms/step - loss: 0.1879 - val_loss: 0.1884\n",
            "Epoch 5/100\n",
            "23864/23864 [==============================] - 46s 2ms/step - loss: 0.1833 - val_loss: 0.1848\n",
            "Epoch 6/100\n",
            "23864/23864 [==============================] - 46s 2ms/step - loss: 0.1808 - val_loss: 0.1836\n",
            "Epoch 7/100\n",
            "23864/23864 [==============================] - 46s 2ms/step - loss: 0.1792 - val_loss: 0.1813\n",
            "Epoch 8/100\n",
            "23864/23864 [==============================] - 46s 2ms/step - loss: 0.1777 - val_loss: 0.1810\n",
            "Epoch 9/100\n",
            "23864/23864 [==============================] - 42s 2ms/step - loss: 0.1766 - val_loss: 0.1818\n",
            "Epoch 10/100\n",
            "23864/23864 [==============================] - 46s 2ms/step - loss: 0.1758 - val_loss: 0.1784\n",
            "Epoch 11/100\n",
            "23864/23864 [==============================] - 46s 2ms/step - loss: 0.1750 - val_loss: 0.1785\n",
            "Epoch 12/100\n",
            "23864/23864 [==============================] - 46s 2ms/step - loss: 0.1743 - val_loss: 0.1793\n",
            "Epoch 13/100\n",
            "23864/23864 [==============================] - 41s 2ms/step - loss: 0.1734 - val_loss: 0.1774\n",
            "Epoch 14/100\n",
            "23864/23864 [==============================] - 46s 2ms/step - loss: 0.1725 - val_loss: 0.1785\n",
            "Epoch 15/100\n",
            "23864/23864 [==============================] - 46s 2ms/step - loss: 0.1714 - val_loss: 0.1739\n",
            "Epoch 16/100\n",
            "23864/23864 [==============================] - 42s 2ms/step - loss: 0.1705 - val_loss: 0.1727\n",
            "Epoch 17/100\n",
            "23864/23864 [==============================] - 46s 2ms/step - loss: 0.1697 - val_loss: 0.1720\n",
            "Epoch 18/100\n",
            "23864/23864 [==============================] - 41s 2ms/step - loss: 0.1686 - val_loss: 0.1744\n",
            "Epoch 19/100\n",
            "23864/23864 [==============================] - 46s 2ms/step - loss: 0.1683 - val_loss: 0.1712\n",
            "Epoch 20/100\n",
            "23864/23864 [==============================] - 42s 2ms/step - loss: 0.1676 - val_loss: 0.1701\n",
            "Epoch 21/100\n",
            "23864/23864 [==============================] - 42s 2ms/step - loss: 0.1679 - val_loss: 0.1702\n",
            "Epoch 22/100\n",
            "23864/23864 [==============================] - 41s 2ms/step - loss: 0.1674 - val_loss: 0.1745\n",
            "Epoch 23/100\n",
            "23864/23864 [==============================] - 45s 2ms/step - loss: 0.1673 - val_loss: 0.1719\n"
          ]
        },
        {
          "output_type": "execute_result",
          "data": {
            "text/plain": [
              "<keras.callbacks.History at 0x7ffa2c24a190>"
            ]
          },
          "metadata": {},
          "execution_count": 183
        }
      ]
    },
    {
      "cell_type": "code",
      "source": [
        "'''from scipy.stats import reciprocal\n",
        "from sklearn.model_selection import RandomizedSearchCV\n",
        "param_distribs = {\n",
        " \"n_hidden\": [0, 1, 2, 3],\n",
        " \"n_neurons\": np.arange(1, 100),\n",
        " \"learning_rate\": reciprocal(3e-4, 3e-2),\n",
        "}\n",
        "rnd_search_cv = RandomizedSearchCV(keras_reg, param_distribs, n_iter=10, cv=3)'''"
      ],
      "metadata": {
        "colab": {
          "base_uri": "https://localhost:8080/",
          "height": 70
        },
        "id": "cJjbz4s8_TBt",
        "outputId": "9e267058-98ab-4014-b504-88eafdcc714b"
      },
      "execution_count": 184,
      "outputs": [
        {
          "output_type": "execute_result",
          "data": {
            "text/plain": [
              "'from scipy.stats import reciprocal\\nfrom sklearn.model_selection import RandomizedSearchCV\\nparam_distribs = {\\n \"n_hidden\": [0, 1, 2, 3],\\n \"n_neurons\": np.arange(1, 100),\\n \"learning_rate\": reciprocal(3e-4, 3e-2),\\n}\\nrnd_search_cv = RandomizedSearchCV(keras_reg, param_distribs, n_iter=10, cv=3)'"
            ],
            "application/vnd.google.colaboratory.intrinsic+json": {
              "type": "string"
            }
          },
          "metadata": {},
          "execution_count": 184
        }
      ]
    },
    {
      "cell_type": "code",
      "source": [
        "'''rnd_search_cv.fit(X_train, y_train, epochs=100,\n",
        " validation_data=(X_test, y_test),\n",
        " callbacks=[keras.callbacks.EarlyStopping(patience=3)])'''"
      ],
      "metadata": {
        "colab": {
          "base_uri": "https://localhost:8080/",
          "height": 36
        },
        "id": "83xGoWMiNMcD",
        "outputId": "6bc29836-ed78-4516-e79b-bcddea1b9c5d"
      },
      "execution_count": 185,
      "outputs": [
        {
          "output_type": "execute_result",
          "data": {
            "text/plain": [
              "'rnd_search_cv.fit(X_train, y_train, epochs=100,\\n validation_data=(X_test, y_test),\\n callbacks=[keras.callbacks.EarlyStopping(patience=3)])'"
            ],
            "application/vnd.google.colaboratory.intrinsic+json": {
              "type": "string"
            }
          },
          "metadata": {},
          "execution_count": 185
        }
      ]
    },
    {
      "cell_type": "code",
      "source": [
        "'''from sklearn.model_selection import RandomizedSearchCV\n",
        "param_distribs = {\n",
        " \"n_hidden\": [0, 1, 2, 3],\n",
        " \"n_neurons\": np.arange(1, 100),\n",
        " \"learning_rate\": reciprocal(3e-4, 3e-2),\n",
        "}\n",
        "\n",
        "NN_random = RandomizedSearchCV(estimator=keras_reg,param_distributions=param_distribs,n_iter=10,cv=5,verbose=2,n_jobs=-1)\n",
        "NN_random.fit(X_train,y_train)'''"
      ],
      "metadata": {
        "colab": {
          "base_uri": "https://localhost:8080/",
          "height": 70
        },
        "id": "UICGtIDBRfJH",
        "outputId": "f8c7e628-23de-4f21-e190-ede0994b61a9"
      },
      "execution_count": 186,
      "outputs": [
        {
          "output_type": "execute_result",
          "data": {
            "text/plain": [
              "'from sklearn.model_selection import RandomizedSearchCV\\nparam_distribs = {\\n \"n_hidden\": [0, 1, 2, 3],\\n \"n_neurons\": np.arange(1, 100),\\n \"learning_rate\": reciprocal(3e-4, 3e-2),\\n}\\n\\nNN_random = RandomizedSearchCV(estimator=keras_reg,param_distributions=param_distribs,n_iter=10,cv=5,verbose=2,n_jobs=-1)\\nNN_random.fit(X_train,y_train)'"
            ],
            "application/vnd.google.colaboratory.intrinsic+json": {
              "type": "string"
            }
          },
          "metadata": {},
          "execution_count": 186
        }
      ]
    },
    {
      "cell_type": "code",
      "source": [],
      "metadata": {
        "id": "ssKTyclJRfFm"
      },
      "execution_count": 186,
      "outputs": []
    },
    {
      "cell_type": "code",
      "source": [],
      "metadata": {
        "id": "ln349TacRfC0"
      },
      "execution_count": 186,
      "outputs": []
    },
    {
      "cell_type": "code",
      "source": [
        "#rnd_search_cv.best_params_\n"
      ],
      "metadata": {
        "id": "er3odNyV_j7o"
      },
      "execution_count": 188,
      "outputs": []
    },
    {
      "cell_type": "code",
      "source": [
        " #rnd_search_cv.best_score_"
      ],
      "metadata": {
        "id": "JYqEdQMP_AxF"
      },
      "execution_count": null,
      "outputs": []
    },
    {
      "cell_type": "code",
      "source": [
        "#model = rnd_search_cv.best_estimator_.model"
      ],
      "metadata": {
        "id": "kF8zrJCZS-PL"
      },
      "execution_count": null,
      "outputs": []
    },
    {
      "cell_type": "code",
      "source": [],
      "metadata": {
        "id": "dslngmE9AEG0"
      },
      "execution_count": null,
      "outputs": []
    },
    {
      "cell_type": "markdown",
      "source": [
        "##using grid search"
      ],
      "metadata": {
        "id": "yJzF2Bljd4f7"
      }
    },
    {
      "cell_type": "code",
      "source": [
        "from sklearn.model_selection import GridSearchCV \n",
        "from keras.models import Sequential\n",
        "from keras.layers import Dense\n",
        "from keras.wrappers.scikit_learn import KerasClassifier"
      ],
      "metadata": {
        "id": "ra57CmdxenPL"
      },
      "execution_count": 189,
      "outputs": []
    },
    {
      "cell_type": "code",
      "source": [
        "def create_my_model():\n",
        "    #defining my model\n",
        "    mymodel = Sequential()\n",
        "    mymodel.add(Dense(12, input_dim=8, activation='relu'))\n",
        "    mymodel.add(Dense(1, activation='sigmoid'))\n",
        "    \n",
        "    # Compile the model\n",
        "    mymodel.compile(loss=tf.keras.losses.SparseCategoricalCrossentropy(from_logits=True), optimizer='adam', metrics=['accuracy'])\n",
        "    return mymodel"
      ],
      "metadata": {
        "id": "isvChT8udUPv"
      },
      "execution_count": 219,
      "outputs": []
    },
    {
      "cell_type": "code",
      "source": [
        "# create model\n",
        "model = KerasClassifier(build_fn=create_my_model)"
      ],
      "metadata": {
        "colab": {
          "base_uri": "https://localhost:8080/"
        },
        "id": "Q0_kgHUSdUMR",
        "outputId": "257adbfd-4976-4f96-c4f9-fa26df9eedc2"
      },
      "execution_count": 220,
      "outputs": [
        {
          "output_type": "stream",
          "name": "stderr",
          "text": [
            "/usr/local/lib/python3.7/dist-packages/ipykernel_launcher.py:2: DeprecationWarning: KerasClassifier is deprecated, use Sci-Keras (https://github.com/adriangb/scikeras) instead. See https://www.adriangb.com/scikeras/stable/migration.html for help migrating.\n",
            "  \n"
          ]
        }
      ]
    },
    {
      "cell_type": "code",
      "source": [
        "# define the grid search parameters\n",
        "batchSize = [10, 20, 40, 60, 80, 100]\n",
        "epochs = [10, 30, 50]"
      ],
      "metadata": {
        "id": "WCxV6sPLAEDk"
      },
      "execution_count": 221,
      "outputs": []
    },
    {
      "cell_type": "code",
      "source": [
        "'''parameter_grid = dict(batch_size=batchSize, epochs=epochs)\n",
        "\n",
        "\n",
        "mygrid = GridSearchCV(estimator=model, param_grid=parameter_grid, n_jobs=-1, cv=3)\n",
        "grid_result = mygrid.fit(X_train,y_train)'''"
      ],
      "metadata": {
        "id": "X2KqD1wZS-Lr",
        "colab": {
          "base_uri": "https://localhost:8080/",
          "height": 53
        },
        "outputId": "6eece191-20a0-4772-d41f-ff8984853765"
      },
      "execution_count": 21,
      "outputs": [
        {
          "output_type": "execute_result",
          "data": {
            "text/plain": [
              "'parameter_grid = dict(batch_size=batchSize, epochs=epochs)\\n\\n\\nmygrid = GridSearchCV(estimator=model, param_grid=parameter_grid, n_jobs=-1, cv=3)\\ngrid_result = mygrid.fit(X_train,y_train)'"
            ],
            "application/vnd.google.colaboratory.intrinsic+json": {
              "type": "string"
            }
          },
          "metadata": {},
          "execution_count": 21
        }
      ]
    },
    {
      "cell_type": "code",
      "source": [
        "# summarize results\n",
        "#print(\"Best: %f using %s\" % (grid_result.best_score_, grid_result.best_params_))"
      ],
      "metadata": {
        "id": "kWDzR4IKeXbG"
      },
      "execution_count": null,
      "outputs": []
    },
    {
      "cell_type": "code",
      "source": [],
      "metadata": {
        "id": "7CxccK2ReXW6"
      },
      "execution_count": null,
      "outputs": []
    },
    {
      "cell_type": "code",
      "source": [],
      "metadata": {
        "id": "teOwez3SeXUk"
      },
      "execution_count": null,
      "outputs": []
    },
    {
      "cell_type": "markdown",
      "source": [
        "##Tabulating confidence intervals(95% samples lie between these metrics)"
      ],
      "metadata": {
        "id": "Ki4bi_Oyvt2E"
      }
    },
    {
      "cell_type": "code",
      "source": [
        "table=pd.DataFrame({\"BaseLine NN\":mod1,\"Different Neurons and Layers\":mod2,\"Different Neurons and Layers\":mod3,\"relu activaton\":mod4,\"leaky_relu activaton\":mod5,\"softmax activaton\":mod6,\"Early Stopping\":mod7,\"Dropout\":mod8,\"RmsProp optimizer\":mod9,\"Adam\":mod10},index=[\"MAPE\",'MAE','MSE'])"
      ],
      "metadata": {
        "id": "364GpiONS-I0"
      },
      "execution_count": 212,
      "outputs": []
    },
    {
      "cell_type": "code",
      "source": [
        "table"
      ],
      "metadata": {
        "id": "0OQjlSmvS-u2",
        "colab": {
          "base_uri": "https://localhost:8080/",
          "height": 205
        },
        "outputId": "65b035ea-766f-4166-86ae-af8844c87af0"
      },
      "execution_count": 213,
      "outputs": [
        {
          "output_type": "execute_result",
          "data": {
            "text/plain": [
              "      BaseLine NN  Different Neurons and Layers  relu activaton  \\\n",
              "MAPE     1.472168                      1.547529        1.273868   \n",
              "MAE      0.204526                      0.209982        0.178485   \n",
              "MSE      0.196492                      0.204553        0.175908   \n",
              "\n",
              "      leaky_relu activaton  softmax activaton  Early Stopping   Dropout  \\\n",
              "MAPE              1.263584           8.137861        1.321188  1.300726   \n",
              "MAE               0.177634           1.293008        0.186497  0.227765   \n",
              "MSE               0.177513           2.010978        0.188955  0.235307   \n",
              "\n",
              "      RmsProp optimizer      Adam  \n",
              "MAPE           1.724814  1.253049  \n",
              "MAE            0.275595  0.221684  \n",
              "MSE            0.292747  0.216431  "
            ],
            "text/html": [
              "\n",
              "  <div id=\"df-153ccab8-c4a5-4e80-ab05-84f2d13454d6\">\n",
              "    <div class=\"colab-df-container\">\n",
              "      <div>\n",
              "<style scoped>\n",
              "    .dataframe tbody tr th:only-of-type {\n",
              "        vertical-align: middle;\n",
              "    }\n",
              "\n",
              "    .dataframe tbody tr th {\n",
              "        vertical-align: top;\n",
              "    }\n",
              "\n",
              "    .dataframe thead th {\n",
              "        text-align: right;\n",
              "    }\n",
              "</style>\n",
              "<table border=\"1\" class=\"dataframe\">\n",
              "  <thead>\n",
              "    <tr style=\"text-align: right;\">\n",
              "      <th></th>\n",
              "      <th>BaseLine NN</th>\n",
              "      <th>Different Neurons and Layers</th>\n",
              "      <th>relu activaton</th>\n",
              "      <th>leaky_relu activaton</th>\n",
              "      <th>softmax activaton</th>\n",
              "      <th>Early Stopping</th>\n",
              "      <th>Dropout</th>\n",
              "      <th>RmsProp optimizer</th>\n",
              "      <th>Adam</th>\n",
              "    </tr>\n",
              "  </thead>\n",
              "  <tbody>\n",
              "    <tr>\n",
              "      <th>MAPE</th>\n",
              "      <td>1.472168</td>\n",
              "      <td>1.547529</td>\n",
              "      <td>1.273868</td>\n",
              "      <td>1.263584</td>\n",
              "      <td>8.137861</td>\n",
              "      <td>1.321188</td>\n",
              "      <td>1.300726</td>\n",
              "      <td>1.724814</td>\n",
              "      <td>1.253049</td>\n",
              "    </tr>\n",
              "    <tr>\n",
              "      <th>MAE</th>\n",
              "      <td>0.204526</td>\n",
              "      <td>0.209982</td>\n",
              "      <td>0.178485</td>\n",
              "      <td>0.177634</td>\n",
              "      <td>1.293008</td>\n",
              "      <td>0.186497</td>\n",
              "      <td>0.227765</td>\n",
              "      <td>0.275595</td>\n",
              "      <td>0.221684</td>\n",
              "    </tr>\n",
              "    <tr>\n",
              "      <th>MSE</th>\n",
              "      <td>0.196492</td>\n",
              "      <td>0.204553</td>\n",
              "      <td>0.175908</td>\n",
              "      <td>0.177513</td>\n",
              "      <td>2.010978</td>\n",
              "      <td>0.188955</td>\n",
              "      <td>0.235307</td>\n",
              "      <td>0.292747</td>\n",
              "      <td>0.216431</td>\n",
              "    </tr>\n",
              "  </tbody>\n",
              "</table>\n",
              "</div>\n",
              "      <button class=\"colab-df-convert\" onclick=\"convertToInteractive('df-153ccab8-c4a5-4e80-ab05-84f2d13454d6')\"\n",
              "              title=\"Convert this dataframe to an interactive table.\"\n",
              "              style=\"display:none;\">\n",
              "        \n",
              "  <svg xmlns=\"http://www.w3.org/2000/svg\" height=\"24px\"viewBox=\"0 0 24 24\"\n",
              "       width=\"24px\">\n",
              "    <path d=\"M0 0h24v24H0V0z\" fill=\"none\"/>\n",
              "    <path d=\"M18.56 5.44l.94 2.06.94-2.06 2.06-.94-2.06-.94-.94-2.06-.94 2.06-2.06.94zm-11 1L8.5 8.5l.94-2.06 2.06-.94-2.06-.94L8.5 2.5l-.94 2.06-2.06.94zm10 10l.94 2.06.94-2.06 2.06-.94-2.06-.94-.94-2.06-.94 2.06-2.06.94z\"/><path d=\"M17.41 7.96l-1.37-1.37c-.4-.4-.92-.59-1.43-.59-.52 0-1.04.2-1.43.59L10.3 9.45l-7.72 7.72c-.78.78-.78 2.05 0 2.83L4 21.41c.39.39.9.59 1.41.59.51 0 1.02-.2 1.41-.59l7.78-7.78 2.81-2.81c.8-.78.8-2.07 0-2.86zM5.41 20L4 18.59l7.72-7.72 1.47 1.35L5.41 20z\"/>\n",
              "  </svg>\n",
              "      </button>\n",
              "      \n",
              "  <style>\n",
              "    .colab-df-container {\n",
              "      display:flex;\n",
              "      flex-wrap:wrap;\n",
              "      gap: 12px;\n",
              "    }\n",
              "\n",
              "    .colab-df-convert {\n",
              "      background-color: #E8F0FE;\n",
              "      border: none;\n",
              "      border-radius: 50%;\n",
              "      cursor: pointer;\n",
              "      display: none;\n",
              "      fill: #1967D2;\n",
              "      height: 32px;\n",
              "      padding: 0 0 0 0;\n",
              "      width: 32px;\n",
              "    }\n",
              "\n",
              "    .colab-df-convert:hover {\n",
              "      background-color: #E2EBFA;\n",
              "      box-shadow: 0px 1px 2px rgba(60, 64, 67, 0.3), 0px 1px 3px 1px rgba(60, 64, 67, 0.15);\n",
              "      fill: #174EA6;\n",
              "    }\n",
              "\n",
              "    [theme=dark] .colab-df-convert {\n",
              "      background-color: #3B4455;\n",
              "      fill: #D2E3FC;\n",
              "    }\n",
              "\n",
              "    [theme=dark] .colab-df-convert:hover {\n",
              "      background-color: #434B5C;\n",
              "      box-shadow: 0px 1px 3px 1px rgba(0, 0, 0, 0.15);\n",
              "      filter: drop-shadow(0px 1px 2px rgba(0, 0, 0, 0.3));\n",
              "      fill: #FFFFFF;\n",
              "    }\n",
              "  </style>\n",
              "\n",
              "      <script>\n",
              "        const buttonEl =\n",
              "          document.querySelector('#df-153ccab8-c4a5-4e80-ab05-84f2d13454d6 button.colab-df-convert');\n",
              "        buttonEl.style.display =\n",
              "          google.colab.kernel.accessAllowed ? 'block' : 'none';\n",
              "\n",
              "        async function convertToInteractive(key) {\n",
              "          const element = document.querySelector('#df-153ccab8-c4a5-4e80-ab05-84f2d13454d6');\n",
              "          const dataTable =\n",
              "            await google.colab.kernel.invokeFunction('convertToInteractive',\n",
              "                                                     [key], {});\n",
              "          if (!dataTable) return;\n",
              "\n",
              "          const docLinkHtml = 'Like what you see? Visit the ' +\n",
              "            '<a target=\"_blank\" href=https://colab.research.google.com/notebooks/data_table.ipynb>data table notebook</a>'\n",
              "            + ' to learn more about interactive tables.';\n",
              "          element.innerHTML = '';\n",
              "          dataTable['output_type'] = 'display_data';\n",
              "          await google.colab.output.renderOutput(dataTable, element);\n",
              "          const docLink = document.createElement('div');\n",
              "          docLink.innerHTML = docLinkHtml;\n",
              "          element.appendChild(docLink);\n",
              "        }\n",
              "      </script>\n",
              "    </div>\n",
              "  </div>\n",
              "  "
            ]
          },
          "metadata": {},
          "execution_count": 213
        }
      ]
    },
    {
      "cell_type": "code",
      "source": [
        "from scipy.stats import t\n",
        "mape=np.array(table.loc['MAPE'].tolist())\n",
        "mae=np.array(table.loc['MAE'].tolist())\n",
        "mse=np.array(table.loc['MSE'].tolist())\n",
        "def confidence(arr):\n",
        "    m=arr.mean()\n",
        "    s=arr.std()\n",
        "    dof=len(arr)-1\n",
        "    conf=0.95\n",
        "    t_crit = np.abs(t.ppf((1-conf)/2,dof))\n",
        "    return [m-s*t_crit/np.sqrt(len(arr)), m+s*t_crit/np.sqrt(len(arr))]\n",
        "c_mape=confidence(mape)\n",
        "c_mae=confidence(mae)\n",
        "c_mse=confidence(mse)\n",
        "c_mape,c_mae,c_mse"
      ],
      "metadata": {
        "colab": {
          "base_uri": "https://localhost:8080/"
        },
        "id": "crA9ZLJr2uBU",
        "outputId": "d5f4eaa5-2240-4c6c-b0fc-9e6b3130cf1a"
      },
      "execution_count": 214,
      "outputs": [
        {
          "output_type": "execute_result",
          "data": {
            "text/plain": [
              "([0.5107915288559697, 3.7769388570981297],\n",
              " [0.06809487762624322, 0.5930550168343647],\n",
              " [-0.024618732014662192, 0.846593014246571])"
            ]
          },
          "metadata": {},
          "execution_count": 214
        }
      ]
    },
    {
      "cell_type": "code",
      "source": [
        "ctable=pd.DataFrame({\"Min\":[c_mape[0],c_mae[0],c_mse[0]],\"Max\":[c_mape[1],c_mae[1],c_mse[1]]},index=[\"MAPE\",'MAE','MSE'])\n",
        "ctable"
      ],
      "metadata": {
        "colab": {
          "base_uri": "https://localhost:8080/",
          "height": 143
        },
        "id": "LfAxJOhW3VTF",
        "outputId": "7f06ee6e-df04-40c1-b343-5a81e857451e"
      },
      "execution_count": 215,
      "outputs": [
        {
          "output_type": "execute_result",
          "data": {
            "text/plain": [
              "           Min       Max\n",
              "MAPE  0.510792  3.776939\n",
              "MAE   0.068095  0.593055\n",
              "MSE  -0.024619  0.846593"
            ],
            "text/html": [
              "\n",
              "  <div id=\"df-bf9de430-2c66-4192-bbbf-60454f6164b5\">\n",
              "    <div class=\"colab-df-container\">\n",
              "      <div>\n",
              "<style scoped>\n",
              "    .dataframe tbody tr th:only-of-type {\n",
              "        vertical-align: middle;\n",
              "    }\n",
              "\n",
              "    .dataframe tbody tr th {\n",
              "        vertical-align: top;\n",
              "    }\n",
              "\n",
              "    .dataframe thead th {\n",
              "        text-align: right;\n",
              "    }\n",
              "</style>\n",
              "<table border=\"1\" class=\"dataframe\">\n",
              "  <thead>\n",
              "    <tr style=\"text-align: right;\">\n",
              "      <th></th>\n",
              "      <th>Min</th>\n",
              "      <th>Max</th>\n",
              "    </tr>\n",
              "  </thead>\n",
              "  <tbody>\n",
              "    <tr>\n",
              "      <th>MAPE</th>\n",
              "      <td>0.510792</td>\n",
              "      <td>3.776939</td>\n",
              "    </tr>\n",
              "    <tr>\n",
              "      <th>MAE</th>\n",
              "      <td>0.068095</td>\n",
              "      <td>0.593055</td>\n",
              "    </tr>\n",
              "    <tr>\n",
              "      <th>MSE</th>\n",
              "      <td>-0.024619</td>\n",
              "      <td>0.846593</td>\n",
              "    </tr>\n",
              "  </tbody>\n",
              "</table>\n",
              "</div>\n",
              "      <button class=\"colab-df-convert\" onclick=\"convertToInteractive('df-bf9de430-2c66-4192-bbbf-60454f6164b5')\"\n",
              "              title=\"Convert this dataframe to an interactive table.\"\n",
              "              style=\"display:none;\">\n",
              "        \n",
              "  <svg xmlns=\"http://www.w3.org/2000/svg\" height=\"24px\"viewBox=\"0 0 24 24\"\n",
              "       width=\"24px\">\n",
              "    <path d=\"M0 0h24v24H0V0z\" fill=\"none\"/>\n",
              "    <path d=\"M18.56 5.44l.94 2.06.94-2.06 2.06-.94-2.06-.94-.94-2.06-.94 2.06-2.06.94zm-11 1L8.5 8.5l.94-2.06 2.06-.94-2.06-.94L8.5 2.5l-.94 2.06-2.06.94zm10 10l.94 2.06.94-2.06 2.06-.94-2.06-.94-.94-2.06-.94 2.06-2.06.94z\"/><path d=\"M17.41 7.96l-1.37-1.37c-.4-.4-.92-.59-1.43-.59-.52 0-1.04.2-1.43.59L10.3 9.45l-7.72 7.72c-.78.78-.78 2.05 0 2.83L4 21.41c.39.39.9.59 1.41.59.51 0 1.02-.2 1.41-.59l7.78-7.78 2.81-2.81c.8-.78.8-2.07 0-2.86zM5.41 20L4 18.59l7.72-7.72 1.47 1.35L5.41 20z\"/>\n",
              "  </svg>\n",
              "      </button>\n",
              "      \n",
              "  <style>\n",
              "    .colab-df-container {\n",
              "      display:flex;\n",
              "      flex-wrap:wrap;\n",
              "      gap: 12px;\n",
              "    }\n",
              "\n",
              "    .colab-df-convert {\n",
              "      background-color: #E8F0FE;\n",
              "      border: none;\n",
              "      border-radius: 50%;\n",
              "      cursor: pointer;\n",
              "      display: none;\n",
              "      fill: #1967D2;\n",
              "      height: 32px;\n",
              "      padding: 0 0 0 0;\n",
              "      width: 32px;\n",
              "    }\n",
              "\n",
              "    .colab-df-convert:hover {\n",
              "      background-color: #E2EBFA;\n",
              "      box-shadow: 0px 1px 2px rgba(60, 64, 67, 0.3), 0px 1px 3px 1px rgba(60, 64, 67, 0.15);\n",
              "      fill: #174EA6;\n",
              "    }\n",
              "\n",
              "    [theme=dark] .colab-df-convert {\n",
              "      background-color: #3B4455;\n",
              "      fill: #D2E3FC;\n",
              "    }\n",
              "\n",
              "    [theme=dark] .colab-df-convert:hover {\n",
              "      background-color: #434B5C;\n",
              "      box-shadow: 0px 1px 3px 1px rgba(0, 0, 0, 0.15);\n",
              "      filter: drop-shadow(0px 1px 2px rgba(0, 0, 0, 0.3));\n",
              "      fill: #FFFFFF;\n",
              "    }\n",
              "  </style>\n",
              "\n",
              "      <script>\n",
              "        const buttonEl =\n",
              "          document.querySelector('#df-bf9de430-2c66-4192-bbbf-60454f6164b5 button.colab-df-convert');\n",
              "        buttonEl.style.display =\n",
              "          google.colab.kernel.accessAllowed ? 'block' : 'none';\n",
              "\n",
              "        async function convertToInteractive(key) {\n",
              "          const element = document.querySelector('#df-bf9de430-2c66-4192-bbbf-60454f6164b5');\n",
              "          const dataTable =\n",
              "            await google.colab.kernel.invokeFunction('convertToInteractive',\n",
              "                                                     [key], {});\n",
              "          if (!dataTable) return;\n",
              "\n",
              "          const docLinkHtml = 'Like what you see? Visit the ' +\n",
              "            '<a target=\"_blank\" href=https://colab.research.google.com/notebooks/data_table.ipynb>data table notebook</a>'\n",
              "            + ' to learn more about interactive tables.';\n",
              "          element.innerHTML = '';\n",
              "          dataTable['output_type'] = 'display_data';\n",
              "          await google.colab.output.renderOutput(dataTable, element);\n",
              "          const docLink = document.createElement('div');\n",
              "          docLink.innerHTML = docLinkHtml;\n",
              "          element.appendChild(docLink);\n",
              "        }\n",
              "      </script>\n",
              "    </div>\n",
              "  </div>\n",
              "  "
            ]
          },
          "metadata": {},
          "execution_count": 215
        }
      ]
    },
    {
      "cell_type": "code",
      "source": [
        "#best model is 5th model with more training accuracy and validation accuracy i got is using leaky_relu activation\n",
        "\n",
        "'''pred = model5.predict(test)\n",
        "df = pd.DataFrame(pred)'''\n"
      ],
      "metadata": {
        "id": "w1rbQDfO3dpg"
      },
      "execution_count": null,
      "outputs": []
    },
    {
      "cell_type": "code",
      "source": [
        "#df.to_csv('fare_amount.csv')"
      ],
      "metadata": {
        "id": "ogujzbi07HZz"
      },
      "execution_count": null,
      "outputs": []
    },
    {
      "cell_type": "code",
      "source": [],
      "metadata": {
        "id": "haoeRRVx7HWX"
      },
      "execution_count": null,
      "outputs": []
    },
    {
      "cell_type": "markdown",
      "source": [
        "#Breaking hcaptcha"
      ],
      "metadata": {
        "id": "NPOz_3pNS_IX"
      }
    },
    {
      "cell_type": "code",
      "source": [],
      "metadata": {
        "id": "60BJgkLDbEXo"
      },
      "execution_count": null,
      "outputs": []
    },
    {
      "cell_type": "code",
      "source": [],
      "metadata": {
        "id": "vj1x5CTUbFRY"
      },
      "execution_count": null,
      "outputs": []
    },
    {
      "cell_type": "code",
      "execution_count": 1,
      "metadata": {
        "colab": {
          "base_uri": "https://localhost:8080/"
        },
        "id": "JHkuq6v798cZ",
        "outputId": "989769f3-fae4-443a-e4a0-78df422626ee"
      },
      "outputs": [
        {
          "output_type": "stream",
          "name": "stdout",
          "text": [
            "Drive already mounted at /content/gdrive/; to attempt to forcibly remount, call drive.mount(\"/content/gdrive/\", force_remount=True).\n"
          ]
        }
      ],
      "source": [
        "from google.colab import drive\n",
        "\n",
        "drive.mount('/content/gdrive/')"
      ]
    },
    {
      "cell_type": "code",
      "source": [
        "import numpy as np\n",
        "import matplotlib.pyplot as plt\n",
        "import os\n",
        "import cv2\n",
        "from skimage.io import imread\n",
        "from skimage.transform import resize\n",
        "from tqdm import tqdm\n",
        "\n",
        "y=[]\n",
        "images=[]\n",
        "X=[]\n",
        "\n",
        "\n",
        "DATADIR = \"/content/gdrive/MyDrive/hcaptcha_dataset/hcaptcha_dataset/train\"\n",
        "\n",
        "CATEGORIES = [\"airplane\",\"bicycle\",\"boat\",\"motorbus\",\"motorcycle\",\"seaplane\",\"truck\"]\n",
        "\n",
        "for category in CATEGORIES:\n",
        "  class_num = CATEGORIES.index(category)\n",
        "  path = os.path.join(DATADIR,category)\n",
        "  for img in os.listdir(path):\n",
        "    img_array = cv2.imread(os.path.join(path,img),cv2.IMREAD_GRAYSCALE)\n",
        "    plt.imshow(img_array,cmap=\"gray\")\n",
        "    break\n",
        "\n"
      ],
      "metadata": {
        "id": "ew5edvHY-xFP",
        "colab": {
          "base_uri": "https://localhost:8080/",
          "height": 268
        },
        "outputId": "19d6ebfa-7966-4c1d-9746-54efb07b87ef"
      },
      "execution_count": 2,
      "outputs": [
        {
          "output_type": "display_data",
          "data": {
            "text/plain": [
              "<Figure size 432x288 with 1 Axes>"
            ],
            "image/png": "[encoded data removed]"
          },
          "metadata": {
            "needs_background": "light"
          }
        }
      ]
    },
    {
      "cell_type": "code",
      "source": [
        "for category in CATEGORIES:\n",
        "  class_num = CATEGORIES.index(category)\n",
        "  path = os.path.join(DATADIR,category)\n",
        "  for img in os.listdir(path):\n",
        "    img_array = imread(os.path.join(path,img))\n",
        "    img_resized = resize(img_array,(150,150))\n",
        "    X.append(img_resized.flatten())\n",
        "    images.append(img_resized)\n",
        "    y.append(class_num)\n",
        "\n",
        "\n",
        "X=np.array(X)\n",
        "y=np.array(y)\n",
        "images=np.array(images)\n",
        "\n"
      ],
      "metadata": {
        "id": "td2vShj5bVFQ"
      },
      "execution_count": 3,
      "outputs": []
    },
    {
      "cell_type": "code",
      "source": [
        "X[0]"
      ],
      "metadata": {
        "colab": {
          "base_uri": "https://localhost:8080/"
        },
        "id": "irXMVePK-w-7",
        "outputId": "c75359ea-836a-4715-ffa1-8613b96bca1d"
      },
      "execution_count": 4,
      "outputs": [
        {
          "output_type": "execute_result",
          "data": {
            "text/plain": [
              "array([0.16499346, 0.43950327, 0.68264052, ..., 0.31986423, 0.31986423,\n",
              "       0.32770736])"
            ]
          },
          "metadata": {},
          "execution_count": 4
        }
      ]
    },
    {
      "cell_type": "code",
      "source": [
        "y"
      ],
      "metadata": {
        "colab": {
          "base_uri": "https://localhost:8080/"
        },
        "id": "-WMyHQEr-w3Z",
        "outputId": "d239e502-eadd-4ed1-93e5-1504d5b02de2"
      },
      "execution_count": 5,
      "outputs": [
        {
          "output_type": "execute_result",
          "data": {
            "text/plain": [
              "array([0, 0, 0, ..., 6, 6, 6])"
            ]
          },
          "metadata": {},
          "execution_count": 5
        }
      ]
    },
    {
      "cell_type": "code",
      "source": [
        "from sklearn.model_selection import train_test_split\n",
        "x_train, x_val, y_train, y_val = train_test_split(X, y, test_size=0.3, random_state=20)"
      ],
      "metadata": {
        "id": "6iETh3R9-w0r"
      },
      "execution_count": 6,
      "outputs": []
    },
    {
      "cell_type": "code",
      "source": [
        "x_train.shape"
      ],
      "metadata": {
        "colab": {
          "base_uri": "https://localhost:8080/"
        },
        "id": "XFKZIWon-wx1",
        "outputId": "804a7ec0-d77a-4b14-88a9-a6d5f8114ab9"
      },
      "execution_count": 7,
      "outputs": [
        {
          "output_type": "execute_result",
          "data": {
            "text/plain": [
              "(2112, 67500)"
            ]
          },
          "metadata": {},
          "execution_count": 7
        }
      ]
    },
    {
      "cell_type": "code",
      "source": [
        "import keras\n",
        "from keras.models import Sequential\n",
        "from keras.layers import Dense,Dropout\n",
        "from tensorflow.keras.optimizers import SGD,RMSprop,Adam"
      ],
      "metadata": {
        "id": "_IyjNPiN-wu1"
      },
      "execution_count": 8,
      "outputs": []
    },
    {
      "cell_type": "code",
      "source": [
        "'''from keras import backend as K\n",
        "\n",
        "def f1(y_true, y_pred):\n",
        "    def recall(y_true, y_pred):\n",
        "        \"\"\"Recall metric.\n",
        "\n",
        "    Only computes a batch-wise average of recall.\n",
        "\n",
        "    Computes the recall, a metric for multi-label classification of\n",
        "    how many relevant items are selected.\n",
        "    \"\"\"\n",
        "    true_positives = K.sum(K.round(K.clip(y_true * y_pred, 0, 1)))\n",
        "    possible_positives = K.sum(K.round(K.clip(y_true, 0, 1)))\n",
        "    recall = true_positives / (possible_positives + K.epsilon())\n",
        "    return recall\n",
        "\n",
        "    def precision(y_true, y_pred):\n",
        "        \"\"\"Precision metric.\n",
        "\n",
        "    Only computes a batch-wise average of precision.\n",
        "\n",
        "    Computes the precision, a metric for multi-label classification of\n",
        "    how many selected items are relevant.\n",
        "    \"\"\"\n",
        "    true_positives = K.sum(K.round(K.clip(y_true * y_pred, 0, 1)))\n",
        "    predicted_positives = K.sum(K.round(K.clip(y_pred, 0, 1)))\n",
        "    precision = true_positives / (predicted_positives + K.epsilon())\n",
        "    return precision\n",
        "\n",
        "    precision = precision(y_true, y_pred)\n",
        "    recall = recall(y_true, y_pred)\n",
        "    return 2*((precision*recall)/(precision+recall+K.epsilon()))'''"
      ],
      "metadata": {
        "id": "0bpJANJn-wrz",
        "colab": {
          "base_uri": "https://localhost:8080/",
          "height": 140
        },
        "outputId": "4a4bf045-a672-47db-bd78-7a80eb0b9424"
      },
      "execution_count": 9,
      "outputs": [
        {
          "output_type": "execute_result",
          "data": {
            "text/plain": [
              "'from keras import backend as K\\n\\ndef f1(y_true, y_pred):\\n    def recall(y_true, y_pred):\\n        \"\"\"Recall metric.\\n\\n    Only computes a batch-wise average of recall.\\n\\n    Computes the recall, a metric for multi-label classification of\\n    how many relevant items are selected.\\n    \"\"\"\\n    true_positives = K.sum(K.round(K.clip(y_true * y_pred, 0, 1)))\\n    possible_positives = K.sum(K.round(K.clip(y_true, 0, 1)))\\n    recall = true_positives / (possible_positives + K.epsilon())\\n    return recall\\n\\n    def precision(y_true, y_pred):\\n        \"\"\"Precision metric.\\n\\n    Only computes a batch-wise average of precision.\\n\\n    Computes the precision, a metric for multi-label classification of\\n    how many selected items are relevant.\\n    \"\"\"\\n    true_positives = K.sum(K.round(K.clip(y_true * y_pred, 0, 1)))\\n    predicted_positives = K.sum(K.round(K.clip(y_pred, 0, 1)))\\n    precision = true_positives / (predicted_positives + K.epsilon())\\n    return precision\\n\\n    precision = precision(y_true, y_pred)\\n    recall = recall(y_true, y_pred)\\n    return 2*((precision*recall)/(precision+recall+K.epsilon()))'"
            ],
            "application/vnd.google.colaboratory.intrinsic+json": {
              "type": "string"
            }
          },
          "metadata": {},
          "execution_count": 9
        }
      ]
    },
    {
      "cell_type": "markdown",
      "source": [
        "##A)Baseline Neural Network"
      ],
      "metadata": {
        "id": "MeB3trmscT6K"
      }
    },
    {
      "cell_type": "code",
      "source": [
        "import tensorflow as tf\n",
        "model1 = keras.Sequential([\n",
        "\n",
        "  keras.layers.Dense(512, activation='sigmoid', input_dim=x_train.shape[1]),\n",
        "  keras.layers.BatchNormalization(),\n",
        "  \n",
        "  keras.layers.Dense(256, activation='sigmoid'),\n",
        "  keras.layers.BatchNormalization(),  \n",
        "    \n",
        "  keras.layers.Dense(64, activation='sigmoid'),\n",
        "  keras.layers.BatchNormalization(),  \n",
        "\n",
        "\n",
        "\n",
        "  keras.layers.Dense(7, activation='softmax'),\n",
        "  \n",
        "    \n",
        "\n",
        " \n",
        "])\n",
        "\n",
        "model1.compile(optimizer='adam',loss = tf.keras.losses.SparseCategoricalCrossentropy(from_logits=True),\n",
        "              metrics=['accuracy'])\n",
        "\n",
        "history=model1.fit(x_train, y_train, verbose=1,batch_size=128, epochs=20,validation_data=(x_val,y_val))"
      ],
      "metadata": {
        "colab": {
          "base_uri": "https://localhost:8080/"
        },
        "id": "ugyisD_A-wnS",
        "outputId": "a29db9e4-b237-4789-e147-b444d2367018"
      },
      "execution_count": 34,
      "outputs": [
        {
          "output_type": "stream",
          "name": "stdout",
          "text": [
            "Epoch 1/20\n"
          ]
        },
        {
          "output_type": "stream",
          "name": "stderr",
          "text": [
            "/usr/local/lib/python3.7/dist-packages/tensorflow/python/util/dispatch.py:1082: UserWarning: \"`sparse_categorical_crossentropy` received `from_logits=True`, but the `output` argument was produced by a sigmoid or softmax activation and thus does not represent logits. Was this intended?\"\n",
            "  return dispatch_target(*args, **kwargs)\n"
          ]
        },
        {
          "output_type": "stream",
          "name": "stdout",
          "text": [
            "17/17 [==============================] - 10s 493ms/step - loss: 1.1216 - accuracy: 0.6160 - val_loss: 1.9192 - val_accuracy: 0.2230\n",
            "Epoch 2/20\n",
            "17/17 [==============================] - 8s 476ms/step - loss: 0.8265 - accuracy: 0.7211 - val_loss: 1.9133 - val_accuracy: 0.2053\n",
            "Epoch 3/20\n",
            "17/17 [==============================] - 8s 472ms/step - loss: 0.8598 - accuracy: 0.6889 - val_loss: 1.9067 - val_accuracy: 0.1347\n",
            "Epoch 4/20\n",
            "17/17 [==============================] - 8s 475ms/step - loss: 0.9635 - accuracy: 0.6406 - val_loss: 1.8949 - val_accuracy: 0.1336\n",
            "Epoch 5/20\n",
            "17/17 [==============================] - 8s 472ms/step - loss: 1.0497 - accuracy: 0.6297 - val_loss: 1.8749 - val_accuracy: 0.1876\n",
            "Epoch 6/20\n",
            "17/17 [==============================] - 8s 474ms/step - loss: 1.0881 - accuracy: 0.6222 - val_loss: 1.8892 - val_accuracy: 0.1336\n",
            "Epoch 7/20\n",
            "17/17 [==============================] - 8s 474ms/step - loss: 1.1015 - accuracy: 0.5800 - val_loss: 1.9068 - val_accuracy: 0.1336\n",
            "Epoch 8/20\n",
            "17/17 [==============================] - 8s 475ms/step - loss: 1.2102 - accuracy: 0.5559 - val_loss: 1.8911 - val_accuracy: 0.1347\n",
            "Epoch 9/20\n",
            "17/17 [==============================] - 8s 476ms/step - loss: 1.2398 - accuracy: 0.5194 - val_loss: 1.9891 - val_accuracy: 0.1380\n",
            "Epoch 10/20\n",
            "17/17 [==============================] - 8s 477ms/step - loss: 1.3562 - accuracy: 0.4815 - val_loss: 2.1075 - val_accuracy: 0.1578\n",
            "Epoch 11/20\n",
            "17/17 [==============================] - 8s 477ms/step - loss: 1.4043 - accuracy: 0.4309 - val_loss: 2.3758 - val_accuracy: 0.1766\n",
            "Epoch 12/20\n",
            "17/17 [==============================] - 8s 474ms/step - loss: 1.3455 - accuracy: 0.4848 - val_loss: 2.6465 - val_accuracy: 0.1766\n",
            "Epoch 13/20\n",
            "17/17 [==============================] - 8s 486ms/step - loss: 1.2717 - accuracy: 0.5161 - val_loss: 2.8365 - val_accuracy: 0.1766\n",
            "Epoch 14/20\n",
            "17/17 [==============================] - 9s 542ms/step - loss: 1.3680 - accuracy: 0.4759 - val_loss: 3.1482 - val_accuracy: 0.1766\n",
            "Epoch 15/20\n",
            "17/17 [==============================] - 8s 478ms/step - loss: 1.4346 - accuracy: 0.4380 - val_loss: 3.3307 - val_accuracy: 0.1766\n",
            "Epoch 16/20\n",
            "17/17 [==============================] - 8s 474ms/step - loss: 1.3376 - accuracy: 0.4650 - val_loss: 4.1505 - val_accuracy: 0.1766\n",
            "Epoch 17/20\n",
            "17/17 [==============================] - 8s 476ms/step - loss: 1.3064 - accuracy: 0.5208 - val_loss: 4.4038 - val_accuracy: 0.1766\n",
            "Epoch 18/20\n",
            "17/17 [==============================] - 8s 475ms/step - loss: 1.2797 - accuracy: 0.5298 - val_loss: 4.5322 - val_accuracy: 0.1766\n",
            "Epoch 19/20\n",
            "17/17 [==============================] - 8s 473ms/step - loss: 1.2172 - accuracy: 0.5559 - val_loss: 4.4035 - val_accuracy: 0.1766\n",
            "Epoch 20/20\n",
            "17/17 [==============================] - 8s 468ms/step - loss: 1.2357 - accuracy: 0.5511 - val_loss: 4.4468 - val_accuracy: 0.1766\n"
          ]
        }
      ]
    },
    {
      "cell_type": "code",
      "source": [
        "model1.evaluate(x_val,y_val)"
      ],
      "metadata": {
        "colab": {
          "base_uri": "https://localhost:8080/"
        },
        "id": "h0lyFTN0bFN_",
        "outputId": "e5979cc3-4ae5-4cc4-a05c-bf85a4a99e1d"
      },
      "execution_count": 35,
      "outputs": [
        {
          "output_type": "stream",
          "name": "stdout",
          "text": [
            "29/29 [==============================] - 2s 61ms/step - loss: 4.4468 - accuracy: 0.1766\n"
          ]
        },
        {
          "output_type": "execute_result",
          "data": {
            "text/plain": [
              "[4.446787357330322, 0.17660044133663177]"
            ]
          },
          "metadata": {},
          "execution_count": 35
        }
      ]
    },
    {
      "cell_type": "code",
      "source": [
        "acc=model1.evaluate(x_val,y_val)[1]\n",
        "mod1=acc"
      ],
      "metadata": {
        "colab": {
          "base_uri": "https://localhost:8080/"
        },
        "id": "BpAT4ZWZT-sh",
        "outputId": "6601045d-5f76-416a-b57e-e115d4a5b215"
      },
      "execution_count": 36,
      "outputs": [
        {
          "output_type": "stream",
          "name": "stdout",
          "text": [
            "29/29 [==============================] - 2s 61ms/step - loss: 4.4468 - accuracy: 0.1766\n"
          ]
        }
      ]
    },
    {
      "cell_type": "markdown",
      "source": [
        "##B)Increasing layers and neurons"
      ],
      "metadata": {
        "id": "l2mibf-ndD1v"
      }
    },
    {
      "cell_type": "code",
      "source": [
        "#Increasing layers(adding one more layer)\n",
        "from tensorflow import keras\n",
        "model2 = keras.Sequential([\n",
        "\n",
        "  keras.layers.Dense(512, activation='sigmoid', input_dim=x_train.shape[1]),\n",
        "  keras.layers.BatchNormalization(),\n",
        "  \n",
        "  keras.layers.Dense(256, activation='sigmoid'),\n",
        "  keras.layers.BatchNormalization(),  \n",
        "\n",
        "  keras.layers.Dense(256, activation='sigmoid'),\n",
        "  keras.layers.BatchNormalization(),  \n",
        "    \n",
        "  keras.layers.Dense(64, activation='sigmoid'),\n",
        "  keras.layers.BatchNormalization(),  \n",
        "\n",
        "\n",
        "\n",
        "  keras.layers.Dense(7, activation='softmax'),\n",
        "  \n",
        "    \n",
        "\n",
        " \n",
        "])\n",
        "\n",
        "model2.compile(optimizer='adam',loss = tf.keras.losses.SparseCategoricalCrossentropy(from_logits=True),\n",
        "              metrics=['accuracy'])\n",
        "\n",
        "history=model2.fit(x_train, y_train, verbose=1,batch_size=128, epochs=20,validation_data=(x_val,y_val))"
      ],
      "metadata": {
        "colab": {
          "base_uri": "https://localhost:8080/"
        },
        "id": "w0M5xrJDbFH1",
        "outputId": "60415fca-7cf8-4b6d-cb09-1271b7dcd0cf"
      },
      "execution_count": 19,
      "outputs": [
        {
          "output_type": "stream",
          "name": "stdout",
          "text": [
            "Epoch 1/20\n"
          ]
        },
        {
          "output_type": "stream",
          "name": "stderr",
          "text": [
            "/usr/local/lib/python3.7/dist-packages/tensorflow/python/util/dispatch.py:1082: UserWarning: \"`sparse_categorical_crossentropy` received `from_logits=True`, but the `output` argument was produced by a sigmoid or softmax activation and thus does not represent logits. Was this intended?\"\n",
            "  return dispatch_target(*args, **kwargs)\n"
          ]
        },
        {
          "output_type": "stream",
          "name": "stdout",
          "text": [
            "17/17 [==============================] - 10s 501ms/step - loss: 1.1206 - accuracy: 0.6255 - val_loss: 2.0000 - val_accuracy: 0.1038\n",
            "Epoch 2/20\n",
            "17/17 [==============================] - 8s 478ms/step - loss: 0.8970 - accuracy: 0.6823 - val_loss: 1.9762 - val_accuracy: 0.1038\n",
            "Epoch 3/20\n",
            "17/17 [==============================] - 8s 477ms/step - loss: 0.9756 - accuracy: 0.6572 - val_loss: 1.9426 - val_accuracy: 0.1038\n",
            "Epoch 4/20\n",
            "17/17 [==============================] - 8s 476ms/step - loss: 1.0166 - accuracy: 0.6454 - val_loss: 1.9195 - val_accuracy: 0.1038\n",
            "Epoch 5/20\n",
            "17/17 [==============================] - 8s 473ms/step - loss: 1.1020 - accuracy: 0.5895 - val_loss: 1.9251 - val_accuracy: 0.1060\n",
            "Epoch 6/20\n",
            "17/17 [==============================] - 8s 477ms/step - loss: 1.2327 - accuracy: 0.5346 - val_loss: 1.9249 - val_accuracy: 0.1909\n",
            "Epoch 7/20\n",
            "17/17 [==============================] - 8s 475ms/step - loss: 1.3093 - accuracy: 0.5099 - val_loss: 1.9332 - val_accuracy: 0.1336\n",
            "Epoch 8/20\n",
            "17/17 [==============================] - 9s 543ms/step - loss: 1.2599 - accuracy: 0.5298 - val_loss: 1.9493 - val_accuracy: 0.1512\n",
            "Epoch 9/20\n",
            "17/17 [==============================] - 11s 633ms/step - loss: 1.1769 - accuracy: 0.5369 - val_loss: 1.9357 - val_accuracy: 0.1766\n",
            "Epoch 10/20\n",
            "17/17 [==============================] - 13s 779ms/step - loss: 1.1981 - accuracy: 0.5185 - val_loss: 1.9189 - val_accuracy: 0.1854\n",
            "Epoch 11/20\n",
            "17/17 [==============================] - 10s 591ms/step - loss: 1.1932 - accuracy: 0.5625 - val_loss: 1.9688 - val_accuracy: 0.2130\n",
            "Epoch 12/20\n",
            "17/17 [==============================] - 8s 473ms/step - loss: 1.3056 - accuracy: 0.4915 - val_loss: 1.9619 - val_accuracy: 0.1987\n",
            "Epoch 13/20\n",
            "17/17 [==============================] - 13s 800ms/step - loss: 1.2055 - accuracy: 0.5516 - val_loss: 1.9494 - val_accuracy: 0.2263\n",
            "Epoch 14/20\n",
            "17/17 [==============================] - 18s 1s/step - loss: 1.2723 - accuracy: 0.5365 - val_loss: 2.0601 - val_accuracy: 0.1832\n",
            "Epoch 15/20\n",
            "17/17 [==============================] - 8s 476ms/step - loss: 1.0780 - accuracy: 0.6264 - val_loss: 1.9850 - val_accuracy: 0.2042\n",
            "Epoch 16/20\n",
            "17/17 [==============================] - 8s 501ms/step - loss: 1.1430 - accuracy: 0.5852 - val_loss: 1.8800 - val_accuracy: 0.2958\n",
            "Epoch 17/20\n",
            "17/17 [==============================] - 8s 474ms/step - loss: 1.1335 - accuracy: 0.5672 - val_loss: 1.5108 - val_accuracy: 0.4194\n",
            "Epoch 18/20\n",
            "17/17 [==============================] - 8s 474ms/step - loss: 1.1816 - accuracy: 0.5431 - val_loss: 1.9483 - val_accuracy: 0.2517\n",
            "Epoch 19/20\n",
            "17/17 [==============================] - 8s 474ms/step - loss: 1.2429 - accuracy: 0.5592 - val_loss: 2.0540 - val_accuracy: 0.2627\n",
            "Epoch 20/20\n",
            "17/17 [==============================] - 8s 473ms/step - loss: 1.1078 - accuracy: 0.5975 - val_loss: 2.2679 - val_accuracy: 0.2815\n"
          ]
        }
      ]
    },
    {
      "cell_type": "code",
      "source": [
        "model2.evaluate(x_val,y_val)"
      ],
      "metadata": {
        "colab": {
          "base_uri": "https://localhost:8080/"
        },
        "id": "1kLud3ogbFE9",
        "outputId": "2ce9b86f-de88-4f0e-d231-5b18cb1815b6"
      },
      "execution_count": 20,
      "outputs": [
        {
          "output_type": "stream",
          "name": "stdout",
          "text": [
            "29/29 [==============================] - 2s 61ms/step - loss: 2.2679 - accuracy: 0.2815\n"
          ]
        },
        {
          "output_type": "execute_result",
          "data": {
            "text/plain": [
              "[2.267864942550659, 0.28145694732666016]"
            ]
          },
          "metadata": {},
          "execution_count": 20
        }
      ]
    },
    {
      "cell_type": "code",
      "source": [
        "acc=model2.evaluate(x_val,y_val)[1]\n",
        "mod2=acc"
      ],
      "metadata": {
        "id": "G037AXUqUDpS"
      },
      "execution_count": null,
      "outputs": []
    },
    {
      "cell_type": "code",
      "source": [
        "#increasing number of neurons\n",
        "model3 = keras.Sequential([\n",
        "\n",
        "  keras.layers.Dense(512, activation='sigmoid', input_dim=x_train.shape[1]),\n",
        "  keras.layers.BatchNormalization(),\n",
        "  \n",
        "  keras.layers.Dense(512, activation='sigmoid'),\n",
        "  keras.layers.BatchNormalization(),  \n",
        "\n",
        "  keras.layers.Dense(256, activation='sigmoid'),\n",
        "  keras.layers.BatchNormalization(),  \n",
        "    \n",
        "  keras.layers.Dense(256, activation='sigmoid'),\n",
        "  keras.layers.BatchNormalization(),  \n",
        "\n",
        "\n",
        "\n",
        "  keras.layers.Dense(7, activation='softmax'),\n",
        "  \n",
        "    \n",
        "\n",
        " \n",
        "])\n",
        "\n",
        "model3.compile(optimizer='adam',loss = tf.keras.losses.SparseCategoricalCrossentropy(from_logits=True),\n",
        "              metrics=['accuracy'])\n",
        "\n",
        "history=model3.fit(x_train, y_train, verbose=1,batch_size=128, epochs=20,validation_data=(x_val,y_val))\n"
      ],
      "metadata": {
        "colab": {
          "base_uri": "https://localhost:8080/"
        },
        "id": "s6_b6RBJbFBy",
        "outputId": "07f56b51-4b60-4168-d5a0-8ab20e1cd0ba"
      },
      "execution_count": 25,
      "outputs": [
        {
          "output_type": "stream",
          "name": "stdout",
          "text": [
            "Epoch 1/20\n"
          ]
        },
        {
          "output_type": "stream",
          "name": "stderr",
          "text": [
            "/usr/local/lib/python3.7/dist-packages/tensorflow/python/util/dispatch.py:1082: UserWarning: \"`sparse_categorical_crossentropy` received `from_logits=True`, but the `output` argument was produced by a sigmoid or softmax activation and thus does not represent logits. Was this intended?\"\n",
            "  return dispatch_target(*args, **kwargs)\n"
          ]
        },
        {
          "output_type": "stream",
          "name": "stdout",
          "text": [
            "17/17 [==============================] - 10s 510ms/step - loss: 1.2395 - accuracy: 0.5980 - val_loss: 2.1954 - val_accuracy: 0.1336\n",
            "Epoch 2/20\n",
            "17/17 [==============================] - 8s 480ms/step - loss: 0.9179 - accuracy: 0.6634 - val_loss: 2.1284 - val_accuracy: 0.1336\n",
            "Epoch 3/20\n",
            "17/17 [==============================] - 9s 552ms/step - loss: 0.9456 - accuracy: 0.6558 - val_loss: 2.0823 - val_accuracy: 0.1336\n",
            "Epoch 4/20\n",
            "17/17 [==============================] - 8s 480ms/step - loss: 1.0127 - accuracy: 0.6378 - val_loss: 2.0513 - val_accuracy: 0.1336\n",
            "Epoch 5/20\n",
            "17/17 [==============================] - 8s 480ms/step - loss: 1.1422 - accuracy: 0.5890 - val_loss: 2.0132 - val_accuracy: 0.1336\n",
            "Epoch 6/20\n",
            "17/17 [==============================] - 8s 481ms/step - loss: 1.0844 - accuracy: 0.6278 - val_loss: 2.0476 - val_accuracy: 0.1336\n",
            "Epoch 7/20\n",
            "17/17 [==============================] - 8s 480ms/step - loss: 1.1922 - accuracy: 0.5625 - val_loss: 1.9817 - val_accuracy: 0.1336\n",
            "Epoch 8/20\n",
            "17/17 [==============================] - 9s 539ms/step - loss: 1.1188 - accuracy: 0.6141 - val_loss: 1.9002 - val_accuracy: 0.1336\n",
            "Epoch 9/20\n",
            "17/17 [==============================] - 11s 641ms/step - loss: 1.2205 - accuracy: 0.5331 - val_loss: 1.9042 - val_accuracy: 0.1336\n",
            "Epoch 10/20\n",
            "17/17 [==============================] - 8s 482ms/step - loss: 1.2614 - accuracy: 0.5289 - val_loss: 1.9609 - val_accuracy: 0.1369\n",
            "Epoch 11/20\n",
            "17/17 [==============================] - 8s 480ms/step - loss: 1.3375 - accuracy: 0.4986 - val_loss: 1.9226 - val_accuracy: 0.1336\n",
            "Epoch 12/20\n",
            "17/17 [==============================] - 8s 480ms/step - loss: 1.2389 - accuracy: 0.5672 - val_loss: 1.9230 - val_accuracy: 0.1336\n",
            "Epoch 13/20\n",
            "17/17 [==============================] - 8s 483ms/step - loss: 1.2334 - accuracy: 0.5350 - val_loss: 1.8842 - val_accuracy: 0.1336\n",
            "Epoch 14/20\n",
            "17/17 [==============================] - 8s 482ms/step - loss: 1.2421 - accuracy: 0.5445 - val_loss: 2.1049 - val_accuracy: 0.1711\n",
            "Epoch 15/20\n",
            "17/17 [==============================] - 8s 479ms/step - loss: 1.4646 - accuracy: 0.4432 - val_loss: 2.1863 - val_accuracy: 0.1821\n",
            "Epoch 16/20\n",
            "17/17 [==============================] - 8s 481ms/step - loss: 1.3907 - accuracy: 0.4901 - val_loss: 1.9725 - val_accuracy: 0.1843\n",
            "Epoch 17/20\n",
            "17/17 [==============================] - 8s 481ms/step - loss: 1.3833 - accuracy: 0.4635 - val_loss: 2.3204 - val_accuracy: 0.2130\n",
            "Epoch 18/20\n",
            "17/17 [==============================] - 8s 481ms/step - loss: 1.3769 - accuracy: 0.4351 - val_loss: 2.1682 - val_accuracy: 0.2461\n",
            "Epoch 19/20\n",
            "17/17 [==============================] - 8s 478ms/step - loss: 1.2978 - accuracy: 0.5085 - val_loss: 1.9626 - val_accuracy: 0.2726\n",
            "Epoch 20/20\n",
            "17/17 [==============================] - 8s 477ms/step - loss: 1.1672 - accuracy: 0.5687 - val_loss: 1.5718 - val_accuracy: 0.3642\n"
          ]
        }
      ]
    },
    {
      "cell_type": "code",
      "source": [
        "model3.evaluate(x_val,y_val)"
      ],
      "metadata": {
        "colab": {
          "base_uri": "https://localhost:8080/"
        },
        "id": "YAqjoZmHbE_L",
        "outputId": "1438aecd-1031-44d3-f5cf-fcdd9f1ede97"
      },
      "execution_count": 26,
      "outputs": [
        {
          "output_type": "stream",
          "name": "stdout",
          "text": [
            "29/29 [==============================] - 2s 63ms/step - loss: 1.5718 - accuracy: 0.3642\n"
          ]
        },
        {
          "output_type": "execute_result",
          "data": {
            "text/plain": [
              "[1.5717597007751465, 0.3642384111881256]"
            ]
          },
          "metadata": {},
          "execution_count": 26
        }
      ]
    },
    {
      "cell_type": "code",
      "source": [
        "acc=model3.evaluate(x_val,y_val)[1]\n",
        "mod3=acc"
      ],
      "metadata": {
        "id": "jM3Jl6LdMbDy"
      },
      "execution_count": 27,
      "outputs": []
    },
    {
      "cell_type": "markdown",
      "source": [
        "##C)Experimenting with activation functions"
      ],
      "metadata": {
        "id": "wjdf2dQ1f9kE"
      }
    },
    {
      "cell_type": "code",
      "source": [
        "#With relu activation function\n",
        "import tensorflow as tf\n",
        "model4 = keras.Sequential([\n",
        "\n",
        "  keras.layers.Dense(256, activation='relu', input_dim=x_train.shape[1]),\n",
        "  keras.layers.BatchNormalization(), \n",
        "\n",
        "  keras.layers.Dense(128, activation='relu'),\n",
        "  keras.layers.BatchNormalization(),  \n",
        "    \n",
        "  keras.layers.Dense(64, activation='relu'),\n",
        "  keras.layers.BatchNormalization(),  \n",
        "\n",
        "\n",
        "\n",
        "  keras.layers.Dense(7, activation='softmax'),\n",
        "  \n",
        "    \n",
        "\n",
        " \n",
        "])\n",
        "\n",
        "model4.compile(optimizer='adam',loss = tf.keras.losses.SparseCategoricalCrossentropy(from_logits=True),\n",
        "              metrics=['accuracy'])\n",
        "\n",
        "history=model4.fit(x_train, y_train, verbose=1,batch_size=128, epochs=20,validation_data=(x_val,y_val))"
      ],
      "metadata": {
        "colab": {
          "base_uri": "https://localhost:8080/"
        },
        "id": "z-B-fYiif9Fq",
        "outputId": "32e717ea-e69f-408f-ec7f-56e3df483ed2"
      },
      "execution_count": 10,
      "outputs": [
        {
          "output_type": "stream",
          "name": "stdout",
          "text": [
            "Epoch 1/20\n"
          ]
        },
        {
          "output_type": "stream",
          "name": "stderr",
          "text": [
            "/usr/local/lib/python3.7/dist-packages/tensorflow/python/util/dispatch.py:1082: UserWarning: \"`sparse_categorical_crossentropy` received `from_logits=True`, but the `output` argument was produced by a sigmoid or softmax activation and thus does not represent logits. Was this intended?\"\n",
            "  return dispatch_target(*args, **kwargs)\n"
          ]
        },
        {
          "output_type": "stream",
          "name": "stdout",
          "text": [
            "17/17 [==============================] - 7s 283ms/step - loss: 1.0105 - accuracy: 0.6577 - val_loss: 9.5923 - val_accuracy: 0.2263\n",
            "Epoch 2/20\n",
            "17/17 [==============================] - 4s 260ms/step - loss: 0.5648 - accuracy: 0.8144 - val_loss: 8.1042 - val_accuracy: 0.1744\n",
            "Epoch 3/20\n",
            "17/17 [==============================] - 4s 256ms/step - loss: 0.4375 - accuracy: 0.8603 - val_loss: 4.2936 - val_accuracy: 0.2318\n",
            "Epoch 4/20\n",
            "17/17 [==============================] - 4s 258ms/step - loss: 0.3578 - accuracy: 0.8845 - val_loss: 2.4326 - val_accuracy: 0.2594\n",
            "Epoch 5/20\n",
            "17/17 [==============================] - 4s 257ms/step - loss: 0.3188 - accuracy: 0.9072 - val_loss: 1.5029 - val_accuracy: 0.4956\n",
            "Epoch 6/20\n",
            "17/17 [==============================] - 4s 257ms/step - loss: 0.2580 - accuracy: 0.9238 - val_loss: 1.0433 - val_accuracy: 0.6336\n",
            "Epoch 7/20\n",
            "17/17 [==============================] - 4s 259ms/step - loss: 0.2166 - accuracy: 0.9389 - val_loss: 1.0816 - val_accuracy: 0.6336\n",
            "Epoch 8/20\n",
            "17/17 [==============================] - 4s 257ms/step - loss: 0.1809 - accuracy: 0.9508 - val_loss: 0.9002 - val_accuracy: 0.7009\n",
            "Epoch 9/20\n",
            "17/17 [==============================] - 4s 257ms/step - loss: 0.1447 - accuracy: 0.9678 - val_loss: 0.9328 - val_accuracy: 0.6843\n",
            "Epoch 10/20\n",
            "17/17 [==============================] - 6s 341ms/step - loss: 0.1217 - accuracy: 0.9688 - val_loss: 0.6427 - val_accuracy: 0.7936\n",
            "Epoch 11/20\n",
            "17/17 [==============================] - 5s 291ms/step - loss: 0.1000 - accuracy: 0.9749 - val_loss: 0.8202 - val_accuracy: 0.7053\n",
            "Epoch 12/20\n",
            "17/17 [==============================] - 4s 259ms/step - loss: 0.0842 - accuracy: 0.9839 - val_loss: 0.6609 - val_accuracy: 0.7792\n",
            "Epoch 13/20\n",
            "17/17 [==============================] - 4s 258ms/step - loss: 0.0809 - accuracy: 0.9801 - val_loss: 0.7008 - val_accuracy: 0.7671\n",
            "Epoch 14/20\n",
            "17/17 [==============================] - 4s 259ms/step - loss: 0.0588 - accuracy: 0.9891 - val_loss: 0.6258 - val_accuracy: 0.7859\n",
            "Epoch 15/20\n",
            "17/17 [==============================] - 4s 257ms/step - loss: 0.0473 - accuracy: 0.9924 - val_loss: 0.8825 - val_accuracy: 0.7097\n",
            "Epoch 16/20\n",
            "17/17 [==============================] - 4s 257ms/step - loss: 0.0518 - accuracy: 0.9915 - val_loss: 0.6422 - val_accuracy: 0.7991\n",
            "Epoch 17/20\n",
            "17/17 [==============================] - 4s 260ms/step - loss: 0.0351 - accuracy: 0.9976 - val_loss: 0.8511 - val_accuracy: 0.7230\n",
            "Epoch 18/20\n",
            "17/17 [==============================] - 4s 258ms/step - loss: 0.0302 - accuracy: 0.9953 - val_loss: 0.5653 - val_accuracy: 0.8223\n",
            "Epoch 19/20\n",
            "17/17 [==============================] - 4s 260ms/step - loss: 0.0202 - accuracy: 0.9986 - val_loss: 0.4198 - val_accuracy: 0.8786\n",
            "Epoch 20/20\n",
            "17/17 [==============================] - 4s 256ms/step - loss: 0.0188 - accuracy: 0.9986 - val_loss: 0.5820 - val_accuracy: 0.8179\n"
          ]
        }
      ]
    },
    {
      "cell_type": "code",
      "source": [
        "model4.evaluate(x_val,y_val)"
      ],
      "metadata": {
        "colab": {
          "base_uri": "https://localhost:8080/"
        },
        "id": "xRVf2KzghPDa",
        "outputId": "7c733674-0254-49a6-e382-626d494748f2"
      },
      "execution_count": 11,
      "outputs": [
        {
          "output_type": "stream",
          "name": "stdout",
          "text": [
            "29/29 [==============================] - 1s 32ms/step - loss: 0.5820 - accuracy: 0.8179\n"
          ]
        },
        {
          "output_type": "execute_result",
          "data": {
            "text/plain": [
              "[0.5819680690765381, 0.8178808093070984]"
            ]
          },
          "metadata": {},
          "execution_count": 11
        }
      ]
    },
    {
      "cell_type": "code",
      "source": [
        "acc=model4.evaluate(x_val,y_val)[1]\n",
        "mod4=acc"
      ],
      "metadata": {
        "colab": {
          "base_uri": "https://localhost:8080/"
        },
        "id": "cTX0JaqzRFsu",
        "outputId": "823e021a-cfdb-4e64-f64c-8655c2b88ac6"
      },
      "execution_count": 26,
      "outputs": [
        {
          "output_type": "stream",
          "name": "stdout",
          "text": [
            "29/29 [==============================] - 1s 30ms/step - loss: 0.5820 - accuracy: 0.8179\n"
          ]
        }
      ]
    },
    {
      "cell_type": "code",
      "source": [
        "mod4"
      ],
      "metadata": {
        "colab": {
          "base_uri": "https://localhost:8080/"
        },
        "id": "NrGtkXLbS4Cp",
        "outputId": "2efc9a06-e911-4f86-b4ef-0f4495cd8bd0"
      },
      "execution_count": 27,
      "outputs": [
        {
          "output_type": "execute_result",
          "data": {
            "text/plain": [
              "0.8178808093070984"
            ]
          },
          "metadata": {},
          "execution_count": 27
        }
      ]
    },
    {
      "cell_type": "code",
      "source": [
        "#with leaky_relu activation function\n",
        "\n",
        "import keras\n",
        "leaky_relu = keras.layers.LeakyReLU(alpha=0.2)\n",
        "\n",
        "model5= keras.Sequential([\n",
        "\n",
        "  keras.layers.Dense(256, activation=leaky_relu, input_dim=x_train.shape[1]),\n",
        "  keras.layers.BatchNormalization(), \n",
        "\n",
        "  keras.layers.Dense(128, activation=leaky_relu),\n",
        "  keras.layers.BatchNormalization(),  \n",
        "    \n",
        "  keras.layers.Dense(64, activation=leaky_relu),\n",
        "  keras.layers.BatchNormalization(),  \n",
        "\n",
        "\n",
        "\n",
        "  keras.layers.Dense(7, activation='softmax'),\n",
        "  \n",
        "    \n",
        "\n",
        " \n",
        "])\n",
        "\n",
        "model5.compile(optimizer='adam',loss = tf.keras.losses.SparseCategoricalCrossentropy(from_logits=True),\n",
        "              metrics=['accuracy'])\n",
        "\n",
        "history=model5.fit(x_train, y_train, verbose=1,batch_size=128, epochs=20,validation_data=(x_val,y_val))"
      ],
      "metadata": {
        "colab": {
          "base_uri": "https://localhost:8080/"
        },
        "id": "B_KEPTq0f9CU",
        "outputId": "252bdd01-13ba-4c2c-a439-3b4c63b5c318"
      },
      "execution_count": 12,
      "outputs": [
        {
          "output_type": "stream",
          "name": "stdout",
          "text": [
            "Epoch 1/20\n",
            "17/17 [==============================] - 8s 407ms/step - loss: 1.0172 - accuracy: 0.6596 - val_loss: 10.8516 - val_accuracy: 0.4040\n",
            "Epoch 2/20\n",
            "17/17 [==============================] - 9s 517ms/step - loss: 0.6024 - accuracy: 0.8021 - val_loss: 6.1419 - val_accuracy: 0.4260\n",
            "Epoch 3/20\n",
            "17/17 [==============================] - 7s 400ms/step - loss: 0.4918 - accuracy: 0.8414 - val_loss: 4.1760 - val_accuracy: 0.3797\n",
            "Epoch 4/20\n",
            "17/17 [==============================] - 4s 252ms/step - loss: 0.4102 - accuracy: 0.8755 - val_loss: 3.0329 - val_accuracy: 0.4581\n",
            "Epoch 5/20\n",
            "17/17 [==============================] - 4s 253ms/step - loss: 0.3652 - accuracy: 0.8830 - val_loss: 1.4815 - val_accuracy: 0.5265\n",
            "Epoch 6/20\n",
            "17/17 [==============================] - 4s 253ms/step - loss: 0.2939 - accuracy: 0.9115 - val_loss: 1.0053 - val_accuracy: 0.6700\n",
            "Epoch 7/20\n",
            "17/17 [==============================] - 4s 255ms/step - loss: 0.2430 - accuracy: 0.9257 - val_loss: 0.9415 - val_accuracy: 0.6711\n",
            "Epoch 8/20\n",
            "17/17 [==============================] - 4s 254ms/step - loss: 0.2135 - accuracy: 0.9384 - val_loss: 0.8197 - val_accuracy: 0.7163\n",
            "Epoch 9/20\n",
            "17/17 [==============================] - 4s 255ms/step - loss: 0.1891 - accuracy: 0.9437 - val_loss: 0.5904 - val_accuracy: 0.7980\n",
            "Epoch 10/20\n",
            "17/17 [==============================] - 4s 254ms/step - loss: 0.1397 - accuracy: 0.9612 - val_loss: 0.4754 - val_accuracy: 0.8433\n",
            "Epoch 11/20\n",
            "17/17 [==============================] - 4s 253ms/step - loss: 0.1272 - accuracy: 0.9702 - val_loss: 0.6470 - val_accuracy: 0.7759\n",
            "Epoch 12/20\n",
            "17/17 [==============================] - 4s 256ms/step - loss: 0.1123 - accuracy: 0.9711 - val_loss: 0.7218 - val_accuracy: 0.7572\n",
            "Epoch 13/20\n",
            "17/17 [==============================] - 4s 254ms/step - loss: 0.0833 - accuracy: 0.9830 - val_loss: 0.5020 - val_accuracy: 0.8223\n",
            "Epoch 14/20\n",
            "17/17 [==============================] - 4s 255ms/step - loss: 0.0712 - accuracy: 0.9844 - val_loss: 0.4567 - val_accuracy: 0.8389\n",
            "Epoch 15/20\n",
            "17/17 [==============================] - 4s 253ms/step - loss: 0.0644 - accuracy: 0.9882 - val_loss: 0.6150 - val_accuracy: 0.8002\n",
            "Epoch 16/20\n",
            "17/17 [==============================] - 4s 255ms/step - loss: 0.0653 - accuracy: 0.9863 - val_loss: 0.5375 - val_accuracy: 0.8278\n",
            "Epoch 17/20\n",
            "17/17 [==============================] - 4s 253ms/step - loss: 0.0637 - accuracy: 0.9867 - val_loss: 0.7577 - val_accuracy: 0.7826\n",
            "Epoch 18/20\n",
            "17/17 [==============================] - 4s 254ms/step - loss: 0.0561 - accuracy: 0.9882 - val_loss: 0.4974 - val_accuracy: 0.8333\n",
            "Epoch 19/20\n",
            "17/17 [==============================] - 4s 255ms/step - loss: 0.0488 - accuracy: 0.9924 - val_loss: 0.5863 - val_accuracy: 0.8146\n",
            "Epoch 20/20\n",
            "17/17 [==============================] - 4s 256ms/step - loss: 0.0596 - accuracy: 0.9872 - val_loss: 0.8810 - val_accuracy: 0.7561\n"
          ]
        }
      ]
    },
    {
      "cell_type": "code",
      "source": [
        "model5.evaluate(x_val,y_val)"
      ],
      "metadata": {
        "colab": {
          "base_uri": "https://localhost:8080/"
        },
        "id": "W8PPN3Pof8_X",
        "outputId": "8c35991d-ab41-4ea1-b6b8-72ef9c7f0cd6"
      },
      "execution_count": 13,
      "outputs": [
        {
          "output_type": "stream",
          "name": "stdout",
          "text": [
            "29/29 [==============================] - 1s 31ms/step - loss: 0.8810 - accuracy: 0.7561\n"
          ]
        },
        {
          "output_type": "execute_result",
          "data": {
            "text/plain": [
              "[0.8809712529182434, 0.756070613861084]"
            ]
          },
          "metadata": {},
          "execution_count": 13
        }
      ]
    },
    {
      "cell_type": "code",
      "source": [
        "acc=model5.evaluate(x_val,y_val)[1]\n",
        "mod5=acc"
      ],
      "metadata": {
        "colab": {
          "base_uri": "https://localhost:8080/"
        },
        "id": "N-hEk8aaS-3y",
        "outputId": "6ef66fc9-e488-4a1b-ec4f-9e68c3781a5a"
      },
      "execution_count": 28,
      "outputs": [
        {
          "output_type": "stream",
          "name": "stdout",
          "text": [
            "29/29 [==============================] - 1s 31ms/step - loss: 0.8810 - accuracy: 0.7561\n"
          ]
        }
      ]
    },
    {
      "cell_type": "markdown",
      "source": [
        "##D)Regurlization techniques:Early stopping and dropout,L1 for sparse model"
      ],
      "metadata": {
        "id": "eqh66u3VhzWu"
      }
    },
    {
      "cell_type": "code",
      "source": [
        "#early stoping\n",
        "callback=tf.keras.callbacks.EarlyStopping(\n",
        "    monitor=\"val_loss\",\n",
        "    min_delta=0,\n",
        "    patience=3,\n",
        "    verbose=1,\n",
        "    mode=\"auto\",\n",
        "    baseline=None,\n",
        "    restore_best_weights=False,\n",
        ")"
      ],
      "metadata": {
        "id": "Wt8SYevpbE8G"
      },
      "execution_count": 14,
      "outputs": []
    },
    {
      "cell_type": "code",
      "source": [
        "model6 = keras.Sequential([\n",
        "\n",
        "  keras.layers.Dense(256, activation='relu', input_dim=x_train.shape[1]),\n",
        "  keras.layers.BatchNormalization(), \n",
        "\n",
        "  keras.layers.Dense(128, activation='relu'),\n",
        "  keras.layers.BatchNormalization(),\n",
        "  \n",
        "  keras.layers.Dense(128, activation='relu'),\n",
        "  keras.layers.BatchNormalization(),  \n",
        "    \n",
        "  keras.layers.Dense(64, activation='relu'),\n",
        "  keras.layers.BatchNormalization(),  \n",
        "\n",
        "\n",
        "\n",
        "  keras.layers.Dense(7, activation='softmax'),\n",
        "  \n",
        "    \n",
        "\n",
        " \n",
        "])\n",
        "\n",
        "model6.compile(optimizer='adam',loss = tf.keras.losses.SparseCategoricalCrossentropy(from_logits=True),\n",
        "              metrics=['accuracy'])\n",
        "\n",
        "history=model6.fit(x_train, y_train, verbose=1,batch_size=128, epochs=20,validation_data=(x_val,y_val),callbacks=callback)"
      ],
      "metadata": {
        "colab": {
          "base_uri": "https://localhost:8080/"
        },
        "id": "nXohsueibE5S",
        "outputId": "52a2ac73-152f-47e9-d69e-fc3914a992da"
      },
      "execution_count": 15,
      "outputs": [
        {
          "output_type": "stream",
          "name": "stdout",
          "text": [
            "Epoch 1/20\n",
            "17/17 [==============================] - 6s 274ms/step - loss: 1.2546 - accuracy: 0.5829 - val_loss: 11.4848 - val_accuracy: 0.1744\n",
            "Epoch 2/20\n",
            "17/17 [==============================] - 4s 257ms/step - loss: 0.7105 - accuracy: 0.7595 - val_loss: 7.7225 - val_accuracy: 0.1623\n",
            "Epoch 3/20\n",
            "17/17 [==============================] - 8s 513ms/step - loss: 0.5477 - accuracy: 0.8191 - val_loss: 5.9432 - val_accuracy: 0.1611\n",
            "Epoch 4/20\n",
            "17/17 [==============================] - 6s 330ms/step - loss: 0.4395 - accuracy: 0.8646 - val_loss: 3.9410 - val_accuracy: 0.1865\n",
            "Epoch 5/20\n",
            "17/17 [==============================] - 4s 260ms/step - loss: 0.3707 - accuracy: 0.8845 - val_loss: 2.3392 - val_accuracy: 0.3124\n",
            "Epoch 6/20\n",
            "17/17 [==============================] - 4s 260ms/step - loss: 0.3136 - accuracy: 0.9058 - val_loss: 1.7040 - val_accuracy: 0.4371\n",
            "Epoch 7/20\n",
            "17/17 [==============================] - 4s 265ms/step - loss: 0.2538 - accuracy: 0.9214 - val_loss: 1.3502 - val_accuracy: 0.5574\n",
            "Epoch 8/20\n",
            "17/17 [==============================] - 4s 260ms/step - loss: 0.1771 - accuracy: 0.9484 - val_loss: 1.1422 - val_accuracy: 0.6060\n",
            "Epoch 9/20\n",
            "17/17 [==============================] - 7s 423ms/step - loss: 0.1553 - accuracy: 0.9574 - val_loss: 0.9025 - val_accuracy: 0.6932\n",
            "Epoch 10/20\n",
            "17/17 [==============================] - 4s 261ms/step - loss: 0.1580 - accuracy: 0.9527 - val_loss: 0.6589 - val_accuracy: 0.7859\n",
            "Epoch 11/20\n",
            "17/17 [==============================] - 4s 259ms/step - loss: 0.1375 - accuracy: 0.9669 - val_loss: 0.6728 - val_accuracy: 0.7770\n",
            "Epoch 12/20\n",
            "17/17 [==============================] - 4s 260ms/step - loss: 0.1036 - accuracy: 0.9716 - val_loss: 0.7917 - val_accuracy: 0.7208\n",
            "Epoch 13/20\n",
            "17/17 [==============================] - 4s 261ms/step - loss: 0.0995 - accuracy: 0.9740 - val_loss: 0.5394 - val_accuracy: 0.8223\n",
            "Epoch 14/20\n",
            "17/17 [==============================] - 4s 259ms/step - loss: 0.0695 - accuracy: 0.9834 - val_loss: 0.6648 - val_accuracy: 0.7627\n",
            "Epoch 15/20\n",
            "17/17 [==============================] - 4s 259ms/step - loss: 0.0568 - accuracy: 0.9910 - val_loss: 0.5369 - val_accuracy: 0.8146\n",
            "Epoch 16/20\n",
            "17/17 [==============================] - 4s 262ms/step - loss: 0.0433 - accuracy: 0.9920 - val_loss: 0.8440 - val_accuracy: 0.7351\n",
            "Epoch 17/20\n",
            "17/17 [==============================] - 4s 260ms/step - loss: 0.0374 - accuracy: 0.9915 - val_loss: 0.6574 - val_accuracy: 0.7848\n",
            "Epoch 18/20\n",
            "17/17 [==============================] - 4s 260ms/step - loss: 0.0264 - accuracy: 0.9976 - val_loss: 0.5086 - val_accuracy: 0.8411\n",
            "Epoch 19/20\n",
            "17/17 [==============================] - 4s 261ms/step - loss: 0.0319 - accuracy: 0.9929 - val_loss: 0.6707 - val_accuracy: 0.8057\n",
            "Epoch 20/20\n",
            "17/17 [==============================] - 4s 258ms/step - loss: 0.0344 - accuracy: 0.9929 - val_loss: 0.6259 - val_accuracy: 0.8212\n"
          ]
        }
      ]
    },
    {
      "cell_type": "code",
      "source": [
        "model6.evaluate(x_val,y_val)"
      ],
      "metadata": {
        "colab": {
          "base_uri": "https://localhost:8080/"
        },
        "id": "6EQ5YNOfixah",
        "outputId": "74e65da1-cc98-4cee-d3d2-920aea6d9546"
      },
      "execution_count": 16,
      "outputs": [
        {
          "output_type": "stream",
          "name": "stdout",
          "text": [
            "29/29 [==============================] - 1s 32ms/step - loss: 0.6259 - accuracy: 0.8212\n"
          ]
        },
        {
          "output_type": "execute_result",
          "data": {
            "text/plain": [
              "[0.6259158253669739, 0.8211920261383057]"
            ]
          },
          "metadata": {},
          "execution_count": 16
        }
      ]
    },
    {
      "cell_type": "code",
      "source": [
        "acc=model6.evaluate(x_val,y_val)[1]\n",
        "mod6=acc"
      ],
      "metadata": {
        "colab": {
          "base_uri": "https://localhost:8080/"
        },
        "id": "cnbj1lvoTD81",
        "outputId": "55d2ca96-1afa-4496-d0df-b59906107007"
      },
      "execution_count": 30,
      "outputs": [
        {
          "output_type": "stream",
          "name": "stdout",
          "text": [
            "29/29 [==============================] - 1s 33ms/step - loss: 0.6259 - accuracy: 0.8212\n"
          ]
        }
      ]
    },
    {
      "cell_type": "code",
      "source": [
        "#dropouts for reguralization\n",
        "from tensorflow.keras.layers import Dropout\n",
        "\n",
        "model7 = keras.Sequential([\n",
        "\n",
        "  keras.layers.Dense(256, activation='relu', input_dim=x_train.shape[1]),\n",
        "  keras.layers.BatchNormalization(),\n",
        "  Dropout(0.3), \n",
        "\n",
        "  keras.layers.Dense(128, activation='relu'),\n",
        "  keras.layers.BatchNormalization(),\n",
        "  Dropout(0.3),\n",
        "  \n",
        "  keras.layers.Dense(128, activation='relu'),\n",
        "  keras.layers.BatchNormalization(), \n",
        "  Dropout(0.3), \n",
        "    \n",
        "  keras.layers.Dense(64, activation='relu'),\n",
        "  keras.layers.BatchNormalization(),\n",
        "  Dropout(0.3),  \n",
        "\n",
        "\n",
        "\n",
        "  keras.layers.Dense(7, activation='softmax'),\n",
        "  \n",
        "    \n",
        "\n",
        " \n",
        "])\n",
        "\n",
        "model7.compile(optimizer='adam',loss = tf.keras.losses.SparseCategoricalCrossentropy(from_logits=True),\n",
        "              metrics=['accuracy'])\n",
        "\n",
        "history=model7.fit(x_train, y_train, verbose=1,batch_size=128, epochs=20,validation_data=(x_val,y_val),callbacks=callback)"
      ],
      "metadata": {
        "colab": {
          "base_uri": "https://localhost:8080/"
        },
        "id": "6YYfyDsKixXG",
        "outputId": "48941b3c-1334-4e77-c0a5-b72deb2447f8"
      },
      "execution_count": 17,
      "outputs": [
        {
          "output_type": "stream",
          "name": "stdout",
          "text": [
            "Epoch 1/20\n",
            "17/17 [==============================] - 8s 367ms/step - loss: 1.9870 - accuracy: 0.3144 - val_loss: 10.6945 - val_accuracy: 0.1457\n",
            "Epoch 2/20\n",
            "17/17 [==============================] - 4s 260ms/step - loss: 1.3864 - accuracy: 0.5170 - val_loss: 7.1052 - val_accuracy: 0.1898\n",
            "Epoch 3/20\n",
            "17/17 [==============================] - 4s 264ms/step - loss: 1.1670 - accuracy: 0.5914 - val_loss: 5.8414 - val_accuracy: 0.2439\n",
            "Epoch 4/20\n",
            "17/17 [==============================] - 4s 259ms/step - loss: 1.0380 - accuracy: 0.6335 - val_loss: 3.4310 - val_accuracy: 0.3841\n",
            "Epoch 5/20\n",
            "17/17 [==============================] - 4s 259ms/step - loss: 0.9527 - accuracy: 0.6605 - val_loss: 2.4530 - val_accuracy: 0.4680\n",
            "Epoch 6/20\n",
            "17/17 [==============================] - 4s 261ms/step - loss: 0.8943 - accuracy: 0.6771 - val_loss: 1.9027 - val_accuracy: 0.4525\n",
            "Epoch 7/20\n",
            "17/17 [==============================] - 4s 258ms/step - loss: 0.8209 - accuracy: 0.7050 - val_loss: 1.2497 - val_accuracy: 0.6159\n",
            "Epoch 8/20\n",
            "17/17 [==============================] - 4s 256ms/step - loss: 0.7859 - accuracy: 0.7249 - val_loss: 1.1284 - val_accuracy: 0.6148\n",
            "Epoch 9/20\n",
            "17/17 [==============================] - 4s 261ms/step - loss: 0.7344 - accuracy: 0.7363 - val_loss: 0.8508 - val_accuracy: 0.7053\n",
            "Epoch 10/20\n",
            "17/17 [==============================] - 4s 259ms/step - loss: 0.6818 - accuracy: 0.7557 - val_loss: 0.6081 - val_accuracy: 0.7892\n",
            "Epoch 11/20\n",
            "17/17 [==============================] - 4s 260ms/step - loss: 0.6487 - accuracy: 0.7760 - val_loss: 0.6321 - val_accuracy: 0.7958\n",
            "Epoch 12/20\n",
            "17/17 [==============================] - 4s 259ms/step - loss: 0.6094 - accuracy: 0.7884 - val_loss: 0.5786 - val_accuracy: 0.8002\n",
            "Epoch 13/20\n",
            "17/17 [==============================] - 4s 260ms/step - loss: 0.5914 - accuracy: 0.8040 - val_loss: 0.5645 - val_accuracy: 0.8079\n",
            "Epoch 14/20\n",
            "17/17 [==============================] - 4s 260ms/step - loss: 0.5677 - accuracy: 0.8082 - val_loss: 0.6700 - val_accuracy: 0.7583\n",
            "Epoch 15/20\n",
            "17/17 [==============================] - 4s 257ms/step - loss: 0.5284 - accuracy: 0.8277 - val_loss: 0.5732 - val_accuracy: 0.8046\n",
            "Epoch 16/20\n",
            "17/17 [==============================] - 5s 276ms/step - loss: 0.5213 - accuracy: 0.8187 - val_loss: 0.5896 - val_accuracy: 0.7958\n",
            "Epoch 16: early stopping\n"
          ]
        }
      ]
    },
    {
      "cell_type": "code",
      "source": [
        "model7.evaluate(x_val,y_val)"
      ],
      "metadata": {
        "colab": {
          "base_uri": "https://localhost:8080/"
        },
        "id": "MxG-41htj612",
        "outputId": "9958ebfc-5595-464e-e108-12bd0a417b96"
      },
      "execution_count": 18,
      "outputs": [
        {
          "output_type": "stream",
          "name": "stdout",
          "text": [
            "29/29 [==============================] - 1s 32ms/step - loss: 0.5896 - accuracy: 0.7958\n"
          ]
        },
        {
          "output_type": "execute_result",
          "data": {
            "text/plain": [
              "[0.5895634889602661, 0.7958057522773743]"
            ]
          },
          "metadata": {},
          "execution_count": 18
        }
      ]
    },
    {
      "cell_type": "code",
      "source": [
        "acc=model7.evaluate(x_val,y_val)[1]\n",
        "mod7=acc"
      ],
      "metadata": {
        "colab": {
          "base_uri": "https://localhost:8080/"
        },
        "id": "GY6vIhCCTH5R",
        "outputId": "d5bdffdd-ab42-4bda-dd2f-cc5b4433ff6d"
      },
      "execution_count": 29,
      "outputs": [
        {
          "output_type": "stream",
          "name": "stdout",
          "text": [
            "29/29 [==============================] - 1s 31ms/step - loss: 0.5896 - accuracy: 0.7958\n"
          ]
        }
      ]
    },
    {
      "cell_type": "code",
      "source": [
        "#L1 for sparse model\n",
        "from tensorflow.keras import regularizers\n",
        "modell8 = keras.Sequential([\n",
        "\n",
        "  keras.layers.Dense(1024, activation=tf.keras.layers.LeakyReLU(alpha=0.1), input_dim=x_train.shape[1]),\n",
        "  keras.layers.BatchNormalization(),\n",
        "  \n",
        "  keras.layers.Dense(512, activation=tf.keras.layers.LeakyReLU(alpha=0.1)),\n",
        "  keras.layers.BatchNormalization(),  \n",
        "    \n",
        "  keras.layers.Dense(256, activation=tf.keras.layers.LeakyReLU(alpha=0.1)),\n",
        "  keras.layers.BatchNormalization(),\n",
        "    \n",
        "\n",
        "\n",
        "  keras.layers.Dense(7, activation='softmax',kernel_regularizer='l1'),\n",
        "  \n",
        "    \n",
        "\n",
        " \n",
        "])\n",
        "\n",
        "modell8.compile(loss=tf.keras.losses.SparseCategoricalCrossentropy(from_logits=True),\n",
        "            optimizer='adam', metrics=['accuracy'])\n",
        "history=modell8.fit(x_train, y_train, verbose=1,batch_size=128, epochs=20,validation_data=(x_val,y_val),callbacks=callback)"
      ],
      "metadata": {
        "colab": {
          "base_uri": "https://localhost:8080/"
        },
        "id": "pu6Yv2zmAY4q",
        "outputId": "c087357f-283c-42a7-a32e-984491a7ef78"
      },
      "execution_count": 19,
      "outputs": [
        {
          "output_type": "stream",
          "name": "stdout",
          "text": [
            "Epoch 1/20\n",
            "17/17 [==============================] - 17s 937ms/step - loss: 2.3044 - accuracy: 0.6742 - val_loss: 38.4527 - val_accuracy: 0.3278\n",
            "Epoch 2/20\n",
            "17/17 [==============================] - 15s 918ms/step - loss: 1.8103 - accuracy: 0.7945 - val_loss: 28.6725 - val_accuracy: 0.2031\n",
            "Epoch 3/20\n",
            "17/17 [==============================] - 15s 915ms/step - loss: 1.6075 - accuracy: 0.8305 - val_loss: 13.2208 - val_accuracy: 0.2704\n",
            "Epoch 4/20\n",
            "17/17 [==============================] - 15s 914ms/step - loss: 1.4345 - accuracy: 0.8703 - val_loss: 6.8883 - val_accuracy: 0.3929\n",
            "Epoch 5/20\n",
            "17/17 [==============================] - 15s 916ms/step - loss: 1.2901 - accuracy: 0.8826 - val_loss: 3.7117 - val_accuracy: 0.4967\n",
            "Epoch 6/20\n",
            "17/17 [==============================] - 15s 915ms/step - loss: 1.1580 - accuracy: 0.8892 - val_loss: 2.6652 - val_accuracy: 0.5651\n",
            "Epoch 7/20\n",
            "17/17 [==============================] - 17s 1s/step - loss: 1.0537 - accuracy: 0.9001 - val_loss: 2.4040 - val_accuracy: 0.5629\n",
            "Epoch 8/20\n",
            "17/17 [==============================] - 17s 1s/step - loss: 0.9323 - accuracy: 0.9152 - val_loss: 1.4902 - val_accuracy: 0.6943\n",
            "Epoch 9/20\n",
            "17/17 [==============================] - 16s 918ms/step - loss: 0.7852 - accuracy: 0.9446 - val_loss: 1.1610 - val_accuracy: 0.7914\n",
            "Epoch 10/20\n",
            "17/17 [==============================] - 15s 915ms/step - loss: 0.6859 - accuracy: 0.9588 - val_loss: 1.0254 - val_accuracy: 0.8146\n",
            "Epoch 11/20\n",
            "17/17 [==============================] - 15s 912ms/step - loss: 0.6188 - accuracy: 0.9598 - val_loss: 0.9330 - val_accuracy: 0.8377\n",
            "Epoch 12/20\n",
            "17/17 [==============================] - 15s 912ms/step - loss: 0.5659 - accuracy: 0.9621 - val_loss: 1.2788 - val_accuracy: 0.6865\n",
            "Epoch 13/20\n",
            "17/17 [==============================] - 15s 912ms/step - loss: 0.4935 - accuracy: 0.9721 - val_loss: 0.9932 - val_accuracy: 0.7671\n",
            "Epoch 14/20\n",
            "17/17 [==============================] - 15s 917ms/step - loss: 0.4405 - accuracy: 0.9777 - val_loss: 0.9416 - val_accuracy: 0.7892\n",
            "Epoch 14: early stopping\n"
          ]
        }
      ]
    },
    {
      "cell_type": "code",
      "source": [
        "modell8.evaluate(x_val,y_val)"
      ],
      "metadata": {
        "colab": {
          "base_uri": "https://localhost:8080/"
        },
        "id": "dDAY987kAY1Z",
        "outputId": "428cd39a-58e4-4529-fbd4-d362bdaebe7d"
      },
      "execution_count": 20,
      "outputs": [
        {
          "output_type": "stream",
          "name": "stdout",
          "text": [
            "29/29 [==============================] - 3s 117ms/step - loss: 0.9416 - accuracy: 0.7892\n"
          ]
        },
        {
          "output_type": "execute_result",
          "data": {
            "text/plain": [
              "[0.9416460990905762, 0.7891831994056702]"
            ]
          },
          "metadata": {},
          "execution_count": 20
        }
      ]
    },
    {
      "cell_type": "code",
      "source": [
        "acc=modell8.evaluate(x_val,y_val)[1]\n",
        "modd8=acc"
      ],
      "metadata": {
        "colab": {
          "base_uri": "https://localhost:8080/"
        },
        "id": "JlwG9rK3TPZs",
        "outputId": "8bfea62b-b864-4afe-ea4a-6251bf3972fc"
      },
      "execution_count": 31,
      "outputs": [
        {
          "output_type": "stream",
          "name": "stdout",
          "text": [
            "29/29 [==============================] - 3s 114ms/step - loss: 0.9416 - accuracy: 0.7892\n"
          ]
        }
      ]
    },
    {
      "cell_type": "markdown",
      "source": [
        "##E)Using 2 other optimizers"
      ],
      "metadata": {
        "id": "DJd8PDJTkgL4"
      }
    },
    {
      "cell_type": "code",
      "source": [
        "#rmsprop optimizer\n",
        "model8 = keras.Sequential([\n",
        "\n",
        "  keras.layers.Dense(256, activation='relu', input_dim=x_train.shape[1]),\n",
        "  keras.layers.BatchNormalization(),\n",
        "  Dropout(0.3), \n",
        "\n",
        "  keras.layers.Dense(128, activation='relu'),\n",
        "  keras.layers.BatchNormalization(),\n",
        "  Dropout(0.3),\n",
        "  \n",
        "  keras.layers.Dense(128, activation='relu'),\n",
        "  keras.layers.BatchNormalization(), \n",
        "  Dropout(0.3), \n",
        "    \n",
        "  keras.layers.Dense(64, activation='relu'),\n",
        "  keras.layers.BatchNormalization(),\n",
        "  Dropout(0.3),  \n",
        "\n",
        "\n",
        "\n",
        "  keras.layers.Dense(7, activation='softmax'),\n",
        "  \n",
        "    \n",
        "\n",
        " \n",
        "])\n",
        "\n",
        "model8.compile(optimizer=tf.keras.optimizers.RMSprop(learning_rate=0.01),loss = tf.keras.losses.SparseCategoricalCrossentropy(from_logits=True),\n",
        "              metrics=['accuracy'])\n",
        "\n",
        "history=model8.fit(x_train, y_train, verbose=1,batch_size=128, epochs=20,validation_data=(x_val,y_val),callbacks=callback)"
      ],
      "metadata": {
        "colab": {
          "base_uri": "https://localhost:8080/"
        },
        "id": "dQVVRepfixVT",
        "outputId": "748f9dca-1e55-45b6-fa6a-261470f6b925"
      },
      "execution_count": 22,
      "outputs": [
        {
          "output_type": "stream",
          "name": "stdout",
          "text": [
            "Epoch 1/20\n"
          ]
        },
        {
          "output_type": "stream",
          "name": "stderr",
          "text": [
            "/usr/local/lib/python3.7/dist-packages/tensorflow/python/util/dispatch.py:1082: UserWarning: \"`sparse_categorical_crossentropy` received `from_logits=True`, but the `output` argument was produced by a sigmoid or softmax activation and thus does not represent logits. Was this intended?\"\n",
            "  return dispatch_target(*args, **kwargs)\n"
          ]
        },
        {
          "output_type": "stream",
          "name": "stdout",
          "text": [
            "17/17 [==============================] - 8s 341ms/step - loss: 1.5102 - accuracy: 0.4697 - val_loss: 96.7194 - val_accuracy: 0.1038\n",
            "Epoch 2/20\n",
            "17/17 [==============================] - 5s 314ms/step - loss: 1.0367 - accuracy: 0.6264 - val_loss: 73.7261 - val_accuracy: 0.1049\n",
            "Epoch 3/20\n",
            "17/17 [==============================] - 5s 311ms/step - loss: 0.9085 - accuracy: 0.6652 - val_loss: 19.3629 - val_accuracy: 0.3046\n",
            "Epoch 4/20\n",
            "17/17 [==============================] - 5s 309ms/step - loss: 0.8612 - accuracy: 0.6899 - val_loss: 9.6706 - val_accuracy: 0.2792\n",
            "Epoch 5/20\n",
            "17/17 [==============================] - 7s 409ms/step - loss: 0.7930 - accuracy: 0.7121 - val_loss: 11.4043 - val_accuracy: 0.3664\n",
            "Epoch 6/20\n",
            "17/17 [==============================] - 5s 317ms/step - loss: 0.7719 - accuracy: 0.7273 - val_loss: 6.3718 - val_accuracy: 0.3631\n",
            "Epoch 7/20\n",
            "17/17 [==============================] - 5s 314ms/step - loss: 0.7461 - accuracy: 0.7424 - val_loss: 3.2310 - val_accuracy: 0.4216\n",
            "Epoch 8/20\n",
            "17/17 [==============================] - 5s 311ms/step - loss: 0.6385 - accuracy: 0.7841 - val_loss: 2.0712 - val_accuracy: 0.5221\n",
            "Epoch 9/20\n",
            "17/17 [==============================] - 5s 310ms/step - loss: 0.6604 - accuracy: 0.7850 - val_loss: 4.4379 - val_accuracy: 0.2980\n",
            "Epoch 10/20\n",
            "17/17 [==============================] - 5s 313ms/step - loss: 0.5908 - accuracy: 0.7983 - val_loss: 9.3025 - val_accuracy: 0.1921\n",
            "Epoch 11/20\n",
            "17/17 [==============================] - 6s 357ms/step - loss: 0.5814 - accuracy: 0.8059 - val_loss: 5.5781 - val_accuracy: 0.3510\n",
            "Epoch 11: early stopping\n"
          ]
        }
      ]
    },
    {
      "cell_type": "code",
      "source": [
        "model8.evaluate(x_val,y_val)"
      ],
      "metadata": {
        "colab": {
          "base_uri": "https://localhost:8080/"
        },
        "id": "YvxKOFnxixSy",
        "outputId": "da564eeb-9af7-49fe-af41-10791a9902f5"
      },
      "execution_count": 23,
      "outputs": [
        {
          "output_type": "stream",
          "name": "stdout",
          "text": [
            "29/29 [==============================] - 4s 123ms/step - loss: 5.5781 - accuracy: 0.3510\n"
          ]
        },
        {
          "output_type": "execute_result",
          "data": {
            "text/plain": [
              "[5.578050136566162, 0.3509933650493622]"
            ]
          },
          "metadata": {},
          "execution_count": 23
        }
      ]
    },
    {
      "cell_type": "code",
      "source": [
        "acc=model8.evaluate(x_val,y_val)[1]\n",
        "mod8=acc"
      ],
      "metadata": {
        "colab": {
          "base_uri": "https://localhost:8080/"
        },
        "id": "grl0yzj_TUXS",
        "outputId": "6c7b5b1f-5bc7-46f8-d974-7cdbc2b7f294"
      },
      "execution_count": 32,
      "outputs": [
        {
          "output_type": "stream",
          "name": "stdout",
          "text": [
            "29/29 [==============================] - 1s 31ms/step - loss: 5.5781 - accuracy: 0.3510\n"
          ]
        }
      ]
    },
    {
      "cell_type": "code",
      "source": [
        "#sgd optimizer\n",
        "\n",
        "model9 = keras.Sequential([\n",
        "\n",
        "  keras.layers.Dense(256, activation='relu', input_dim=x_train.shape[1]),\n",
        "  keras.layers.BatchNormalization(),\n",
        "  Dropout(0.3), \n",
        "\n",
        "  keras.layers.Dense(128, activation='relu'),\n",
        "  keras.layers.BatchNormalization(),\n",
        "  Dropout(0.3),\n",
        "  \n",
        "  keras.layers.Dense(128, activation='relu'),\n",
        "  keras.layers.BatchNormalization(), \n",
        "  Dropout(0.3), \n",
        "    \n",
        "  keras.layers.Dense(64, activation='relu'),\n",
        "  keras.layers.BatchNormalization(),\n",
        "  Dropout(0.3),  \n",
        "\n",
        "\n",
        "\n",
        "  keras.layers.Dense(7, activation='softmax'),\n",
        "  \n",
        "    \n",
        "\n",
        " \n",
        "])\n",
        "\n",
        "model9.compile(optimizer=\"sgd\",loss = tf.keras.losses.SparseCategoricalCrossentropy(from_logits=True),\n",
        "              metrics=['accuracy'])\n",
        "\n",
        "history=model9.fit(x_train, y_train, verbose=1,batch_size=128, epochs=20,validation_data=(x_val,y_val),callbacks=callback)"
      ],
      "metadata": {
        "id": "b4dZIj5fixQj",
        "colab": {
          "base_uri": "https://localhost:8080/"
        },
        "outputId": "05a0b5f2-69b9-499e-940c-a6fc188aa423"
      },
      "execution_count": 24,
      "outputs": [
        {
          "output_type": "stream",
          "name": "stdout",
          "text": [
            "Epoch 1/20\n"
          ]
        },
        {
          "output_type": "stream",
          "name": "stderr",
          "text": [
            "/usr/local/lib/python3.7/dist-packages/tensorflow/python/util/dispatch.py:1082: UserWarning: \"`sparse_categorical_crossentropy` received `from_logits=True`, but the `output` argument was produced by a sigmoid or softmax activation and thus does not represent logits. Was this intended?\"\n",
            "  return dispatch_target(*args, **kwargs)\n"
          ]
        },
        {
          "output_type": "stream",
          "name": "stdout",
          "text": [
            "17/17 [==============================] - 5s 238ms/step - loss: 2.0500 - accuracy: 0.3087 - val_loss: 2.9171 - val_accuracy: 0.2506\n",
            "Epoch 2/20\n",
            "17/17 [==============================] - 4s 219ms/step - loss: 1.5581 - accuracy: 0.4309 - val_loss: 3.0165 - val_accuracy: 0.2075\n",
            "Epoch 3/20\n",
            "17/17 [==============================] - 6s 386ms/step - loss: 1.3270 - accuracy: 0.5327 - val_loss: 1.7864 - val_accuracy: 0.4481\n",
            "Epoch 4/20\n",
            "17/17 [==============================] - 4s 218ms/step - loss: 1.2198 - accuracy: 0.5753 - val_loss: 1.5708 - val_accuracy: 0.4525\n",
            "Epoch 5/20\n",
            "17/17 [==============================] - 4s 218ms/step - loss: 1.0794 - accuracy: 0.6297 - val_loss: 2.4346 - val_accuracy: 0.3731\n",
            "Epoch 6/20\n",
            "17/17 [==============================] - 4s 219ms/step - loss: 1.0273 - accuracy: 0.6591 - val_loss: 1.5767 - val_accuracy: 0.4702\n",
            "Epoch 7/20\n",
            "17/17 [==============================] - 4s 218ms/step - loss: 0.9315 - accuracy: 0.6804 - val_loss: 0.9723 - val_accuracy: 0.6733\n",
            "Epoch 8/20\n",
            "17/17 [==============================] - 4s 219ms/step - loss: 0.8715 - accuracy: 0.6998 - val_loss: 0.9841 - val_accuracy: 0.6623\n",
            "Epoch 9/20\n",
            "17/17 [==============================] - 4s 216ms/step - loss: 0.8782 - accuracy: 0.6932 - val_loss: 0.7922 - val_accuracy: 0.7704\n",
            "Epoch 10/20\n",
            "17/17 [==============================] - 4s 217ms/step - loss: 0.8167 - accuracy: 0.7178 - val_loss: 0.8407 - val_accuracy: 0.7196\n",
            "Epoch 11/20\n",
            "17/17 [==============================] - 6s 349ms/step - loss: 0.7873 - accuracy: 0.7315 - val_loss: 0.6852 - val_accuracy: 0.7914\n",
            "Epoch 12/20\n",
            "17/17 [==============================] - 9s 553ms/step - loss: 0.7753 - accuracy: 0.7410 - val_loss: 0.8938 - val_accuracy: 0.6976\n",
            "Epoch 13/20\n",
            "17/17 [==============================] - 10s 632ms/step - loss: 0.7533 - accuracy: 0.7434 - val_loss: 0.8262 - val_accuracy: 0.7450\n",
            "Epoch 14/20\n",
            "17/17 [==============================] - 6s 315ms/step - loss: 0.7329 - accuracy: 0.7670 - val_loss: 1.3032 - val_accuracy: 0.5740\n",
            "Epoch 14: early stopping\n"
          ]
        }
      ]
    },
    {
      "cell_type": "code",
      "source": [
        "model9.evaluate(x_val,y_val)"
      ],
      "metadata": {
        "id": "NNLmLengiwz3",
        "colab": {
          "base_uri": "https://localhost:8080/"
        },
        "outputId": "04cbfe3a-9e92-44ad-9a47-a4b7b4dcd7b2"
      },
      "execution_count": 25,
      "outputs": [
        {
          "output_type": "stream",
          "name": "stdout",
          "text": [
            "29/29 [==============================] - 1s 30ms/step - loss: 1.3032 - accuracy: 0.5740\n"
          ]
        },
        {
          "output_type": "execute_result",
          "data": {
            "text/plain": [
              "[1.3031967878341675, 0.5739514231681824]"
            ]
          },
          "metadata": {},
          "execution_count": 25
        }
      ]
    },
    {
      "cell_type": "code",
      "source": [
        "acc=model9.evaluate(x_val,y_val)[1]\n",
        "mod9=acc"
      ],
      "metadata": {
        "colab": {
          "base_uri": "https://localhost:8080/"
        },
        "id": "I9u9H1CSTYp0",
        "outputId": "4a6850de-7b62-4d80-9b74-8cae055ae9f0"
      },
      "execution_count": 33,
      "outputs": [
        {
          "output_type": "stream",
          "name": "stdout",
          "text": [
            "29/29 [==============================] - 1s 32ms/step - loss: 1.3032 - accuracy: 0.5740\n"
          ]
        }
      ]
    },
    {
      "cell_type": "markdown",
      "source": [
        "##Tabulating confidence intervals(95% samples lie between these metrics(error/accuracy)"
      ],
      "metadata": {
        "id": "EUyuS24IrXB_"
      }
    },
    {
      "cell_type": "code",
      "source": [
        "import pandas as pd\n",
        "table=pd.DataFrame({\"BaseLine NN\":mod1,\"relu activaton\":mod4,\"LeakyRelu\":mod5,\"Early Stopping\":mod6,\"Dropout\":mod7,\"L1-sparse\":modd8,\"RmsProp optimizer\":mod8,\"sgd\":mod9},index=[\"Accuarcy\",'micro-f1','macro-f1'])"
      ],
      "metadata": {
        "id": "ACbFEWH7mFja"
      },
      "execution_count": 38,
      "outputs": []
    },
    {
      "cell_type": "code",
      "source": [
        "table"
      ],
      "metadata": {
        "id": "lljAC48WmFf9",
        "colab": {
          "base_uri": "https://localhost:8080/",
          "height": 143
        },
        "outputId": "74eab808-645a-47a8-98a0-b861fb161add"
      },
      "execution_count": 39,
      "outputs": [
        {
          "output_type": "execute_result",
          "data": {
            "text/plain": [
              "          BaseLine NN  relu activaton  LeakyRelu  Early Stopping   Dropout  \\\n",
              "Accuarcy       0.1766        0.817881   0.756071        0.821192  0.795806   \n",
              "micro-f1       0.1766        0.817881   0.756071        0.821192  0.795806   \n",
              "macro-f1       0.1766        0.817881   0.756071        0.821192  0.795806   \n",
              "\n",
              "          L1-sparse  RmsProp optimizer       sgd  \n",
              "Accuarcy   0.789183           0.350993  0.573951  \n",
              "micro-f1   0.789183           0.350993  0.573951  \n",
              "macro-f1   0.789183           0.350993  0.573951  "
            ],
            "text/html": [
              "\n",
              "  <div id=\"df-3aebc153-d2a7-4147-adae-eaeb2b8af3d1\">\n",
              "    <div class=\"colab-df-container\">\n",
              "      <div>\n",
              "<style scoped>\n",
              "    .dataframe tbody tr th:only-of-type {\n",
              "        vertical-align: middle;\n",
              "    }\n",
              "\n",
              "    .dataframe tbody tr th {\n",
              "        vertical-align: top;\n",
              "    }\n",
              "\n",
              "    .dataframe thead th {\n",
              "        text-align: right;\n",
              "    }\n",
              "</style>\n",
              "<table border=\"1\" class=\"dataframe\">\n",
              "  <thead>\n",
              "    <tr style=\"text-align: right;\">\n",
              "      <th></th>\n",
              "      <th>BaseLine NN</th>\n",
              "      <th>relu activaton</th>\n",
              "      <th>LeakyRelu</th>\n",
              "      <th>Early Stopping</th>\n",
              "      <th>Dropout</th>\n",
              "      <th>L1-sparse</th>\n",
              "      <th>RmsProp optimizer</th>\n",
              "      <th>sgd</th>\n",
              "    </tr>\n",
              "  </thead>\n",
              "  <tbody>\n",
              "    <tr>\n",
              "      <th>Accuarcy</th>\n",
              "      <td>0.1766</td>\n",
              "      <td>0.817881</td>\n",
              "      <td>0.756071</td>\n",
              "      <td>0.821192</td>\n",
              "      <td>0.795806</td>\n",
              "      <td>0.789183</td>\n",
              "      <td>0.350993</td>\n",
              "      <td>0.573951</td>\n",
              "    </tr>\n",
              "    <tr>\n",
              "      <th>micro-f1</th>\n",
              "      <td>0.1766</td>\n",
              "      <td>0.817881</td>\n",
              "      <td>0.756071</td>\n",
              "      <td>0.821192</td>\n",
              "      <td>0.795806</td>\n",
              "      <td>0.789183</td>\n",
              "      <td>0.350993</td>\n",
              "      <td>0.573951</td>\n",
              "    </tr>\n",
              "    <tr>\n",
              "      <th>macro-f1</th>\n",
              "      <td>0.1766</td>\n",
              "      <td>0.817881</td>\n",
              "      <td>0.756071</td>\n",
              "      <td>0.821192</td>\n",
              "      <td>0.795806</td>\n",
              "      <td>0.789183</td>\n",
              "      <td>0.350993</td>\n",
              "      <td>0.573951</td>\n",
              "    </tr>\n",
              "  </tbody>\n",
              "</table>\n",
              "</div>\n",
              "      <button class=\"colab-df-convert\" onclick=\"convertToInteractive('df-3aebc153-d2a7-4147-adae-eaeb2b8af3d1')\"\n",
              "              title=\"Convert this dataframe to an interactive table.\"\n",
              "              style=\"display:none;\">\n",
              "        \n",
              "  <svg xmlns=\"http://www.w3.org/2000/svg\" height=\"24px\"viewBox=\"0 0 24 24\"\n",
              "       width=\"24px\">\n",
              "    <path d=\"M0 0h24v24H0V0z\" fill=\"none\"/>\n",
              "    <path d=\"M18.56 5.44l.94 2.06.94-2.06 2.06-.94-2.06-.94-.94-2.06-.94 2.06-2.06.94zm-11 1L8.5 8.5l.94-2.06 2.06-.94-2.06-.94L8.5 2.5l-.94 2.06-2.06.94zm10 10l.94 2.06.94-2.06 2.06-.94-2.06-.94-.94-2.06-.94 2.06-2.06.94z\"/><path d=\"M17.41 7.96l-1.37-1.37c-.4-.4-.92-.59-1.43-.59-.52 0-1.04.2-1.43.59L10.3 9.45l-7.72 7.72c-.78.78-.78 2.05 0 2.83L4 21.41c.39.39.9.59 1.41.59.51 0 1.02-.2 1.41-.59l7.78-7.78 2.81-2.81c.8-.78.8-2.07 0-2.86zM5.41 20L4 18.59l7.72-7.72 1.47 1.35L5.41 20z\"/>\n",
              "  </svg>\n",
              "      </button>\n",
              "      \n",
              "  <style>\n",
              "    .colab-df-container {\n",
              "      display:flex;\n",
              "      flex-wrap:wrap;\n",
              "      gap: 12px;\n",
              "    }\n",
              "\n",
              "    .colab-df-convert {\n",
              "      background-color: #E8F0FE;\n",
              "      border: none;\n",
              "      border-radius: 50%;\n",
              "      cursor: pointer;\n",
              "      display: none;\n",
              "      fill: #1967D2;\n",
              "      height: 32px;\n",
              "      padding: 0 0 0 0;\n",
              "      width: 32px;\n",
              "    }\n",
              "\n",
              "    .colab-df-convert:hover {\n",
              "      background-color: #E2EBFA;\n",
              "      box-shadow: 0px 1px 2px rgba(60, 64, 67, 0.3), 0px 1px 3px 1px rgba(60, 64, 67, 0.15);\n",
              "      fill: #174EA6;\n",
              "    }\n",
              "\n",
              "    [theme=dark] .colab-df-convert {\n",
              "      background-color: #3B4455;\n",
              "      fill: #D2E3FC;\n",
              "    }\n",
              "\n",
              "    [theme=dark] .colab-df-convert:hover {\n",
              "      background-color: #434B5C;\n",
              "      box-shadow: 0px 1px 3px 1px rgba(0, 0, 0, 0.15);\n",
              "      filter: drop-shadow(0px 1px 2px rgba(0, 0, 0, 0.3));\n",
              "      fill: #FFFFFF;\n",
              "    }\n",
              "  </style>\n",
              "\n",
              "      <script>\n",
              "        const buttonEl =\n",
              "          document.querySelector('#df-3aebc153-d2a7-4147-adae-eaeb2b8af3d1 button.colab-df-convert');\n",
              "        buttonEl.style.display =\n",
              "          google.colab.kernel.accessAllowed ? 'block' : 'none';\n",
              "\n",
              "        async function convertToInteractive(key) {\n",
              "          const element = document.querySelector('#df-3aebc153-d2a7-4147-adae-eaeb2b8af3d1');\n",
              "          const dataTable =\n",
              "            await google.colab.kernel.invokeFunction('convertToInteractive',\n",
              "                                                     [key], {});\n",
              "          if (!dataTable) return;\n",
              "\n",
              "          const docLinkHtml = 'Like what you see? Visit the ' +\n",
              "            '<a target=\"_blank\" href=https://colab.research.google.com/notebooks/data_table.ipynb>data table notebook</a>'\n",
              "            + ' to learn more about interactive tables.';\n",
              "          element.innerHTML = '';\n",
              "          dataTable['output_type'] = 'display_data';\n",
              "          await google.colab.output.renderOutput(dataTable, element);\n",
              "          const docLink = document.createElement('div');\n",
              "          docLink.innerHTML = docLinkHtml;\n",
              "          element.appendChild(docLink);\n",
              "        }\n",
              "      </script>\n",
              "    </div>\n",
              "  </div>\n",
              "  "
            ]
          },
          "metadata": {},
          "execution_count": 39
        }
      ]
    },
    {
      "cell_type": "code",
      "source": [
        "#model 6 has better performance than others"
      ],
      "metadata": {
        "id": "fpKoUKrsmFc4"
      },
      "execution_count": 40,
      "outputs": []
    },
    {
      "cell_type": "code",
      "source": [],
      "metadata": {
        "id": "rL_0U7Y4mFaf"
      },
      "execution_count": null,
      "outputs": []
    }
  ]
}